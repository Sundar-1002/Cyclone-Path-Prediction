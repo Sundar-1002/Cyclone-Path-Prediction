{
  "cells": [
    {
      "cell_type": "code",
      "execution_count": 1,
      "metadata": {
        "colab": {
          "base_uri": "https://localhost:8080/"
        },
        "id": "ba7f5MRUSyzQ",
        "outputId": "78c8b26b-12cb-428b-bafb-2fe66f035689"
      },
      "outputs": [
        {
          "name": "stdout",
          "output_type": "stream",
          "text": [
            "Collecting geopandas\n",
            "  Downloading geopandas-0.12.2-py3-none-any.whl (1.1 MB)\n",
            "     ---------------------------------------- 1.1/1.1 MB 13.3 MB/s eta 0:00:00\n",
            "Collecting pyproj>=2.6.1.post1\n",
            "  Downloading pyproj-3.4.1-cp310-cp310-win_amd64.whl (4.8 MB)\n",
            "     ---------------------------------------- 4.8/4.8 MB 19.3 MB/s eta 0:00:00\n",
            "Collecting fiona>=1.8\n",
            "  Downloading Fiona-1.9.1-cp310-cp310-win_amd64.whl (21.9 MB)\n",
            "     --------------------------------------- 21.9/21.9 MB 17.7 MB/s eta 0:00:00\n",
            "Collecting shapely>=1.7\n",
            "  Downloading shapely-2.0.1-cp310-cp310-win_amd64.whl (1.4 MB)\n",
            "     ---------------------------------------- 1.4/1.4 MB 17.4 MB/s eta 0:00:00\n",
            "Collecting pandas>=1.0.0\n",
            "  Downloading pandas-1.5.3-cp310-cp310-win_amd64.whl (10.4 MB)\n",
            "     --------------------------------------- 10.4/10.4 MB 22.6 MB/s eta 0:00:00\n",
            "Requirement already satisfied: packaging in c:\\users\\lenovo\\appdata\\roaming\\python\\python310\\site-packages (from geopandas) (23.0)\n",
            "Collecting munch>=2.3.2\n",
            "  Downloading munch-2.5.0-py2.py3-none-any.whl (10 kB)\n",
            "Collecting cligj>=0.5\n",
            "  Downloading cligj-0.7.2-py3-none-any.whl (7.1 kB)\n",
            "Requirement already satisfied: certifi in c:\\users\\lenovo\\appdata\\local\\programs\\python\\python310\\lib\\site-packages (from fiona>=1.8->geopandas) (2022.12.7)\n",
            "Requirement already satisfied: setuptools in c:\\users\\lenovo\\appdata\\local\\programs\\python\\python310\\lib\\site-packages (from fiona>=1.8->geopandas) (58.1.0)\n",
            "Collecting click-plugins>=1.0\n",
            "  Downloading click_plugins-1.1.1-py2.py3-none-any.whl (7.5 kB)\n",
            "Collecting attrs>=19.2.0\n",
            "  Downloading attrs-22.2.0-py3-none-any.whl (60 kB)\n",
            "     ---------------------------------------- 60.0/60.0 kB ? eta 0:00:00\n",
            "Requirement already satisfied: click~=8.0 in c:\\users\\lenovo\\appdata\\local\\programs\\python\\python310\\lib\\site-packages (from fiona>=1.8->geopandas) (8.1.3)\n",
            "Collecting pytz>=2020.1\n",
            "  Downloading pytz-2022.7.1-py2.py3-none-any.whl (499 kB)\n",
            "     ------------------------------------- 499.4/499.4 kB 15.3 MB/s eta 0:00:00\n",
            "Collecting numpy>=1.21.0\n",
            "  Downloading numpy-1.24.2-cp310-cp310-win_amd64.whl (14.8 MB)\n",
            "     --------------------------------------- 14.8/14.8 MB 20.4 MB/s eta 0:00:00\n",
            "Requirement already satisfied: python-dateutil>=2.8.1 in c:\\users\\lenovo\\appdata\\roaming\\python\\python310\\site-packages (from pandas>=1.0.0->geopandas) (2.8.2)\n",
            "Requirement already satisfied: colorama in c:\\users\\lenovo\\appdata\\local\\programs\\python\\python310\\lib\\site-packages (from click~=8.0->fiona>=1.8->geopandas) (0.4.5)\n",
            "Requirement already satisfied: six in c:\\users\\lenovo\\appdata\\roaming\\python\\python310\\site-packages (from munch>=2.3.2->fiona>=1.8->geopandas) (1.16.0)\n",
            "Installing collected packages: pytz, pyproj, numpy, munch, attrs, shapely, pandas, cligj, click-plugins, fiona, geopandas\n",
            "Successfully installed attrs-22.2.0 click-plugins-1.1.1 cligj-0.7.2 fiona-1.9.1 geopandas-0.12.2 munch-2.5.0 numpy-1.24.2 pandas-1.5.3 pyproj-3.4.1 pytz-2022.7.1 shapely-2.0.1\n",
            "Note: you may need to restart the kernel to use updated packages.\n"
          ]
        },
        {
          "name": "stderr",
          "output_type": "stream",
          "text": [
            "\n",
            "[notice] A new release of pip available: 22.3.1 -> 23.0.1\n",
            "[notice] To update, run: python.exe -m pip install --upgrade pip\n"
          ]
        }
      ],
      "source": [
        "%pip install geopandas"
      ]
    },
    {
      "cell_type": "code",
      "execution_count": 2,
      "metadata": {},
      "outputs": [
        {
          "name": "stdout",
          "output_type": "stream",
          "text": [
            "Collecting matplotlib\n",
            "  Downloading matplotlib-3.7.0-cp310-cp310-win_amd64.whl (7.6 MB)\n",
            "     ---------------------------------------- 7.6/7.6 MB 17.5 MB/s eta 0:00:00\n",
            "Collecting fonttools>=4.22.0\n",
            "  Downloading fonttools-4.38.0-py3-none-any.whl (965 kB)\n",
            "     ------------------------------------- 965.4/965.4 kB 20.3 MB/s eta 0:00:00\n",
            "Collecting pyparsing>=2.3.1\n",
            "  Downloading pyparsing-3.0.9-py3-none-any.whl (98 kB)\n",
            "     ---------------------------------------- 98.3/98.3 kB ? eta 0:00:00\n",
            "Requirement already satisfied: numpy>=1.20 in c:\\users\\lenovo\\appdata\\local\\programs\\python\\python310\\lib\\site-packages (from matplotlib) (1.24.2)\n",
            "Collecting cycler>=0.10\n",
            "  Downloading cycler-0.11.0-py3-none-any.whl (6.4 kB)\n",
            "Collecting contourpy>=1.0.1\n",
            "  Downloading contourpy-1.0.7-cp310-cp310-win_amd64.whl (162 kB)\n",
            "     ---------------------------------------- 163.0/163.0 kB ? eta 0:00:00\n",
            "Collecting pillow>=6.2.0\n",
            "  Downloading Pillow-9.4.0-cp310-cp310-win_amd64.whl (2.5 MB)\n",
            "     ---------------------------------------- 2.5/2.5 MB 22.4 MB/s eta 0:00:00\n",
            "Requirement already satisfied: python-dateutil>=2.7 in c:\\users\\lenovo\\appdata\\roaming\\python\\python310\\site-packages (from matplotlib) (2.8.2)\n",
            "Requirement already satisfied: packaging>=20.0 in c:\\users\\lenovo\\appdata\\roaming\\python\\python310\\site-packages (from matplotlib) (23.0)\n",
            "Collecting kiwisolver>=1.0.1\n",
            "  Downloading kiwisolver-1.4.4-cp310-cp310-win_amd64.whl (55 kB)\n",
            "     ---------------------------------------- 55.3/55.3 kB 3.0 MB/s eta 0:00:00\n",
            "Requirement already satisfied: six>=1.5 in c:\\users\\lenovo\\appdata\\roaming\\python\\python310\\site-packages (from python-dateutil>=2.7->matplotlib) (1.16.0)\n",
            "Installing collected packages: pyparsing, pillow, kiwisolver, fonttools, cycler, contourpy, matplotlib\n",
            "Successfully installed contourpy-1.0.7 cycler-0.11.0 fonttools-4.38.0 kiwisolver-1.4.4 matplotlib-3.7.0 pillow-9.4.0 pyparsing-3.0.9\n",
            "Note: you may need to restart the kernel to use updated packages.\n"
          ]
        },
        {
          "name": "stderr",
          "output_type": "stream",
          "text": [
            "\n",
            "[notice] A new release of pip available: 22.3.1 -> 23.0.1\n",
            "[notice] To update, run: python.exe -m pip install --upgrade pip\n"
          ]
        },
        {
          "name": "stdout",
          "output_type": "stream",
          "text": [
            "Collecting kerasNote: you may need to restart the kernel to use updated packages.\n",
            "\n",
            "  Downloading keras-2.11.0-py2.py3-none-any.whl (1.7 MB)\n",
            "     ---------------------------------------- 1.7/1.7 MB 9.8 MB/s eta 0:00:00\n",
            "Installing collected packages: keras\n",
            "Successfully installed keras-2.11.0\n"
          ]
        },
        {
          "name": "stderr",
          "output_type": "stream",
          "text": [
            "\n",
            "[notice] A new release of pip available: 22.3.1 -> 23.0.1\n",
            "[notice] To update, run: python.exe -m pip install --upgrade pip\n"
          ]
        }
      ],
      "source": [
        "%pip install matplotlib\n",
        "%pip install keras"
      ]
    },
    {
      "cell_type": "code",
      "execution_count": 4,
      "metadata": {
        "id": "3U70Kl2PQ3yR"
      },
      "outputs": [],
      "source": [
        "import numpy as np\n",
        "import pandas as pd\n",
        "import geopandas as gpd\n",
        "import matplotlib.pyplot as plt\n",
        "import warnings\n",
        "import copy\n",
        "warnings.simplefilter(\"ignore\")\n",
        "plt.style.use(\"bmh\")\n",
        "from keras.metrics.metrics import mean_squared_error"
      ]
    },
    {
      "cell_type": "code",
      "execution_count": 5,
      "metadata": {
        "id": "qfuLl3Y7TepY"
      },
      "outputs": [],
      "source": [
        "df = pd.read_csv('myvalues.csv')"
      ]
    },
    {
      "cell_type": "code",
      "execution_count": 6,
      "metadata": {
        "colab": {
          "base_uri": "https://localhost:8080/",
          "height": 206
        },
        "id": "dN3JCwXFVOYN",
        "outputId": "bdbd7f6a-24de-4cb4-bfb0-c8a5994db37b"
      },
      "outputs": [
        {
          "data": {
            "text/html": [
              "<div>\n",
              "<style scoped>\n",
              "    .dataframe tbody tr th:only-of-type {\n",
              "        vertical-align: middle;\n",
              "    }\n",
              "\n",
              "    .dataframe tbody tr th {\n",
              "        vertical-align: top;\n",
              "    }\n",
              "\n",
              "    .dataframe thead th {\n",
              "        text-align: right;\n",
              "    }\n",
              "</style>\n",
              "<table border=\"1\" class=\"dataframe\">\n",
              "  <thead>\n",
              "    <tr style=\"text-align: right;\">\n",
              "      <th></th>\n",
              "      <th>CycloneName</th>\n",
              "      <th>DateTime</th>\n",
              "      <th>Type</th>\n",
              "      <th>Latitude</th>\n",
              "      <th>Longitude</th>\n",
              "      <th>Maximum Wind</th>\n",
              "    </tr>\n",
              "  </thead>\n",
              "  <tbody>\n",
              "    <tr>\n",
              "      <th>0</th>\n",
              "      <td>Tropical Cyclone Dingani</td>\n",
              "      <td>2023-02-09T06:00:00Z</td>\n",
              "      <td>Point</td>\n",
              "      <td>89.1</td>\n",
              "      <td>-16.9</td>\n",
              "      <td>40.0</td>\n",
              "    </tr>\n",
              "    <tr>\n",
              "      <th>1</th>\n",
              "      <td>Tropical Cyclone Dingani</td>\n",
              "      <td>2023-02-09T12:00:00Z</td>\n",
              "      <td>Point</td>\n",
              "      <td>87.7</td>\n",
              "      <td>-16.6</td>\n",
              "      <td>40.0</td>\n",
              "    </tr>\n",
              "    <tr>\n",
              "      <th>2</th>\n",
              "      <td>Tropical Cyclone Dingani</td>\n",
              "      <td>2023-02-09T18:00:00Z</td>\n",
              "      <td>Point</td>\n",
              "      <td>86.3</td>\n",
              "      <td>-16.3</td>\n",
              "      <td>40.0</td>\n",
              "    </tr>\n",
              "    <tr>\n",
              "      <th>3</th>\n",
              "      <td>Tropical Cyclone Dingani</td>\n",
              "      <td>2023-02-10T00:00:00Z</td>\n",
              "      <td>Point</td>\n",
              "      <td>85.0</td>\n",
              "      <td>-16.2</td>\n",
              "      <td>45.0</td>\n",
              "    </tr>\n",
              "    <tr>\n",
              "      <th>4</th>\n",
              "      <td>Tropical Cyclone Dingani</td>\n",
              "      <td>2023-02-10T06:00:00Z</td>\n",
              "      <td>Point</td>\n",
              "      <td>83.6</td>\n",
              "      <td>-16.3</td>\n",
              "      <td>45.0</td>\n",
              "    </tr>\n",
              "  </tbody>\n",
              "</table>\n",
              "</div>"
            ],
            "text/plain": [
              "                CycloneName              DateTime   Type  Latitude  Longitude  \\\n",
              "0  Tropical Cyclone Dingani  2023-02-09T06:00:00Z  Point      89.1      -16.9   \n",
              "1  Tropical Cyclone Dingani  2023-02-09T12:00:00Z  Point      87.7      -16.6   \n",
              "2  Tropical Cyclone Dingani  2023-02-09T18:00:00Z  Point      86.3      -16.3   \n",
              "3  Tropical Cyclone Dingani  2023-02-10T00:00:00Z  Point      85.0      -16.2   \n",
              "4  Tropical Cyclone Dingani  2023-02-10T06:00:00Z  Point      83.6      -16.3   \n",
              "\n",
              "   Maximum Wind  \n",
              "0          40.0  \n",
              "1          40.0  \n",
              "2          40.0  \n",
              "3          45.0  \n",
              "4          45.0  "
            ]
          },
          "execution_count": 6,
          "metadata": {},
          "output_type": "execute_result"
        }
      ],
      "source": [
        "df.head()"
      ]
    },
    {
      "cell_type": "code",
      "execution_count": 7,
      "metadata": {
        "id": "B552oDBHB24W"
      },
      "outputs": [],
      "source": [
        "df['DateTime']=pd.to_datetime(df['DateTime'])"
      ]
    },
    {
      "cell_type": "code",
      "execution_count": 8,
      "metadata": {
        "id": "ZY8-bZREB5TN"
      },
      "outputs": [],
      "source": [
        "df['Date'] = df.DateTime.dt.date\n",
        "df['Time'] = df.DateTime.dt.time"
      ]
    },
    {
      "cell_type": "code",
      "execution_count": 9,
      "metadata": {
        "id": "lxlZ8sprULN9"
      },
      "outputs": [],
      "source": [
        "df[\"Date\"] = df[\"Date\"].astype(\"object\")\n",
        "for i, date_str in enumerate(df[\"Date\"].unique()):\n",
        "    df.loc[df[\"Date\"]==date_str, \"Date\"] = f\"{str(date_str)[0:4]}-{str(date_str)[4:6]}-{str(date_str)[6:]}\""
      ]
    },
    {
      "cell_type": "code",
      "execution_count": 10,
      "metadata": {
        "colab": {
          "base_uri": "https://localhost:8080/"
        },
        "id": "Aaw7UCWqUqjj",
        "outputId": "fd2ca8eb-89cf-47a8-9ecb-3c7e438e881f"
      },
      "outputs": [
        {
          "name": "stdout",
          "output_type": "stream",
          "text": [
            "Dataset contains data of 1 individual storms from 2023 to 2023.\n"
          ]
        }
      ],
      "source": [
        "print(f\"Dataset contains data of {df['CycloneName'].unique().shape[0]} individual storms from {df['DateTime'].dt.year.min()} to {df['DateTime'].dt.year.max()}.\")"
      ]
    },
    {
      "cell_type": "code",
      "execution_count": 11,
      "metadata": {
        "id": "uiY84mz9VnHj"
      },
      "outputs": [],
      "source": [
        "def coordinate_mapping(x):\n",
        "    coord = float(x[:-1])\n",
        "    if x[-1]==\"W\":\n",
        "        coord *= -1\n",
        "    if x[-1]==\"S\":\n",
        "        coord *= -1\n",
        "    return coord"
      ]
    },
    {
      "cell_type": "code",
      "execution_count": 12,
      "metadata": {
        "colab": {
          "base_uri": "https://localhost:8080/"
        },
        "id": "i1t2e8t1V29M",
        "outputId": "f782a762-19da-4366-a2b4-c66b9d184b96"
      },
      "outputs": [
        {
          "name": "stdout",
          "output_type": "stream",
          "text": [
            "Min. Long.: -31.0 Max. Long.: -15.5 Min. Lat.: 67.4 Max. Lat.: 89.1\n"
          ]
        }
      ],
      "source": [
        "print(\"Min. Long.:\", df.Longitude.min(), \"Max. Long.:\", df.Longitude.max(), \"Min. Lat.:\", df.Latitude.min(), \"Max. Lat.:\", df.Latitude.max())"
      ]
    },
    {
      "cell_type": "code",
      "execution_count": 13,
      "metadata": {
        "id": "uxyhqUGrWCvp"
      },
      "outputs": [],
      "source": [
        "df.loc[df.Longitude<-180, \"Longitude\"] = df.Longitude+360"
      ]
    },
    {
      "cell_type": "code",
      "execution_count": 14,
      "metadata": {
        "id": "okQ4Gbi8WMm5"
      },
      "outputs": [],
      "source": [
        "gdf = gpd.GeoDataFrame(df,geometry=gpd.points_from_xy(df.Longitude,df.Latitude), crs={'init' : 'epsg:4326'})"
      ]
    },
    {
      "cell_type": "code",
      "execution_count": 15,
      "metadata": {
        "colab": {
          "base_uri": "https://localhost:8080/"
        },
        "id": "thK6rEiLWWHu",
        "outputId": "58143113-bb9d-4a45-d099-8b4e18029ff5"
      },
      "outputs": [
        {
          "data": {
            "text/plain": [
              "<Geographic 2D CRS: +init=epsg:4326 +type=crs>\n",
              "Name: WGS 84\n",
              "Axis Info [ellipsoidal]:\n",
              "- lon[east]: Longitude (degree)\n",
              "- lat[north]: Latitude (degree)\n",
              "Area of Use:\n",
              "- name: World.\n",
              "- bounds: (-180.0, -90.0, 180.0, 90.0)\n",
              "Datum: World Geodetic System 1984 ensemble\n",
              "- Ellipsoid: WGS 84\n",
              "- Prime Meridian: Greenwich"
            ]
          },
          "execution_count": 15,
          "metadata": {},
          "output_type": "execute_result"
        }
      ],
      "source": [
        "gdf.crs"
      ]
    },
    {
      "cell_type": "code",
      "execution_count": 16,
      "metadata": {
        "id": "cwmazGzTWXw3"
      },
      "outputs": [],
      "source": [
        "world = gpd.read_file(gpd.datasets.get_path(\"naturalearth_lowres\"))"
      ]
    },
    {
      "cell_type": "code",
      "execution_count": 20,
      "metadata": {},
      "outputs": [],
      "source": [
        "name = df['CycloneName']"
      ]
    },
    {
      "cell_type": "code",
      "execution_count": 21,
      "metadata": {
        "colab": {
          "base_uri": "https://localhost:8080/",
          "height": 701
        },
        "id": "59paSWC_W83f",
        "outputId": "3ca764fb-6bd2-4527-ab5d-cffeedbda9a6"
      },
      "outputs": [
        {
          "data": {
            "image/png": "[encoded data removed]",
            "text/plain": [
              "<Figure size 2500x1200 with 1 Axes>"
            ]
          },
          "metadata": {},
          "output_type": "display_data"
        }
      ],
      "source": [
        "ax = world.plot(color=\"white\", edgecolor=\"black\", figsize=(25,12))\n",
        "_ = gdf[gdf[\"CycloneName\"]==name].plot(ax=ax, c=\"r\", markersize=\"Maximum Wind\", alpha=0.5)\n",
        "_ = plt.xlim(-120, 20)\n",
        "_ = plt.ylim(-10, 60)"
      ]
    },
    {
      "cell_type": "code",
      "execution_count": null,
      "metadata": {
        "colab": {
          "base_uri": "https://localhost:8080/",
          "height": 206
        },
        "id": "0tfzm279p9cp",
        "outputId": "47b2dd9b-de56-42f3-eb1a-35fa3808bdfe"
      },
      "outputs": [
        {
          "data": {
            "text/html": [
              "\n",
              "  <div id=\"df-45c83f8b-f4cd-4e7a-bfbc-0f844e8584ee\">\n",
              "    <div class=\"colab-df-container\">\n",
              "      <div>\n",
              "<style scoped>\n",
              "    .dataframe tbody tr th:only-of-type {\n",
              "        vertical-align: middle;\n",
              "    }\n",
              "\n",
              "    .dataframe tbody tr th {\n",
              "        vertical-align: top;\n",
              "    }\n",
              "\n",
              "    .dataframe thead th {\n",
              "        text-align: right;\n",
              "    }\n",
              "</style>\n",
              "<table border=\"1\" class=\"dataframe\">\n",
              "  <thead>\n",
              "    <tr style=\"text-align: right;\">\n",
              "      <th></th>\n",
              "      <th>CycloneName</th>\n",
              "      <th>DateTime</th>\n",
              "      <th>Type</th>\n",
              "      <th>Latitude</th>\n",
              "      <th>Longitude</th>\n",
              "      <th>Maximum Wind</th>\n",
              "      <th>Date</th>\n",
              "      <th>Time</th>\n",
              "      <th>geometry</th>\n",
              "    </tr>\n",
              "  </thead>\n",
              "  <tbody>\n",
              "    <tr>\n",
              "      <th>0</th>\n",
              "      <td>Tropical Cyclone Cheneso</td>\n",
              "      <td>2023-01-17 18:00:00+00:00</td>\n",
              "      <td>Point</td>\n",
              "      <td>58.0</td>\n",
              "      <td>-14.1</td>\n",
              "      <td>35</td>\n",
              "      <td>2023--0-1-17</td>\n",
              "      <td>18:00:00</td>\n",
              "      <td>POINT (-14.10000 58.00000)</td>\n",
              "    </tr>\n",
              "    <tr>\n",
              "      <th>1</th>\n",
              "      <td>Tropical Cyclone Cheneso</td>\n",
              "      <td>2023-01-18 00:00:00+00:00</td>\n",
              "      <td>Point</td>\n",
              "      <td>56.2</td>\n",
              "      <td>-14.1</td>\n",
              "      <td>40</td>\n",
              "      <td>2023--0-1-18</td>\n",
              "      <td>00:00:00</td>\n",
              "      <td>POINT (-14.10000 56.20000)</td>\n",
              "    </tr>\n",
              "    <tr>\n",
              "      <th>2</th>\n",
              "      <td>Tropical Cyclone Cheneso</td>\n",
              "      <td>2023-01-18 06:00:00+00:00</td>\n",
              "      <td>Point</td>\n",
              "      <td>54.3</td>\n",
              "      <td>-13.8</td>\n",
              "      <td>40</td>\n",
              "      <td>2023--0-1-18</td>\n",
              "      <td>06:00:00</td>\n",
              "      <td>POINT (-13.80000 54.30000)</td>\n",
              "    </tr>\n",
              "    <tr>\n",
              "      <th>3</th>\n",
              "      <td>Tropical Cyclone Cheneso</td>\n",
              "      <td>2023-01-18 12:00:00+00:00</td>\n",
              "      <td>Point</td>\n",
              "      <td>52.6</td>\n",
              "      <td>-13.6</td>\n",
              "      <td>50</td>\n",
              "      <td>2023--0-1-18</td>\n",
              "      <td>12:00:00</td>\n",
              "      <td>POINT (-13.60000 52.60000)</td>\n",
              "    </tr>\n",
              "    <tr>\n",
              "      <th>4</th>\n",
              "      <td>Tropical Cyclone Cheneso</td>\n",
              "      <td>2023-01-18 18:00:00+00:00</td>\n",
              "      <td>Point</td>\n",
              "      <td>51.7</td>\n",
              "      <td>-13.5</td>\n",
              "      <td>55</td>\n",
              "      <td>2023--0-1-18</td>\n",
              "      <td>18:00:00</td>\n",
              "      <td>POINT (-13.50000 51.70000)</td>\n",
              "    </tr>\n",
              "  </tbody>\n",
              "</table>\n",
              "</div>\n",
              "      <button class=\"colab-df-convert\" onclick=\"convertToInteractive('df-45c83f8b-f4cd-4e7a-bfbc-0f844e8584ee')\"\n",
              "              title=\"Convert this dataframe to an interactive table.\"\n",
              "              style=\"display:none;\">\n",
              "        \n",
              "  <svg xmlns=\"http://www.w3.org/2000/svg\" height=\"24px\"viewBox=\"0 0 24 24\"\n",
              "       width=\"24px\">\n",
              "    <path d=\"M0 0h24v24H0V0z\" fill=\"none\"/>\n",
              "    <path d=\"M18.56 5.44l.94 2.06.94-2.06 2.06-.94-2.06-.94-.94-2.06-.94 2.06-2.06.94zm-11 1L8.5 8.5l.94-2.06 2.06-.94-2.06-.94L8.5 2.5l-.94 2.06-2.06.94zm10 10l.94 2.06.94-2.06 2.06-.94-2.06-.94-.94-2.06-.94 2.06-2.06.94z\"/><path d=\"M17.41 7.96l-1.37-1.37c-.4-.4-.92-.59-1.43-.59-.52 0-1.04.2-1.43.59L10.3 9.45l-7.72 7.72c-.78.78-.78 2.05 0 2.83L4 21.41c.39.39.9.59 1.41.59.51 0 1.02-.2 1.41-.59l7.78-7.78 2.81-2.81c.8-.78.8-2.07 0-2.86zM5.41 20L4 18.59l7.72-7.72 1.47 1.35L5.41 20z\"/>\n",
              "  </svg>\n",
              "      </button>\n",
              "      \n",
              "  <style>\n",
              "    .colab-df-container {\n",
              "      display:flex;\n",
              "      flex-wrap:wrap;\n",
              "      gap: 12px;\n",
              "    }\n",
              "\n",
              "    .colab-df-convert {\n",
              "      background-color: #E8F0FE;\n",
              "      border: none;\n",
              "      border-radius: 50%;\n",
              "      cursor: pointer;\n",
              "      display: none;\n",
              "      fill: #1967D2;\n",
              "      height: 32px;\n",
              "      padding: 0 0 0 0;\n",
              "      width: 32px;\n",
              "    }\n",
              "\n",
              "    .colab-df-convert:hover {\n",
              "      background-color: #E2EBFA;\n",
              "      box-shadow: 0px 1px 2px rgba(60, 64, 67, 0.3), 0px 1px 3px 1px rgba(60, 64, 67, 0.15);\n",
              "      fill: #174EA6;\n",
              "    }\n",
              "\n",
              "    [theme=dark] .colab-df-convert {\n",
              "      background-color: #3B4455;\n",
              "      fill: #D2E3FC;\n",
              "    }\n",
              "\n",
              "    [theme=dark] .colab-df-convert:hover {\n",
              "      background-color: #434B5C;\n",
              "      box-shadow: 0px 1px 3px 1px rgba(0, 0, 0, 0.15);\n",
              "      filter: drop-shadow(0px 1px 2px rgba(0, 0, 0, 0.3));\n",
              "      fill: #FFFFFF;\n",
              "    }\n",
              "  </style>\n",
              "\n",
              "      <script>\n",
              "        const buttonEl =\n",
              "          document.querySelector('#df-45c83f8b-f4cd-4e7a-bfbc-0f844e8584ee button.colab-df-convert');\n",
              "        buttonEl.style.display =\n",
              "          google.colab.kernel.accessAllowed ? 'block' : 'none';\n",
              "\n",
              "        async function convertToInteractive(key) {\n",
              "          const element = document.querySelector('#df-45c83f8b-f4cd-4e7a-bfbc-0f844e8584ee');\n",
              "          const dataTable =\n",
              "            await google.colab.kernel.invokeFunction('convertToInteractive',\n",
              "                                                     [key], {});\n",
              "          if (!dataTable) return;\n",
              "\n",
              "          const docLinkHtml = 'Like what you see? Visit the ' +\n",
              "            '<a target=\"_blank\" href=https://colab.research.google.com/notebooks/data_table.ipynb>data table notebook</a>'\n",
              "            + ' to learn more about interactive tables.';\n",
              "          element.innerHTML = '';\n",
              "          dataTable['output_type'] = 'display_data';\n",
              "          await google.colab.output.renderOutput(dataTable, element);\n",
              "          const docLink = document.createElement('div');\n",
              "          docLink.innerHTML = docLinkHtml;\n",
              "          element.appendChild(docLink);\n",
              "        }\n",
              "      </script>\n",
              "    </div>\n",
              "  </div>\n",
              "  "
            ],
            "text/plain": [
              "                CycloneName                  DateTime   Type  Latitude  \\\n",
              "0  Tropical Cyclone Cheneso 2023-01-17 18:00:00+00:00  Point      58.0   \n",
              "1  Tropical Cyclone Cheneso 2023-01-18 00:00:00+00:00  Point      56.2   \n",
              "2  Tropical Cyclone Cheneso 2023-01-18 06:00:00+00:00  Point      54.3   \n",
              "3  Tropical Cyclone Cheneso 2023-01-18 12:00:00+00:00  Point      52.6   \n",
              "4  Tropical Cyclone Cheneso 2023-01-18 18:00:00+00:00  Point      51.7   \n",
              "\n",
              "   Longitude  Maximum Wind          Date      Time                    geometry  \n",
              "0      -14.1            35  2023--0-1-17  18:00:00  POINT (-14.10000 58.00000)  \n",
              "1      -14.1            40  2023--0-1-18  00:00:00  POINT (-14.10000 56.20000)  \n",
              "2      -13.8            40  2023--0-1-18  06:00:00  POINT (-13.80000 54.30000)  \n",
              "3      -13.6            50  2023--0-1-18  12:00:00  POINT (-13.60000 52.60000)  \n",
              "4      -13.5            55  2023--0-1-18  18:00:00  POINT (-13.50000 51.70000)  "
            ]
          },
          "execution_count": 17,
          "metadata": {},
          "output_type": "execute_result"
        }
      ],
      "source": [
        "gdf.head()"
      ]
    },
    {
      "cell_type": "code",
      "execution_count": null,
      "metadata": {
        "id": "Uip4O5F5XpNl"
      },
      "outputs": [],
      "source": [
        "lat_min = gdf.Latitude.min()\n",
        "long_min = gdf.Longitude.min()\n",
        "gdf[\"x\"] = gdf.Latitude-lat_min\n",
        "gdf[\"x\"] = gdf[\"x\"]/gdf[\"x\"].max()\n",
        "gdf[\"y\"] = gdf.Longitude-long_min\n",
        "gdf[\"y\"] = gdf[\"y\"]/gdf[\"y\"].max()"
      ]
    },
    {
      "cell_type": "code",
      "execution_count": null,
      "metadata": {
        "colab": {
          "base_uri": "https://localhost:8080/",
          "height": 250
        },
        "id": "6yAITQeLqmHQ",
        "outputId": "1b56935e-7597-47fa-f822-41e4544f85d1"
      },
      "outputs": [
        {
          "data": {
            "text/html": [
              "\n",
              "  <div id=\"df-b8ae004f-a7b7-4764-892f-67db6bf62277\">\n",
              "    <div class=\"colab-df-container\">\n",
              "      <div>\n",
              "<style scoped>\n",
              "    .dataframe tbody tr th:only-of-type {\n",
              "        vertical-align: middle;\n",
              "    }\n",
              "\n",
              "    .dataframe tbody tr th {\n",
              "        vertical-align: top;\n",
              "    }\n",
              "\n",
              "    .dataframe thead th {\n",
              "        text-align: right;\n",
              "    }\n",
              "</style>\n",
              "<table border=\"1\" class=\"dataframe\">\n",
              "  <thead>\n",
              "    <tr style=\"text-align: right;\">\n",
              "      <th></th>\n",
              "      <th>CycloneName</th>\n",
              "      <th>DateTime</th>\n",
              "      <th>Type</th>\n",
              "      <th>Latitude</th>\n",
              "      <th>Longitude</th>\n",
              "      <th>Maximum Wind</th>\n",
              "      <th>Date</th>\n",
              "      <th>Time</th>\n",
              "      <th>geometry</th>\n",
              "      <th>x</th>\n",
              "      <th>y</th>\n",
              "    </tr>\n",
              "  </thead>\n",
              "  <tbody>\n",
              "    <tr>\n",
              "      <th>0</th>\n",
              "      <td>Tropical Cyclone Cheneso</td>\n",
              "      <td>2023-01-17 18:00:00+00:00</td>\n",
              "      <td>Point</td>\n",
              "      <td>58.0</td>\n",
              "      <td>-14.1</td>\n",
              "      <td>35</td>\n",
              "      <td>2023--0-1-17</td>\n",
              "      <td>18:00:00</td>\n",
              "      <td>POINT (-14.10000 58.00000)</td>\n",
              "      <td>1.000000</td>\n",
              "      <td>0.968912</td>\n",
              "    </tr>\n",
              "    <tr>\n",
              "      <th>1</th>\n",
              "      <td>Tropical Cyclone Cheneso</td>\n",
              "      <td>2023-01-18 00:00:00+00:00</td>\n",
              "      <td>Point</td>\n",
              "      <td>56.2</td>\n",
              "      <td>-14.1</td>\n",
              "      <td>40</td>\n",
              "      <td>2023--0-1-18</td>\n",
              "      <td>00:00:00</td>\n",
              "      <td>POINT (-14.10000 56.20000)</td>\n",
              "      <td>0.892216</td>\n",
              "      <td>0.968912</td>\n",
              "    </tr>\n",
              "    <tr>\n",
              "      <th>2</th>\n",
              "      <td>Tropical Cyclone Cheneso</td>\n",
              "      <td>2023-01-18 06:00:00+00:00</td>\n",
              "      <td>Point</td>\n",
              "      <td>54.3</td>\n",
              "      <td>-13.8</td>\n",
              "      <td>40</td>\n",
              "      <td>2023--0-1-18</td>\n",
              "      <td>06:00:00</td>\n",
              "      <td>POINT (-13.80000 54.30000)</td>\n",
              "      <td>0.778443</td>\n",
              "      <td>0.984456</td>\n",
              "    </tr>\n",
              "    <tr>\n",
              "      <th>3</th>\n",
              "      <td>Tropical Cyclone Cheneso</td>\n",
              "      <td>2023-01-18 12:00:00+00:00</td>\n",
              "      <td>Point</td>\n",
              "      <td>52.6</td>\n",
              "      <td>-13.6</td>\n",
              "      <td>50</td>\n",
              "      <td>2023--0-1-18</td>\n",
              "      <td>12:00:00</td>\n",
              "      <td>POINT (-13.60000 52.60000)</td>\n",
              "      <td>0.676647</td>\n",
              "      <td>0.994819</td>\n",
              "    </tr>\n",
              "    <tr>\n",
              "      <th>4</th>\n",
              "      <td>Tropical Cyclone Cheneso</td>\n",
              "      <td>2023-01-18 18:00:00+00:00</td>\n",
              "      <td>Point</td>\n",
              "      <td>51.7</td>\n",
              "      <td>-13.5</td>\n",
              "      <td>55</td>\n",
              "      <td>2023--0-1-18</td>\n",
              "      <td>18:00:00</td>\n",
              "      <td>POINT (-13.50000 51.70000)</td>\n",
              "      <td>0.622754</td>\n",
              "      <td>1.000000</td>\n",
              "    </tr>\n",
              "  </tbody>\n",
              "</table>\n",
              "</div>\n",
              "      <button class=\"colab-df-convert\" onclick=\"convertToInteractive('df-b8ae004f-a7b7-4764-892f-67db6bf62277')\"\n",
              "              title=\"Convert this dataframe to an interactive table.\"\n",
              "              style=\"display:none;\">\n",
              "        \n",
              "  <svg xmlns=\"http://www.w3.org/2000/svg\" height=\"24px\"viewBox=\"0 0 24 24\"\n",
              "       width=\"24px\">\n",
              "    <path d=\"M0 0h24v24H0V0z\" fill=\"none\"/>\n",
              "    <path d=\"M18.56 5.44l.94 2.06.94-2.06 2.06-.94-2.06-.94-.94-2.06-.94 2.06-2.06.94zm-11 1L8.5 8.5l.94-2.06 2.06-.94-2.06-.94L8.5 2.5l-.94 2.06-2.06.94zm10 10l.94 2.06.94-2.06 2.06-.94-2.06-.94-.94-2.06-.94 2.06-2.06.94z\"/><path d=\"M17.41 7.96l-1.37-1.37c-.4-.4-.92-.59-1.43-.59-.52 0-1.04.2-1.43.59L10.3 9.45l-7.72 7.72c-.78.78-.78 2.05 0 2.83L4 21.41c.39.39.9.59 1.41.59.51 0 1.02-.2 1.41-.59l7.78-7.78 2.81-2.81c.8-.78.8-2.07 0-2.86zM5.41 20L4 18.59l7.72-7.72 1.47 1.35L5.41 20z\"/>\n",
              "  </svg>\n",
              "      </button>\n",
              "      \n",
              "  <style>\n",
              "    .colab-df-container {\n",
              "      display:flex;\n",
              "      flex-wrap:wrap;\n",
              "      gap: 12px;\n",
              "    }\n",
              "\n",
              "    .colab-df-convert {\n",
              "      background-color: #E8F0FE;\n",
              "      border: none;\n",
              "      border-radius: 50%;\n",
              "      cursor: pointer;\n",
              "      display: none;\n",
              "      fill: #1967D2;\n",
              "      height: 32px;\n",
              "      padding: 0 0 0 0;\n",
              "      width: 32px;\n",
              "    }\n",
              "\n",
              "    .colab-df-convert:hover {\n",
              "      background-color: #E2EBFA;\n",
              "      box-shadow: 0px 1px 2px rgba(60, 64, 67, 0.3), 0px 1px 3px 1px rgba(60, 64, 67, 0.15);\n",
              "      fill: #174EA6;\n",
              "    }\n",
              "\n",
              "    [theme=dark] .colab-df-convert {\n",
              "      background-color: #3B4455;\n",
              "      fill: #D2E3FC;\n",
              "    }\n",
              "\n",
              "    [theme=dark] .colab-df-convert:hover {\n",
              "      background-color: #434B5C;\n",
              "      box-shadow: 0px 1px 3px 1px rgba(0, 0, 0, 0.15);\n",
              "      filter: drop-shadow(0px 1px 2px rgba(0, 0, 0, 0.3));\n",
              "      fill: #FFFFFF;\n",
              "    }\n",
              "  </style>\n",
              "\n",
              "      <script>\n",
              "        const buttonEl =\n",
              "          document.querySelector('#df-b8ae004f-a7b7-4764-892f-67db6bf62277 button.colab-df-convert');\n",
              "        buttonEl.style.display =\n",
              "          google.colab.kernel.accessAllowed ? 'block' : 'none';\n",
              "\n",
              "        async function convertToInteractive(key) {\n",
              "          const element = document.querySelector('#df-b8ae004f-a7b7-4764-892f-67db6bf62277');\n",
              "          const dataTable =\n",
              "            await google.colab.kernel.invokeFunction('convertToInteractive',\n",
              "                                                     [key], {});\n",
              "          if (!dataTable) return;\n",
              "\n",
              "          const docLinkHtml = 'Like what you see? Visit the ' +\n",
              "            '<a target=\"_blank\" href=https://colab.research.google.com/notebooks/data_table.ipynb>data table notebook</a>'\n",
              "            + ' to learn more about interactive tables.';\n",
              "          element.innerHTML = '';\n",
              "          dataTable['output_type'] = 'display_data';\n",
              "          await google.colab.output.renderOutput(dataTable, element);\n",
              "          const docLink = document.createElement('div');\n",
              "          docLink.innerHTML = docLinkHtml;\n",
              "          element.appendChild(docLink);\n",
              "        }\n",
              "      </script>\n",
              "    </div>\n",
              "  </div>\n",
              "  "
            ],
            "text/plain": [
              "                CycloneName                  DateTime   Type  Latitude  \\\n",
              "0  Tropical Cyclone Cheneso 2023-01-17 18:00:00+00:00  Point      58.0   \n",
              "1  Tropical Cyclone Cheneso 2023-01-18 00:00:00+00:00  Point      56.2   \n",
              "2  Tropical Cyclone Cheneso 2023-01-18 06:00:00+00:00  Point      54.3   \n",
              "3  Tropical Cyclone Cheneso 2023-01-18 12:00:00+00:00  Point      52.6   \n",
              "4  Tropical Cyclone Cheneso 2023-01-18 18:00:00+00:00  Point      51.7   \n",
              "\n",
              "   Longitude  Maximum Wind          Date      Time  \\\n",
              "0      -14.1            35  2023--0-1-17  18:00:00   \n",
              "1      -14.1            40  2023--0-1-18  00:00:00   \n",
              "2      -13.8            40  2023--0-1-18  06:00:00   \n",
              "3      -13.6            50  2023--0-1-18  12:00:00   \n",
              "4      -13.5            55  2023--0-1-18  18:00:00   \n",
              "\n",
              "                     geometry         x         y  \n",
              "0  POINT (-14.10000 58.00000)  1.000000  0.968912  \n",
              "1  POINT (-14.10000 56.20000)  0.892216  0.968912  \n",
              "2  POINT (-13.80000 54.30000)  0.778443  0.984456  \n",
              "3  POINT (-13.60000 52.60000)  0.676647  0.994819  \n",
              "4  POINT (-13.50000 51.70000)  0.622754  1.000000  "
            ]
          },
          "execution_count": 19,
          "metadata": {},
          "output_type": "execute_result"
        }
      ],
      "source": [
        "gdf.head()"
      ]
    },
    {
      "cell_type": "code",
      "execution_count": null,
      "metadata": {
        "id": "XdszFXs_YACi"
      },
      "outputs": [],
      "source": [
        "gdf[\"relative_time\"] = ((gdf.DateTime.dt.dayofyear+(gdf.DateTime.dt.hour/24.)+(gdf.DateTime.dt.minute/60.*24))/366.)"
      ]
    },
    {
      "cell_type": "code",
      "execution_count": null,
      "metadata": {
        "id": "wBqEUlY4YCfc"
      },
      "outputs": [],
      "source": [
        "gdf[\"month\"] = gdf.DateTime.dt.month\n",
        "gdf[\"hour\"] = gdf.DateTime.dt.hour"
      ]
    },
    {
      "cell_type": "code",
      "execution_count": null,
      "metadata": {
        "colab": {
          "base_uri": "https://localhost:8080/",
          "height": 731
        },
        "id": "k3dQVn2vYLP_",
        "outputId": "fe37b3cd-6ebd-49c4-af84-0852660af409"
      },
      "outputs": [
        {
          "data": {
            "image/png": "[encoded data removed]",
            "text/plain": [
              "<Figure size 1440x864 with 1 Axes>"
            ]
          },
          "metadata": {
            "needs_background": "light"
          },
          "output_type": "display_data"
        }
      ],
      "source": [
        "_ = gdf.plot(x=\"relative_time\", y=\"Maximum Wind\", kind=\"scatter\", figsize=(20,12), title=\"Max. Wind vs. relative_time\")\n",
        "_ = plt.ylim(0,180)\n",
        "_ = plt.xlim(0,1)"
      ]
    },
    {
      "cell_type": "code",
      "execution_count": null,
      "metadata": {
        "colab": {
          "base_uri": "https://localhost:8080/",
          "height": 206
        },
        "id": "8VI7cfFha1oK",
        "outputId": "9c02f5e1-357f-4d6f-c6ff-3fc461062fa9"
      },
      "outputs": [
        {
          "data": {
            "text/html": [
              "\n",
              "  <div id=\"df-5b29338c-d3df-4fe1-8a4d-1f515c52dd38\">\n",
              "    <div class=\"colab-df-container\">\n",
              "      <div>\n",
              "<style scoped>\n",
              "    .dataframe tbody tr th:only-of-type {\n",
              "        vertical-align: middle;\n",
              "    }\n",
              "\n",
              "    .dataframe tbody tr th {\n",
              "        vertical-align: top;\n",
              "    }\n",
              "\n",
              "    .dataframe thead th {\n",
              "        text-align: right;\n",
              "    }\n",
              "</style>\n",
              "<table border=\"1\" class=\"dataframe\">\n",
              "  <thead>\n",
              "    <tr style=\"text-align: right;\">\n",
              "      <th></th>\n",
              "      <th>CycloneName</th>\n",
              "      <th>DateTime</th>\n",
              "      <th>Type</th>\n",
              "      <th>Latitude</th>\n",
              "      <th>Longitude</th>\n",
              "      <th>Maximum Wind</th>\n",
              "      <th>Date</th>\n",
              "      <th>Time</th>\n",
              "      <th>geometry</th>\n",
              "    </tr>\n",
              "  </thead>\n",
              "  <tbody>\n",
              "    <tr>\n",
              "      <th>0</th>\n",
              "      <td>Tropical Cyclone Cheneso</td>\n",
              "      <td>2023-01-17 18:00:00+00:00</td>\n",
              "      <td>Point</td>\n",
              "      <td>58.0</td>\n",
              "      <td>-14.1</td>\n",
              "      <td>35</td>\n",
              "      <td>2023--0-1-17</td>\n",
              "      <td>18:00:00</td>\n",
              "      <td>POINT (-14.10000 58.00000)</td>\n",
              "    </tr>\n",
              "    <tr>\n",
              "      <th>1</th>\n",
              "      <td>Tropical Cyclone Cheneso</td>\n",
              "      <td>2023-01-18 00:00:00+00:00</td>\n",
              "      <td>Point</td>\n",
              "      <td>56.2</td>\n",
              "      <td>-14.1</td>\n",
              "      <td>40</td>\n",
              "      <td>2023--0-1-18</td>\n",
              "      <td>00:00:00</td>\n",
              "      <td>POINT (-14.10000 56.20000)</td>\n",
              "    </tr>\n",
              "    <tr>\n",
              "      <th>2</th>\n",
              "      <td>Tropical Cyclone Cheneso</td>\n",
              "      <td>2023-01-18 06:00:00+00:00</td>\n",
              "      <td>Point</td>\n",
              "      <td>54.3</td>\n",
              "      <td>-13.8</td>\n",
              "      <td>40</td>\n",
              "      <td>2023--0-1-18</td>\n",
              "      <td>06:00:00</td>\n",
              "      <td>POINT (-13.80000 54.30000)</td>\n",
              "    </tr>\n",
              "    <tr>\n",
              "      <th>3</th>\n",
              "      <td>Tropical Cyclone Cheneso</td>\n",
              "      <td>2023-01-18 12:00:00+00:00</td>\n",
              "      <td>Point</td>\n",
              "      <td>52.6</td>\n",
              "      <td>-13.6</td>\n",
              "      <td>50</td>\n",
              "      <td>2023--0-1-18</td>\n",
              "      <td>12:00:00</td>\n",
              "      <td>POINT (-13.60000 52.60000)</td>\n",
              "    </tr>\n",
              "    <tr>\n",
              "      <th>4</th>\n",
              "      <td>Tropical Cyclone Cheneso</td>\n",
              "      <td>2023-01-18 18:00:00+00:00</td>\n",
              "      <td>Point</td>\n",
              "      <td>51.7</td>\n",
              "      <td>-13.5</td>\n",
              "      <td>55</td>\n",
              "      <td>2023--0-1-18</td>\n",
              "      <td>18:00:00</td>\n",
              "      <td>POINT (-13.50000 51.70000)</td>\n",
              "    </tr>\n",
              "  </tbody>\n",
              "</table>\n",
              "</div>\n",
              "      <button class=\"colab-df-convert\" onclick=\"convertToInteractive('df-5b29338c-d3df-4fe1-8a4d-1f515c52dd38')\"\n",
              "              title=\"Convert this dataframe to an interactive table.\"\n",
              "              style=\"display:none;\">\n",
              "        \n",
              "  <svg xmlns=\"http://www.w3.org/2000/svg\" height=\"24px\"viewBox=\"0 0 24 24\"\n",
              "       width=\"24px\">\n",
              "    <path d=\"M0 0h24v24H0V0z\" fill=\"none\"/>\n",
              "    <path d=\"M18.56 5.44l.94 2.06.94-2.06 2.06-.94-2.06-.94-.94-2.06-.94 2.06-2.06.94zm-11 1L8.5 8.5l.94-2.06 2.06-.94-2.06-.94L8.5 2.5l-.94 2.06-2.06.94zm10 10l.94 2.06.94-2.06 2.06-.94-2.06-.94-.94-2.06-.94 2.06-2.06.94z\"/><path d=\"M17.41 7.96l-1.37-1.37c-.4-.4-.92-.59-1.43-.59-.52 0-1.04.2-1.43.59L10.3 9.45l-7.72 7.72c-.78.78-.78 2.05 0 2.83L4 21.41c.39.39.9.59 1.41.59.51 0 1.02-.2 1.41-.59l7.78-7.78 2.81-2.81c.8-.78.8-2.07 0-2.86zM5.41 20L4 18.59l7.72-7.72 1.47 1.35L5.41 20z\"/>\n",
              "  </svg>\n",
              "      </button>\n",
              "      \n",
              "  <style>\n",
              "    .colab-df-container {\n",
              "      display:flex;\n",
              "      flex-wrap:wrap;\n",
              "      gap: 12px;\n",
              "    }\n",
              "\n",
              "    .colab-df-convert {\n",
              "      background-color: #E8F0FE;\n",
              "      border: none;\n",
              "      border-radius: 50%;\n",
              "      cursor: pointer;\n",
              "      display: none;\n",
              "      fill: #1967D2;\n",
              "      height: 32px;\n",
              "      padding: 0 0 0 0;\n",
              "      width: 32px;\n",
              "    }\n",
              "\n",
              "    .colab-df-convert:hover {\n",
              "      background-color: #E2EBFA;\n",
              "      box-shadow: 0px 1px 2px rgba(60, 64, 67, 0.3), 0px 1px 3px 1px rgba(60, 64, 67, 0.15);\n",
              "      fill: #174EA6;\n",
              "    }\n",
              "\n",
              "    [theme=dark] .colab-df-convert {\n",
              "      background-color: #3B4455;\n",
              "      fill: #D2E3FC;\n",
              "    }\n",
              "\n",
              "    [theme=dark] .colab-df-convert:hover {\n",
              "      background-color: #434B5C;\n",
              "      box-shadow: 0px 1px 3px 1px rgba(0, 0, 0, 0.15);\n",
              "      filter: drop-shadow(0px 1px 2px rgba(0, 0, 0, 0.3));\n",
              "      fill: #FFFFFF;\n",
              "    }\n",
              "  </style>\n",
              "\n",
              "      <script>\n",
              "        const buttonEl =\n",
              "          document.querySelector('#df-5b29338c-d3df-4fe1-8a4d-1f515c52dd38 button.colab-df-convert');\n",
              "        buttonEl.style.display =\n",
              "          google.colab.kernel.accessAllowed ? 'block' : 'none';\n",
              "\n",
              "        async function convertToInteractive(key) {\n",
              "          const element = document.querySelector('#df-5b29338c-d3df-4fe1-8a4d-1f515c52dd38');\n",
              "          const dataTable =\n",
              "            await google.colab.kernel.invokeFunction('convertToInteractive',\n",
              "                                                     [key], {});\n",
              "          if (!dataTable) return;\n",
              "\n",
              "          const docLinkHtml = 'Like what you see? Visit the ' +\n",
              "            '<a target=\"_blank\" href=https://colab.research.google.com/notebooks/data_table.ipynb>data table notebook</a>'\n",
              "            + ' to learn more about interactive tables.';\n",
              "          element.innerHTML = '';\n",
              "          dataTable['output_type'] = 'display_data';\n",
              "          await google.colab.output.renderOutput(dataTable, element);\n",
              "          const docLink = document.createElement('div');\n",
              "          docLink.innerHTML = docLinkHtml;\n",
              "          element.appendChild(docLink);\n",
              "        }\n",
              "      </script>\n",
              "    </div>\n",
              "  </div>\n",
              "  "
            ],
            "text/plain": [
              "                CycloneName                  DateTime   Type  Latitude  \\\n",
              "0  Tropical Cyclone Cheneso 2023-01-17 18:00:00+00:00  Point      58.0   \n",
              "1  Tropical Cyclone Cheneso 2023-01-18 00:00:00+00:00  Point      56.2   \n",
              "2  Tropical Cyclone Cheneso 2023-01-18 06:00:00+00:00  Point      54.3   \n",
              "3  Tropical Cyclone Cheneso 2023-01-18 12:00:00+00:00  Point      52.6   \n",
              "4  Tropical Cyclone Cheneso 2023-01-18 18:00:00+00:00  Point      51.7   \n",
              "\n",
              "   Longitude  Maximum Wind          Date      Time                    geometry  \n",
              "0      -14.1            35  2023--0-1-17  18:00:00  POINT (-14.10000 58.00000)  \n",
              "1      -14.1            40  2023--0-1-18  00:00:00  POINT (-14.10000 56.20000)  \n",
              "2      -13.8            40  2023--0-1-18  06:00:00  POINT (-13.80000 54.30000)  \n",
              "3      -13.6            50  2023--0-1-18  12:00:00  POINT (-13.60000 52.60000)  \n",
              "4      -13.5            55  2023--0-1-18  18:00:00  POINT (-13.50000 51.70000)  "
            ]
          },
          "execution_count": 23,
          "metadata": {},
          "output_type": "execute_result"
        }
      ],
      "source": [
        "df.head()"
      ]
    },
    {
      "cell_type": "code",
      "execution_count": null,
      "metadata": {
        "id": "wTUEYso1a6Sf"
      },
      "outputs": [],
      "source": [
        "gdf[\"vec_x\"] = np.nan\n",
        "gdf[\"vec_y\"] = np.nan\n",
        "vecs = {\"x\": [], \"y\": [], \"id\": []}\n",
        "for storm_id in gdf[\"CycloneName\"].unique():\n",
        "    last_x = 0\n",
        "    last_y = 0\n",
        "    for i, row in gdf[gdf[\"CycloneName\"]==storm_id].iterrows():\n",
        "        if last_x==0:\n",
        "            last_x = row.x\n",
        "            last_y = row.y\n",
        "        else:\n",
        "            vec_x = row.x-last_x\n",
        "            vec_y = row.y-last_y\n",
        "            vecs[\"x\"].append(vec_x)\n",
        "            vecs[\"y\"].append(vec_y)\n",
        "            vecs[\"id\"].append(i)\n",
        "            last_x = row.x\n",
        "            last_y = row.y\n",
        "gdf.loc[vecs[\"id\"], \"vec_x\"] = vecs[\"x\"]\n",
        "gdf.loc[vecs[\"id\"], \"vec_y\"] = vecs[\"y\"]"
      ]
    },
    {
      "cell_type": "code",
      "execution_count": null,
      "metadata": {
        "colab": {
          "base_uri": "https://localhost:8080/",
          "height": 441
        },
        "id": "bB34JRVwbDAg",
        "outputId": "7fd3b4f6-1da8-4448-f748-e66d0939aeae"
      },
      "outputs": [
        {
          "data": {
            "text/html": [
              "\n",
              "  <div id=\"df-3347f2bf-2333-4f51-8654-7145d4a3e744\">\n",
              "    <div class=\"colab-df-container\">\n",
              "      <div>\n",
              "<style scoped>\n",
              "    .dataframe tbody tr th:only-of-type {\n",
              "        vertical-align: middle;\n",
              "    }\n",
              "\n",
              "    .dataframe tbody tr th {\n",
              "        vertical-align: top;\n",
              "    }\n",
              "\n",
              "    .dataframe thead th {\n",
              "        text-align: right;\n",
              "    }\n",
              "</style>\n",
              "<table border=\"1\" class=\"dataframe\">\n",
              "  <thead>\n",
              "    <tr style=\"text-align: right;\">\n",
              "      <th></th>\n",
              "      <th>CycloneName</th>\n",
              "      <th>DateTime</th>\n",
              "      <th>Type</th>\n",
              "      <th>Latitude</th>\n",
              "      <th>Longitude</th>\n",
              "      <th>Maximum Wind</th>\n",
              "      <th>Date</th>\n",
              "      <th>Time</th>\n",
              "      <th>geometry</th>\n",
              "      <th>x</th>\n",
              "      <th>y</th>\n",
              "      <th>relative_time</th>\n",
              "      <th>month</th>\n",
              "      <th>hour</th>\n",
              "      <th>vec_x</th>\n",
              "      <th>vec_y</th>\n",
              "    </tr>\n",
              "  </thead>\n",
              "  <tbody>\n",
              "    <tr>\n",
              "      <th>0</th>\n",
              "      <td>Tropical Cyclone Cheneso</td>\n",
              "      <td>2023-01-17 18:00:00+00:00</td>\n",
              "      <td>Point</td>\n",
              "      <td>58.0</td>\n",
              "      <td>-14.1</td>\n",
              "      <td>35</td>\n",
              "      <td>2023--0-1-17</td>\n",
              "      <td>18:00:00</td>\n",
              "      <td>POINT (-14.10000 58.00000)</td>\n",
              "      <td>1.000000</td>\n",
              "      <td>0.968912</td>\n",
              "      <td>0.048497</td>\n",
              "      <td>1</td>\n",
              "      <td>18</td>\n",
              "      <td>NaN</td>\n",
              "      <td>NaN</td>\n",
              "    </tr>\n",
              "    <tr>\n",
              "      <th>1</th>\n",
              "      <td>Tropical Cyclone Cheneso</td>\n",
              "      <td>2023-01-18 00:00:00+00:00</td>\n",
              "      <td>Point</td>\n",
              "      <td>56.2</td>\n",
              "      <td>-14.1</td>\n",
              "      <td>40</td>\n",
              "      <td>2023--0-1-18</td>\n",
              "      <td>00:00:00</td>\n",
              "      <td>POINT (-14.10000 56.20000)</td>\n",
              "      <td>0.892216</td>\n",
              "      <td>0.968912</td>\n",
              "      <td>0.049180</td>\n",
              "      <td>1</td>\n",
              "      <td>0</td>\n",
              "      <td>-0.107784</td>\n",
              "      <td>0.000000</td>\n",
              "    </tr>\n",
              "    <tr>\n",
              "      <th>2</th>\n",
              "      <td>Tropical Cyclone Cheneso</td>\n",
              "      <td>2023-01-18 06:00:00+00:00</td>\n",
              "      <td>Point</td>\n",
              "      <td>54.3</td>\n",
              "      <td>-13.8</td>\n",
              "      <td>40</td>\n",
              "      <td>2023--0-1-18</td>\n",
              "      <td>06:00:00</td>\n",
              "      <td>POINT (-13.80000 54.30000)</td>\n",
              "      <td>0.778443</td>\n",
              "      <td>0.984456</td>\n",
              "      <td>0.049863</td>\n",
              "      <td>1</td>\n",
              "      <td>6</td>\n",
              "      <td>-0.113772</td>\n",
              "      <td>0.015544</td>\n",
              "    </tr>\n",
              "    <tr>\n",
              "      <th>3</th>\n",
              "      <td>Tropical Cyclone Cheneso</td>\n",
              "      <td>2023-01-18 12:00:00+00:00</td>\n",
              "      <td>Point</td>\n",
              "      <td>52.6</td>\n",
              "      <td>-13.6</td>\n",
              "      <td>50</td>\n",
              "      <td>2023--0-1-18</td>\n",
              "      <td>12:00:00</td>\n",
              "      <td>POINT (-13.60000 52.60000)</td>\n",
              "      <td>0.676647</td>\n",
              "      <td>0.994819</td>\n",
              "      <td>0.050546</td>\n",
              "      <td>1</td>\n",
              "      <td>12</td>\n",
              "      <td>-0.101796</td>\n",
              "      <td>0.010363</td>\n",
              "    </tr>\n",
              "    <tr>\n",
              "      <th>4</th>\n",
              "      <td>Tropical Cyclone Cheneso</td>\n",
              "      <td>2023-01-18 18:00:00+00:00</td>\n",
              "      <td>Point</td>\n",
              "      <td>51.7</td>\n",
              "      <td>-13.5</td>\n",
              "      <td>55</td>\n",
              "      <td>2023--0-1-18</td>\n",
              "      <td>18:00:00</td>\n",
              "      <td>POINT (-13.50000 51.70000)</td>\n",
              "      <td>0.622754</td>\n",
              "      <td>1.000000</td>\n",
              "      <td>0.051230</td>\n",
              "      <td>1</td>\n",
              "      <td>18</td>\n",
              "      <td>-0.053892</td>\n",
              "      <td>0.005181</td>\n",
              "    </tr>\n",
              "  </tbody>\n",
              "</table>\n",
              "</div>\n",
              "      <button class=\"colab-df-convert\" onclick=\"convertToInteractive('df-3347f2bf-2333-4f51-8654-7145d4a3e744')\"\n",
              "              title=\"Convert this dataframe to an interactive table.\"\n",
              "              style=\"display:none;\">\n",
              "        \n",
              "  <svg xmlns=\"http://www.w3.org/2000/svg\" height=\"24px\"viewBox=\"0 0 24 24\"\n",
              "       width=\"24px\">\n",
              "    <path d=\"M0 0h24v24H0V0z\" fill=\"none\"/>\n",
              "    <path d=\"M18.56 5.44l.94 2.06.94-2.06 2.06-.94-2.06-.94-.94-2.06-.94 2.06-2.06.94zm-11 1L8.5 8.5l.94-2.06 2.06-.94-2.06-.94L8.5 2.5l-.94 2.06-2.06.94zm10 10l.94 2.06.94-2.06 2.06-.94-2.06-.94-.94-2.06-.94 2.06-2.06.94z\"/><path d=\"M17.41 7.96l-1.37-1.37c-.4-.4-.92-.59-1.43-.59-.52 0-1.04.2-1.43.59L10.3 9.45l-7.72 7.72c-.78.78-.78 2.05 0 2.83L4 21.41c.39.39.9.59 1.41.59.51 0 1.02-.2 1.41-.59l7.78-7.78 2.81-2.81c.8-.78.8-2.07 0-2.86zM5.41 20L4 18.59l7.72-7.72 1.47 1.35L5.41 20z\"/>\n",
              "  </svg>\n",
              "      </button>\n",
              "      \n",
              "  <style>\n",
              "    .colab-df-container {\n",
              "      display:flex;\n",
              "      flex-wrap:wrap;\n",
              "      gap: 12px;\n",
              "    }\n",
              "\n",
              "    .colab-df-convert {\n",
              "      background-color: #E8F0FE;\n",
              "      border: none;\n",
              "      border-radius: 50%;\n",
              "      cursor: pointer;\n",
              "      display: none;\n",
              "      fill: #1967D2;\n",
              "      height: 32px;\n",
              "      padding: 0 0 0 0;\n",
              "      width: 32px;\n",
              "    }\n",
              "\n",
              "    .colab-df-convert:hover {\n",
              "      background-color: #E2EBFA;\n",
              "      box-shadow: 0px 1px 2px rgba(60, 64, 67, 0.3), 0px 1px 3px 1px rgba(60, 64, 67, 0.15);\n",
              "      fill: #174EA6;\n",
              "    }\n",
              "\n",
              "    [theme=dark] .colab-df-convert {\n",
              "      background-color: #3B4455;\n",
              "      fill: #D2E3FC;\n",
              "    }\n",
              "\n",
              "    [theme=dark] .colab-df-convert:hover {\n",
              "      background-color: #434B5C;\n",
              "      box-shadow: 0px 1px 3px 1px rgba(0, 0, 0, 0.15);\n",
              "      filter: drop-shadow(0px 1px 2px rgba(0, 0, 0, 0.3));\n",
              "      fill: #FFFFFF;\n",
              "    }\n",
              "  </style>\n",
              "\n",
              "      <script>\n",
              "        const buttonEl =\n",
              "          document.querySelector('#df-3347f2bf-2333-4f51-8654-7145d4a3e744 button.colab-df-convert');\n",
              "        buttonEl.style.display =\n",
              "          google.colab.kernel.accessAllowed ? 'block' : 'none';\n",
              "\n",
              "        async function convertToInteractive(key) {\n",
              "          const element = document.querySelector('#df-3347f2bf-2333-4f51-8654-7145d4a3e744');\n",
              "          const dataTable =\n",
              "            await google.colab.kernel.invokeFunction('convertToInteractive',\n",
              "                                                     [key], {});\n",
              "          if (!dataTable) return;\n",
              "\n",
              "          const docLinkHtml = 'Like what you see? Visit the ' +\n",
              "            '<a target=\"_blank\" href=https://colab.research.google.com/notebooks/data_table.ipynb>data table notebook</a>'\n",
              "            + ' to learn more about interactive tables.';\n",
              "          element.innerHTML = '';\n",
              "          dataTable['output_type'] = 'display_data';\n",
              "          await google.colab.output.renderOutput(dataTable, element);\n",
              "          const docLink = document.createElement('div');\n",
              "          docLink.innerHTML = docLinkHtml;\n",
              "          element.appendChild(docLink);\n",
              "        }\n",
              "      </script>\n",
              "    </div>\n",
              "  </div>\n",
              "  "
            ],
            "text/plain": [
              "                CycloneName                  DateTime   Type  Latitude  \\\n",
              "0  Tropical Cyclone Cheneso 2023-01-17 18:00:00+00:00  Point      58.0   \n",
              "1  Tropical Cyclone Cheneso 2023-01-18 00:00:00+00:00  Point      56.2   \n",
              "2  Tropical Cyclone Cheneso 2023-01-18 06:00:00+00:00  Point      54.3   \n",
              "3  Tropical Cyclone Cheneso 2023-01-18 12:00:00+00:00  Point      52.6   \n",
              "4  Tropical Cyclone Cheneso 2023-01-18 18:00:00+00:00  Point      51.7   \n",
              "\n",
              "   Longitude  Maximum Wind          Date      Time  \\\n",
              "0      -14.1            35  2023--0-1-17  18:00:00   \n",
              "1      -14.1            40  2023--0-1-18  00:00:00   \n",
              "2      -13.8            40  2023--0-1-18  06:00:00   \n",
              "3      -13.6            50  2023--0-1-18  12:00:00   \n",
              "4      -13.5            55  2023--0-1-18  18:00:00   \n",
              "\n",
              "                     geometry         x         y  relative_time  month  hour  \\\n",
              "0  POINT (-14.10000 58.00000)  1.000000  0.968912       0.048497      1    18   \n",
              "1  POINT (-14.10000 56.20000)  0.892216  0.968912       0.049180      1     0   \n",
              "2  POINT (-13.80000 54.30000)  0.778443  0.984456       0.049863      1     6   \n",
              "3  POINT (-13.60000 52.60000)  0.676647  0.994819       0.050546      1    12   \n",
              "4  POINT (-13.50000 51.70000)  0.622754  1.000000       0.051230      1    18   \n",
              "\n",
              "      vec_x     vec_y  \n",
              "0       NaN       NaN  \n",
              "1 -0.107784  0.000000  \n",
              "2 -0.113772  0.015544  \n",
              "3 -0.101796  0.010363  \n",
              "4 -0.053892  0.005181  "
            ]
          },
          "execution_count": 25,
          "metadata": {},
          "output_type": "execute_result"
        }
      ],
      "source": [
        "gdf.head()"
      ]
    },
    {
      "cell_type": "code",
      "execution_count": null,
      "metadata": {
        "id": "jL1Cd_8Tbs-e"
      },
      "outputs": [],
      "source": [
        "gdf[\"vec_len\"] = np.sqrt((gdf[\"vec_x\"]**2)+(gdf[\"vec_y\"]**2))"
      ]
    },
    {
      "cell_type": "code",
      "execution_count": null,
      "metadata": {
        "id": "566iQmzJcCob"
      },
      "outputs": [],
      "source": [
        "def calculate_direction(vec_x, vec_y):\n",
        "    def vec_angle(a, b):\n",
        "        return np.arccos(np.dot(a,b)/(np.linalg.norm(a)*np.linalg.norm(b)))\n",
        "    ref_vec = np.array([vec_x, vec_y])\n",
        "    N_vec = np.array([0,1])\n",
        "    S_vec = np.array([0,-1])\n",
        "    E_vec = np.array([1,0])\n",
        "    W_vec = np.array([-1,0])\n",
        "    N_angle = vec_angle(ref_vec, N_vec)\n",
        "    E_angle = vec_angle(ref_vec, E_vec)\n",
        "    W_angle = vec_angle(ref_vec, W_vec)\n",
        "    return_angle = N_angle\n",
        "    if W_angle<E_angle:\n",
        "        return_angle = 2*np.pi-return_angle\n",
        "    return return_angle"
      ]
    },
    {
      "cell_type": "code",
      "execution_count": null,
      "metadata": {
        "id": "p_Sb2EUzcEjY"
      },
      "outputs": [],
      "source": [
        "gdf[\"vec_direction\"] = gdf.apply(lambda x: calculate_direction(x.vec_x, x.vec_y), axis=1)"
      ]
    },
    {
      "cell_type": "code",
      "execution_count": null,
      "metadata": {
        "id": "y209UDvgcMtL"
      },
      "outputs": [],
      "source": [
        "gdf[\"tdelta\"] = np.nan\n",
        "tdeltas = {\"t\": [], \"id\": []}\n",
        "for storm_id in gdf[\"CycloneName\"].unique():\n",
        "    last_time = 0\n",
        "    for i, row in gdf[gdf[\"CycloneName\"]==storm_id].iterrows():\n",
        "        if last_time==0:\n",
        "            last_time = row.DateTime\n",
        "        else:\n",
        "            tdeltas[\"t\"].append((row.DateTime-last_time).seconds)\n",
        "            tdeltas[\"id\"].append(i)\n",
        "            last_time = row.DateTime\n",
        "gdf.loc[tdeltas[\"id\"], \"tdelta\"] = tdeltas[\"t\"]"
      ]
    },
    {
      "cell_type": "code",
      "execution_count": null,
      "metadata": {
        "colab": {
          "base_uri": "https://localhost:8080/",
          "height": 461
        },
        "id": "9M54-gaocUu7",
        "outputId": "551b10f6-aa38-4206-b5ab-3e14ac75c7df"
      },
      "outputs": [
        {
          "data": {
            "text/html": [
              "\n",
              "  <div id=\"df-a02f3c41-3edb-4de9-bfad-8a1ae9747527\">\n",
              "    <div class=\"colab-df-container\">\n",
              "      <div>\n",
              "<style scoped>\n",
              "    .dataframe tbody tr th:only-of-type {\n",
              "        vertical-align: middle;\n",
              "    }\n",
              "\n",
              "    .dataframe tbody tr th {\n",
              "        vertical-align: top;\n",
              "    }\n",
              "\n",
              "    .dataframe thead th {\n",
              "        text-align: right;\n",
              "    }\n",
              "</style>\n",
              "<table border=\"1\" class=\"dataframe\">\n",
              "  <thead>\n",
              "    <tr style=\"text-align: right;\">\n",
              "      <th></th>\n",
              "      <th>CycloneName</th>\n",
              "      <th>DateTime</th>\n",
              "      <th>Type</th>\n",
              "      <th>Latitude</th>\n",
              "      <th>Longitude</th>\n",
              "      <th>Maximum Wind</th>\n",
              "      <th>Date</th>\n",
              "      <th>Time</th>\n",
              "      <th>geometry</th>\n",
              "      <th>x</th>\n",
              "      <th>y</th>\n",
              "      <th>relative_time</th>\n",
              "      <th>month</th>\n",
              "      <th>hour</th>\n",
              "      <th>vec_x</th>\n",
              "      <th>vec_y</th>\n",
              "      <th>vec_len</th>\n",
              "      <th>vec_direction</th>\n",
              "      <th>tdelta</th>\n",
              "    </tr>\n",
              "  </thead>\n",
              "  <tbody>\n",
              "    <tr>\n",
              "      <th>0</th>\n",
              "      <td>Tropical Cyclone Cheneso</td>\n",
              "      <td>2023-01-17 18:00:00+00:00</td>\n",
              "      <td>Point</td>\n",
              "      <td>58.0</td>\n",
              "      <td>-14.1</td>\n",
              "      <td>35</td>\n",
              "      <td>2023--0-1-17</td>\n",
              "      <td>18:00:00</td>\n",
              "      <td>POINT (-14.10000 58.00000)</td>\n",
              "      <td>1.000000</td>\n",
              "      <td>0.968912</td>\n",
              "      <td>0.048497</td>\n",
              "      <td>1</td>\n",
              "      <td>18</td>\n",
              "      <td>NaN</td>\n",
              "      <td>NaN</td>\n",
              "      <td>NaN</td>\n",
              "      <td>NaN</td>\n",
              "      <td>NaN</td>\n",
              "    </tr>\n",
              "    <tr>\n",
              "      <th>1</th>\n",
              "      <td>Tropical Cyclone Cheneso</td>\n",
              "      <td>2023-01-18 00:00:00+00:00</td>\n",
              "      <td>Point</td>\n",
              "      <td>56.2</td>\n",
              "      <td>-14.1</td>\n",
              "      <td>40</td>\n",
              "      <td>2023--0-1-18</td>\n",
              "      <td>00:00:00</td>\n",
              "      <td>POINT (-14.10000 56.20000)</td>\n",
              "      <td>0.892216</td>\n",
              "      <td>0.968912</td>\n",
              "      <td>0.049180</td>\n",
              "      <td>1</td>\n",
              "      <td>0</td>\n",
              "      <td>-0.107784</td>\n",
              "      <td>0.000000</td>\n",
              "      <td>0.107784</td>\n",
              "      <td>4.712389</td>\n",
              "      <td>21600.0</td>\n",
              "    </tr>\n",
              "    <tr>\n",
              "      <th>2</th>\n",
              "      <td>Tropical Cyclone Cheneso</td>\n",
              "      <td>2023-01-18 06:00:00+00:00</td>\n",
              "      <td>Point</td>\n",
              "      <td>54.3</td>\n",
              "      <td>-13.8</td>\n",
              "      <td>40</td>\n",
              "      <td>2023--0-1-18</td>\n",
              "      <td>06:00:00</td>\n",
              "      <td>POINT (-13.80000 54.30000)</td>\n",
              "      <td>0.778443</td>\n",
              "      <td>0.984456</td>\n",
              "      <td>0.049863</td>\n",
              "      <td>1</td>\n",
              "      <td>6</td>\n",
              "      <td>-0.113772</td>\n",
              "      <td>0.015544</td>\n",
              "      <td>0.114829</td>\n",
              "      <td>4.848172</td>\n",
              "      <td>21600.0</td>\n",
              "    </tr>\n",
              "    <tr>\n",
              "      <th>3</th>\n",
              "      <td>Tropical Cyclone Cheneso</td>\n",
              "      <td>2023-01-18 12:00:00+00:00</td>\n",
              "      <td>Point</td>\n",
              "      <td>52.6</td>\n",
              "      <td>-13.6</td>\n",
              "      <td>50</td>\n",
              "      <td>2023--0-1-18</td>\n",
              "      <td>12:00:00</td>\n",
              "      <td>POINT (-13.60000 52.60000)</td>\n",
              "      <td>0.676647</td>\n",
              "      <td>0.994819</td>\n",
              "      <td>0.050546</td>\n",
              "      <td>1</td>\n",
              "      <td>12</td>\n",
              "      <td>-0.101796</td>\n",
              "      <td>0.010363</td>\n",
              "      <td>0.102322</td>\n",
              "      <td>4.813838</td>\n",
              "      <td>21600.0</td>\n",
              "    </tr>\n",
              "    <tr>\n",
              "      <th>4</th>\n",
              "      <td>Tropical Cyclone Cheneso</td>\n",
              "      <td>2023-01-18 18:00:00+00:00</td>\n",
              "      <td>Point</td>\n",
              "      <td>51.7</td>\n",
              "      <td>-13.5</td>\n",
              "      <td>55</td>\n",
              "      <td>2023--0-1-18</td>\n",
              "      <td>18:00:00</td>\n",
              "      <td>POINT (-13.50000 51.70000)</td>\n",
              "      <td>0.622754</td>\n",
              "      <td>1.000000</td>\n",
              "      <td>0.051230</td>\n",
              "      <td>1</td>\n",
              "      <td>18</td>\n",
              "      <td>-0.053892</td>\n",
              "      <td>0.005181</td>\n",
              "      <td>0.054141</td>\n",
              "      <td>4.808237</td>\n",
              "      <td>21600.0</td>\n",
              "    </tr>\n",
              "  </tbody>\n",
              "</table>\n",
              "</div>\n",
              "      <button class=\"colab-df-convert\" onclick=\"convertToInteractive('df-a02f3c41-3edb-4de9-bfad-8a1ae9747527')\"\n",
              "              title=\"Convert this dataframe to an interactive table.\"\n",
              "              style=\"display:none;\">\n",
              "        \n",
              "  <svg xmlns=\"http://www.w3.org/2000/svg\" height=\"24px\"viewBox=\"0 0 24 24\"\n",
              "       width=\"24px\">\n",
              "    <path d=\"M0 0h24v24H0V0z\" fill=\"none\"/>\n",
              "    <path d=\"M18.56 5.44l.94 2.06.94-2.06 2.06-.94-2.06-.94-.94-2.06-.94 2.06-2.06.94zm-11 1L8.5 8.5l.94-2.06 2.06-.94-2.06-.94L8.5 2.5l-.94 2.06-2.06.94zm10 10l.94 2.06.94-2.06 2.06-.94-2.06-.94-.94-2.06-.94 2.06-2.06.94z\"/><path d=\"M17.41 7.96l-1.37-1.37c-.4-.4-.92-.59-1.43-.59-.52 0-1.04.2-1.43.59L10.3 9.45l-7.72 7.72c-.78.78-.78 2.05 0 2.83L4 21.41c.39.39.9.59 1.41.59.51 0 1.02-.2 1.41-.59l7.78-7.78 2.81-2.81c.8-.78.8-2.07 0-2.86zM5.41 20L4 18.59l7.72-7.72 1.47 1.35L5.41 20z\"/>\n",
              "  </svg>\n",
              "      </button>\n",
              "      \n",
              "  <style>\n",
              "    .colab-df-container {\n",
              "      display:flex;\n",
              "      flex-wrap:wrap;\n",
              "      gap: 12px;\n",
              "    }\n",
              "\n",
              "    .colab-df-convert {\n",
              "      background-color: #E8F0FE;\n",
              "      border: none;\n",
              "      border-radius: 50%;\n",
              "      cursor: pointer;\n",
              "      display: none;\n",
              "      fill: #1967D2;\n",
              "      height: 32px;\n",
              "      padding: 0 0 0 0;\n",
              "      width: 32px;\n",
              "    }\n",
              "\n",
              "    .colab-df-convert:hover {\n",
              "      background-color: #E2EBFA;\n",
              "      box-shadow: 0px 1px 2px rgba(60, 64, 67, 0.3), 0px 1px 3px 1px rgba(60, 64, 67, 0.15);\n",
              "      fill: #174EA6;\n",
              "    }\n",
              "\n",
              "    [theme=dark] .colab-df-convert {\n",
              "      background-color: #3B4455;\n",
              "      fill: #D2E3FC;\n",
              "    }\n",
              "\n",
              "    [theme=dark] .colab-df-convert:hover {\n",
              "      background-color: #434B5C;\n",
              "      box-shadow: 0px 1px 3px 1px rgba(0, 0, 0, 0.15);\n",
              "      filter: drop-shadow(0px 1px 2px rgba(0, 0, 0, 0.3));\n",
              "      fill: #FFFFFF;\n",
              "    }\n",
              "  </style>\n",
              "\n",
              "      <script>\n",
              "        const buttonEl =\n",
              "          document.querySelector('#df-a02f3c41-3edb-4de9-bfad-8a1ae9747527 button.colab-df-convert');\n",
              "        buttonEl.style.display =\n",
              "          google.colab.kernel.accessAllowed ? 'block' : 'none';\n",
              "\n",
              "        async function convertToInteractive(key) {\n",
              "          const element = document.querySelector('#df-a02f3c41-3edb-4de9-bfad-8a1ae9747527');\n",
              "          const dataTable =\n",
              "            await google.colab.kernel.invokeFunction('convertToInteractive',\n",
              "                                                     [key], {});\n",
              "          if (!dataTable) return;\n",
              "\n",
              "          const docLinkHtml = 'Like what you see? Visit the ' +\n",
              "            '<a target=\"_blank\" href=https://colab.research.google.com/notebooks/data_table.ipynb>data table notebook</a>'\n",
              "            + ' to learn more about interactive tables.';\n",
              "          element.innerHTML = '';\n",
              "          dataTable['output_type'] = 'display_data';\n",
              "          await google.colab.output.renderOutput(dataTable, element);\n",
              "          const docLink = document.createElement('div');\n",
              "          docLink.innerHTML = docLinkHtml;\n",
              "          element.appendChild(docLink);\n",
              "        }\n",
              "      </script>\n",
              "    </div>\n",
              "  </div>\n",
              "  "
            ],
            "text/plain": [
              "                CycloneName                  DateTime   Type  Latitude  \\\n",
              "0  Tropical Cyclone Cheneso 2023-01-17 18:00:00+00:00  Point      58.0   \n",
              "1  Tropical Cyclone Cheneso 2023-01-18 00:00:00+00:00  Point      56.2   \n",
              "2  Tropical Cyclone Cheneso 2023-01-18 06:00:00+00:00  Point      54.3   \n",
              "3  Tropical Cyclone Cheneso 2023-01-18 12:00:00+00:00  Point      52.6   \n",
              "4  Tropical Cyclone Cheneso 2023-01-18 18:00:00+00:00  Point      51.7   \n",
              "\n",
              "   Longitude  Maximum Wind          Date      Time  \\\n",
              "0      -14.1            35  2023--0-1-17  18:00:00   \n",
              "1      -14.1            40  2023--0-1-18  00:00:00   \n",
              "2      -13.8            40  2023--0-1-18  06:00:00   \n",
              "3      -13.6            50  2023--0-1-18  12:00:00   \n",
              "4      -13.5            55  2023--0-1-18  18:00:00   \n",
              "\n",
              "                     geometry         x         y  relative_time  month  hour  \\\n",
              "0  POINT (-14.10000 58.00000)  1.000000  0.968912       0.048497      1    18   \n",
              "1  POINT (-14.10000 56.20000)  0.892216  0.968912       0.049180      1     0   \n",
              "2  POINT (-13.80000 54.30000)  0.778443  0.984456       0.049863      1     6   \n",
              "3  POINT (-13.60000 52.60000)  0.676647  0.994819       0.050546      1    12   \n",
              "4  POINT (-13.50000 51.70000)  0.622754  1.000000       0.051230      1    18   \n",
              "\n",
              "      vec_x     vec_y   vec_len  vec_direction   tdelta  \n",
              "0       NaN       NaN       NaN            NaN      NaN  \n",
              "1 -0.107784  0.000000  0.107784       4.712389  21600.0  \n",
              "2 -0.113772  0.015544  0.114829       4.848172  21600.0  \n",
              "3 -0.101796  0.010363  0.102322       4.813838  21600.0  \n",
              "4 -0.053892  0.005181  0.054141       4.808237  21600.0  "
            ]
          },
          "execution_count": 30,
          "metadata": {},
          "output_type": "execute_result"
        }
      ],
      "source": [
        "gdf.head()"
      ]
    },
    {
      "cell_type": "code",
      "execution_count": null,
      "metadata": {
        "colab": {
          "base_uri": "https://localhost:8080/"
        },
        "id": "Mh2fatQmNd4p",
        "outputId": "bbe113ca-0163-4fde-e142-c333dc1afa7e"
      },
      "outputs": [
        {
          "data": {
            "text/plain": [
              "(47, 19)"
            ]
          },
          "execution_count": 31,
          "metadata": {},
          "output_type": "execute_result"
        }
      ],
      "source": [
        "gdf = gdf[gdf[\"tdelta\"]==21600]\n",
        "gdf.shape"
      ]
    },
    {
      "cell_type": "code",
      "execution_count": null,
      "metadata": {
        "id": "BVS0twuDNnbe"
      },
      "outputs": [],
      "source": [
        "gdf[\"prev_len\"] = np.nan\n",
        "gdf[\"prev_direction\"] = np.nan\n",
        "prevs = {\"len\": [], \"direction\": [], \"id\": []}\n",
        "for storm_id in gdf[\"CycloneName\"].unique():\n",
        "    last_len = False\n",
        "    last_direction = False\n",
        "    for i, row in gdf[gdf[\"CycloneName\"]==storm_id].iterrows():\n",
        "        if last_len==False:\n",
        "            last_len = row.vec_len\n",
        "            last_direction = row.vec_direction\n",
        "        else:\n",
        "            prevs[\"len\"].append(last_len)\n",
        "            prevs[\"direction\"].append(last_direction)\n",
        "            prevs[\"id\"].append(i)\n",
        "            last_len = row.vec_len\n",
        "            last_direction = row.vec_direction\n",
        "gdf.loc[prevs[\"id\"], \"prev_len\"] = prevs[\"len\"]\n",
        "gdf.loc[prevs[\"id\"], \"prev_direction\"] = prevs[\"direction\"]"
      ]
    },
    {
      "cell_type": "code",
      "execution_count": null,
      "metadata": {
        "colab": {
          "base_uri": "https://localhost:8080/"
        },
        "id": "SE-I5-HfN_d_",
        "outputId": "877a9efb-7217-4942-e139-04d4c942e4d9"
      },
      "outputs": [
        {
          "data": {
            "text/plain": [
              "(44, 21)"
            ]
          },
          "execution_count": 33,
          "metadata": {},
          "output_type": "execute_result"
        }
      ],
      "source": [
        "gdf.dropna(how=\"any\", inplace=True)\n",
        "gdf.shape"
      ]
    },
    {
      "cell_type": "markdown",
      "metadata": {
        "id": "59ZmgypgMRl9"
      },
      "source": [
        "Prediction"
      ]
    },
    {
      "cell_type": "code",
      "execution_count": null,
      "metadata": {
        "id": "Q5rmt3KlOCqK"
      },
      "outputs": [],
      "source": [
        "gdf_prediction_direction = gdf[[\"Maximum Wind\", \"x\", \"y\", \"month\", \"hour\", \"prev_len\", \"prev_direction\", \"vec_direction\"]]\n",
        "gdf_prediction_length = gdf[[\"Maximum Wind\", \"x\", \"y\", \"month\", \"hour\", \"prev_len\", \"prev_direction\",\"vec_len\"]]\n",
        "X_direction = gdf_prediction_direction.values[:,:-1]\n",
        "y_direction = gdf_prediction_direction.values[:,-1]\n",
        "X_length = gdf_prediction_length.values[:,:-1]\n",
        "y_length = gdf_prediction_length.values[:,-1]"
      ]
    },
    {
      "cell_type": "code",
      "execution_count": null,
      "metadata": {
        "colab": {
          "base_uri": "https://localhost:8080/",
          "height": 490
        },
        "id": "29URVUBAOHSS",
        "outputId": "7e459d94-7bd4-486d-e79b-3f70d894403c"
      },
      "outputs": [
        {
          "data": {
            "text/html": [
              "\n",
              "  <div id=\"df-e1b50049-f849-4949-b6aa-66d0a8fbfc0a\">\n",
              "    <div class=\"colab-df-container\">\n",
              "      <div>\n",
              "<style scoped>\n",
              "    .dataframe tbody tr th:only-of-type {\n",
              "        vertical-align: middle;\n",
              "    }\n",
              "\n",
              "    .dataframe tbody tr th {\n",
              "        vertical-align: top;\n",
              "    }\n",
              "\n",
              "    .dataframe thead th {\n",
              "        text-align: right;\n",
              "    }\n",
              "</style>\n",
              "<table border=\"1\" class=\"dataframe\">\n",
              "  <thead>\n",
              "    <tr style=\"text-align: right;\">\n",
              "      <th></th>\n",
              "      <th>CycloneName</th>\n",
              "      <th>DateTime</th>\n",
              "      <th>Type</th>\n",
              "      <th>Latitude</th>\n",
              "      <th>Longitude</th>\n",
              "      <th>Maximum Wind</th>\n",
              "      <th>Date</th>\n",
              "      <th>Time</th>\n",
              "      <th>geometry</th>\n",
              "      <th>x</th>\n",
              "      <th>...</th>\n",
              "      <th>relative_time</th>\n",
              "      <th>month</th>\n",
              "      <th>hour</th>\n",
              "      <th>vec_x</th>\n",
              "      <th>vec_y</th>\n",
              "      <th>vec_len</th>\n",
              "      <th>vec_direction</th>\n",
              "      <th>tdelta</th>\n",
              "      <th>prev_len</th>\n",
              "      <th>prev_direction</th>\n",
              "    </tr>\n",
              "  </thead>\n",
              "  <tbody>\n",
              "    <tr>\n",
              "      <th>2</th>\n",
              "      <td>Tropical Cyclone Cheneso</td>\n",
              "      <td>2023-01-18 06:00:00+00:00</td>\n",
              "      <td>Point</td>\n",
              "      <td>54.3</td>\n",
              "      <td>-13.8</td>\n",
              "      <td>40</td>\n",
              "      <td>2023--0-1-18</td>\n",
              "      <td>06:00:00</td>\n",
              "      <td>POINT (-13.80000 54.30000)</td>\n",
              "      <td>0.778443</td>\n",
              "      <td>...</td>\n",
              "      <td>0.049863</td>\n",
              "      <td>1</td>\n",
              "      <td>6</td>\n",
              "      <td>-0.113772</td>\n",
              "      <td>0.015544</td>\n",
              "      <td>0.114829</td>\n",
              "      <td>4.848172</td>\n",
              "      <td>21600.0</td>\n",
              "      <td>0.107784</td>\n",
              "      <td>4.712389</td>\n",
              "    </tr>\n",
              "    <tr>\n",
              "      <th>3</th>\n",
              "      <td>Tropical Cyclone Cheneso</td>\n",
              "      <td>2023-01-18 12:00:00+00:00</td>\n",
              "      <td>Point</td>\n",
              "      <td>52.6</td>\n",
              "      <td>-13.6</td>\n",
              "      <td>50</td>\n",
              "      <td>2023--0-1-18</td>\n",
              "      <td>12:00:00</td>\n",
              "      <td>POINT (-13.60000 52.60000)</td>\n",
              "      <td>0.676647</td>\n",
              "      <td>...</td>\n",
              "      <td>0.050546</td>\n",
              "      <td>1</td>\n",
              "      <td>12</td>\n",
              "      <td>-0.101796</td>\n",
              "      <td>0.010363</td>\n",
              "      <td>0.102322</td>\n",
              "      <td>4.813838</td>\n",
              "      <td>21600.0</td>\n",
              "      <td>0.114829</td>\n",
              "      <td>4.848172</td>\n",
              "    </tr>\n",
              "    <tr>\n",
              "      <th>4</th>\n",
              "      <td>Tropical Cyclone Cheneso</td>\n",
              "      <td>2023-01-18 18:00:00+00:00</td>\n",
              "      <td>Point</td>\n",
              "      <td>51.7</td>\n",
              "      <td>-13.5</td>\n",
              "      <td>55</td>\n",
              "      <td>2023--0-1-18</td>\n",
              "      <td>18:00:00</td>\n",
              "      <td>POINT (-13.50000 51.70000)</td>\n",
              "      <td>0.622754</td>\n",
              "      <td>...</td>\n",
              "      <td>0.051230</td>\n",
              "      <td>1</td>\n",
              "      <td>18</td>\n",
              "      <td>-0.053892</td>\n",
              "      <td>0.005181</td>\n",
              "      <td>0.054141</td>\n",
              "      <td>4.808237</td>\n",
              "      <td>21600.0</td>\n",
              "      <td>0.102322</td>\n",
              "      <td>4.813838</td>\n",
              "    </tr>\n",
              "    <tr>\n",
              "      <th>5</th>\n",
              "      <td>Tropical Cyclone Cheneso</td>\n",
              "      <td>2023-01-19 00:00:00+00:00</td>\n",
              "      <td>Point</td>\n",
              "      <td>50.9</td>\n",
              "      <td>-14.0</td>\n",
              "      <td>60</td>\n",
              "      <td>2023--0-1-19</td>\n",
              "      <td>00:00:00</td>\n",
              "      <td>POINT (-14.00000 50.90000)</td>\n",
              "      <td>0.574850</td>\n",
              "      <td>...</td>\n",
              "      <td>0.051913</td>\n",
              "      <td>1</td>\n",
              "      <td>0</td>\n",
              "      <td>-0.047904</td>\n",
              "      <td>-0.025907</td>\n",
              "      <td>0.054461</td>\n",
              "      <td>4.216634</td>\n",
              "      <td>21600.0</td>\n",
              "      <td>0.054141</td>\n",
              "      <td>4.808237</td>\n",
              "    </tr>\n",
              "    <tr>\n",
              "      <th>6</th>\n",
              "      <td>Tropical Cyclone Cheneso</td>\n",
              "      <td>2023-01-19 06:00:00+00:00</td>\n",
              "      <td>Point</td>\n",
              "      <td>49.9</td>\n",
              "      <td>-14.0</td>\n",
              "      <td>45</td>\n",
              "      <td>2023--0-1-19</td>\n",
              "      <td>06:00:00</td>\n",
              "      <td>POINT (-14.00000 49.90000)</td>\n",
              "      <td>0.514970</td>\n",
              "      <td>...</td>\n",
              "      <td>0.052596</td>\n",
              "      <td>1</td>\n",
              "      <td>6</td>\n",
              "      <td>-0.059880</td>\n",
              "      <td>0.000000</td>\n",
              "      <td>0.059880</td>\n",
              "      <td>4.712389</td>\n",
              "      <td>21600.0</td>\n",
              "      <td>0.054461</td>\n",
              "      <td>4.216634</td>\n",
              "    </tr>\n",
              "  </tbody>\n",
              "</table>\n",
              "<p>5 rows × 21 columns</p>\n",
              "</div>\n",
              "      <button class=\"colab-df-convert\" onclick=\"convertToInteractive('df-e1b50049-f849-4949-b6aa-66d0a8fbfc0a')\"\n",
              "              title=\"Convert this dataframe to an interactive table.\"\n",
              "              style=\"display:none;\">\n",
              "        \n",
              "  <svg xmlns=\"http://www.w3.org/2000/svg\" height=\"24px\"viewBox=\"0 0 24 24\"\n",
              "       width=\"24px\">\n",
              "    <path d=\"M0 0h24v24H0V0z\" fill=\"none\"/>\n",
              "    <path d=\"M18.56 5.44l.94 2.06.94-2.06 2.06-.94-2.06-.94-.94-2.06-.94 2.06-2.06.94zm-11 1L8.5 8.5l.94-2.06 2.06-.94-2.06-.94L8.5 2.5l-.94 2.06-2.06.94zm10 10l.94 2.06.94-2.06 2.06-.94-2.06-.94-.94-2.06-.94 2.06-2.06.94z\"/><path d=\"M17.41 7.96l-1.37-1.37c-.4-.4-.92-.59-1.43-.59-.52 0-1.04.2-1.43.59L10.3 9.45l-7.72 7.72c-.78.78-.78 2.05 0 2.83L4 21.41c.39.39.9.59 1.41.59.51 0 1.02-.2 1.41-.59l7.78-7.78 2.81-2.81c.8-.78.8-2.07 0-2.86zM5.41 20L4 18.59l7.72-7.72 1.47 1.35L5.41 20z\"/>\n",
              "  </svg>\n",
              "      </button>\n",
              "      \n",
              "  <style>\n",
              "    .colab-df-container {\n",
              "      display:flex;\n",
              "      flex-wrap:wrap;\n",
              "      gap: 12px;\n",
              "    }\n",
              "\n",
              "    .colab-df-convert {\n",
              "      background-color: #E8F0FE;\n",
              "      border: none;\n",
              "      border-radius: 50%;\n",
              "      cursor: pointer;\n",
              "      display: none;\n",
              "      fill: #1967D2;\n",
              "      height: 32px;\n",
              "      padding: 0 0 0 0;\n",
              "      width: 32px;\n",
              "    }\n",
              "\n",
              "    .colab-df-convert:hover {\n",
              "      background-color: #E2EBFA;\n",
              "      box-shadow: 0px 1px 2px rgba(60, 64, 67, 0.3), 0px 1px 3px 1px rgba(60, 64, 67, 0.15);\n",
              "      fill: #174EA6;\n",
              "    }\n",
              "\n",
              "    [theme=dark] .colab-df-convert {\n",
              "      background-color: #3B4455;\n",
              "      fill: #D2E3FC;\n",
              "    }\n",
              "\n",
              "    [theme=dark] .colab-df-convert:hover {\n",
              "      background-color: #434B5C;\n",
              "      box-shadow: 0px 1px 3px 1px rgba(0, 0, 0, 0.15);\n",
              "      filter: drop-shadow(0px 1px 2px rgba(0, 0, 0, 0.3));\n",
              "      fill: #FFFFFF;\n",
              "    }\n",
              "  </style>\n",
              "\n",
              "      <script>\n",
              "        const buttonEl =\n",
              "          document.querySelector('#df-e1b50049-f849-4949-b6aa-66d0a8fbfc0a button.colab-df-convert');\n",
              "        buttonEl.style.display =\n",
              "          google.colab.kernel.accessAllowed ? 'block' : 'none';\n",
              "\n",
              "        async function convertToInteractive(key) {\n",
              "          const element = document.querySelector('#df-e1b50049-f849-4949-b6aa-66d0a8fbfc0a');\n",
              "          const dataTable =\n",
              "            await google.colab.kernel.invokeFunction('convertToInteractive',\n",
              "                                                     [key], {});\n",
              "          if (!dataTable) return;\n",
              "\n",
              "          const docLinkHtml = 'Like what you see? Visit the ' +\n",
              "            '<a target=\"_blank\" href=https://colab.research.google.com/notebooks/data_table.ipynb>data table notebook</a>'\n",
              "            + ' to learn more about interactive tables.';\n",
              "          element.innerHTML = '';\n",
              "          dataTable['output_type'] = 'display_data';\n",
              "          await google.colab.output.renderOutput(dataTable, element);\n",
              "          const docLink = document.createElement('div');\n",
              "          docLink.innerHTML = docLinkHtml;\n",
              "          element.appendChild(docLink);\n",
              "        }\n",
              "      </script>\n",
              "    </div>\n",
              "  </div>\n",
              "  "
            ],
            "text/plain": [
              "                CycloneName                  DateTime   Type  Latitude  \\\n",
              "2  Tropical Cyclone Cheneso 2023-01-18 06:00:00+00:00  Point      54.3   \n",
              "3  Tropical Cyclone Cheneso 2023-01-18 12:00:00+00:00  Point      52.6   \n",
              "4  Tropical Cyclone Cheneso 2023-01-18 18:00:00+00:00  Point      51.7   \n",
              "5  Tropical Cyclone Cheneso 2023-01-19 00:00:00+00:00  Point      50.9   \n",
              "6  Tropical Cyclone Cheneso 2023-01-19 06:00:00+00:00  Point      49.9   \n",
              "\n",
              "   Longitude  Maximum Wind          Date      Time  \\\n",
              "2      -13.8            40  2023--0-1-18  06:00:00   \n",
              "3      -13.6            50  2023--0-1-18  12:00:00   \n",
              "4      -13.5            55  2023--0-1-18  18:00:00   \n",
              "5      -14.0            60  2023--0-1-19  00:00:00   \n",
              "6      -14.0            45  2023--0-1-19  06:00:00   \n",
              "\n",
              "                     geometry         x  ...  relative_time  month  hour  \\\n",
              "2  POINT (-13.80000 54.30000)  0.778443  ...       0.049863      1     6   \n",
              "3  POINT (-13.60000 52.60000)  0.676647  ...       0.050546      1    12   \n",
              "4  POINT (-13.50000 51.70000)  0.622754  ...       0.051230      1    18   \n",
              "5  POINT (-14.00000 50.90000)  0.574850  ...       0.051913      1     0   \n",
              "6  POINT (-14.00000 49.90000)  0.514970  ...       0.052596      1     6   \n",
              "\n",
              "      vec_x     vec_y   vec_len  vec_direction   tdelta  prev_len  \\\n",
              "2 -0.113772  0.015544  0.114829       4.848172  21600.0  0.107784   \n",
              "3 -0.101796  0.010363  0.102322       4.813838  21600.0  0.114829   \n",
              "4 -0.053892  0.005181  0.054141       4.808237  21600.0  0.102322   \n",
              "5 -0.047904 -0.025907  0.054461       4.216634  21600.0  0.054141   \n",
              "6 -0.059880  0.000000  0.059880       4.712389  21600.0  0.054461   \n",
              "\n",
              "   prev_direction  \n",
              "2        4.712389  \n",
              "3        4.848172  \n",
              "4        4.813838  \n",
              "5        4.808237  \n",
              "6        4.216634  \n",
              "\n",
              "[5 rows x 21 columns]"
            ]
          },
          "execution_count": 35,
          "metadata": {},
          "output_type": "execute_result"
        }
      ],
      "source": [
        "gdf.head()"
      ]
    },
    {
      "cell_type": "code",
      "execution_count": null,
      "metadata": {
        "id": "map79NBeOscH"
      },
      "outputs": [],
      "source": [
        "from sklearn.model_selection import train_test_split\n",
        "X_direction_train, X_direction_test, y_direction_train, y_direction_test = train_test_split(X_direction, y_direction, test_size=0.2, random_state=42)\n",
        "X_length_train, X_length_test, y_length_train, y_length_test = train_test_split(X_length, y_length, test_size=0.2, random_state=42)"
      ]
    },
    {
      "cell_type": "code",
      "execution_count": null,
      "metadata": {
        "colab": {
          "base_uri": "https://localhost:8080/"
        },
        "id": "FWOJt511OyZB",
        "outputId": "402086fb-6931-4448-cd48-706cf60aa1a0"
      },
      "outputs": [
        {
          "name": "stdout",
          "output_type": "stream",
          "text": [
            "(44, 7)\n",
            "(44,)\n",
            "(44, 7)\n",
            "(44,)\n"
          ]
        }
      ],
      "source": [
        "print(X_direction.shape)\n",
        "print(y_direction.shape)\n",
        "print(X_length.shape)\n",
        "print(y_length.shape)"
      ]
    },
    {
      "cell_type": "markdown",
      "metadata": {
        "id": "r3KflyyqbJX1"
      },
      "source": [
        "LSTM\n"
      ]
    },
    {
      "cell_type": "code",
      "execution_count": null,
      "metadata": {
        "id": "pLLQVJHbS1Q3"
      },
      "outputs": [],
      "source": [
        "from sklearn.preprocessing import MinMaxScaler\n",
        "from sklearn.preprocessing import StandardScaler\n",
        "from keras.models import Sequential\n",
        "from keras.layers.core import Dense, Dropout, Activation\n",
        "from keras.layers import LSTM\n",
        "import math, time\n",
        "from geopy.distance import great_circle as vc\n",
        "import math as Math\n",
        "from keras.models import model_from_json"
      ]
    },
    {
      "cell_type": "code",
      "execution_count": null,
      "metadata": {
        "colab": {
          "base_uri": "https://localhost:8080/"
        },
        "id": "EvJxSRTm_I2p",
        "outputId": "f795ce39-1806-4ebd-c9ee-81f9af90062c"
      },
      "outputs": [
        {
          "name": "stdout",
          "output_type": "stream",
          "text": [
            "Epoch 1/100\n",
            "1/1 [==============================] - 7s 7s/step - loss: 14.0228\n",
            "Epoch 2/100\n",
            "1/1 [==============================] - 0s 21ms/step - loss: 12.9148\n",
            "Epoch 3/100\n",
            "1/1 [==============================] - 0s 20ms/step - loss: 11.8849\n",
            "Epoch 4/100\n",
            "1/1 [==============================] - 0s 19ms/step - loss: 10.9117\n",
            "Epoch 5/100\n",
            "1/1 [==============================] - 0s 21ms/step - loss: 9.9782\n",
            "Epoch 6/100\n",
            "1/1 [==============================] - 0s 21ms/step - loss: 9.0689\n",
            "Epoch 7/100\n",
            "1/1 [==============================] - 0s 19ms/step - loss: 8.1756\n",
            "Epoch 8/100\n",
            "1/1 [==============================] - 0s 21ms/step - loss: 7.2982\n",
            "Epoch 9/100\n",
            "1/1 [==============================] - 0s 20ms/step - loss: 6.4435\n",
            "Epoch 10/100\n",
            "1/1 [==============================] - 0s 21ms/step - loss: 5.6243\n",
            "Epoch 11/100\n",
            "1/1 [==============================] - 0s 19ms/step - loss: 4.8574\n",
            "Epoch 12/100\n",
            "1/1 [==============================] - 0s 20ms/step - loss: 4.1615\n",
            "Epoch 13/100\n",
            "1/1 [==============================] - 0s 21ms/step - loss: 3.5536\n",
            "Epoch 14/100\n",
            "1/1 [==============================] - 0s 20ms/step - loss: 3.0463\n",
            "Epoch 15/100\n",
            "1/1 [==============================] - 0s 20ms/step - loss: 2.6455\n",
            "Epoch 16/100\n",
            "1/1 [==============================] - 0s 19ms/step - loss: 2.3499\n",
            "Epoch 17/100\n",
            "1/1 [==============================] - 0s 19ms/step - loss: 2.1528\n",
            "Epoch 18/100\n",
            "1/1 [==============================] - 0s 23ms/step - loss: 2.0434\n",
            "Epoch 19/100\n",
            "1/1 [==============================] - 0s 26ms/step - loss: 2.0080\n",
            "Epoch 20/100\n",
            "1/1 [==============================] - 0s 19ms/step - loss: 2.0292\n",
            "Epoch 21/100\n",
            "1/1 [==============================] - 0s 20ms/step - loss: 2.0845\n",
            "Epoch 22/100\n",
            "1/1 [==============================] - 0s 20ms/step - loss: 2.1491\n",
            "Epoch 23/100\n",
            "1/1 [==============================] - 0s 20ms/step - loss: 2.2027\n",
            "Epoch 24/100\n",
            "1/1 [==============================] - 0s 19ms/step - loss: 2.2351\n",
            "Epoch 25/100\n",
            "1/1 [==============================] - 0s 20ms/step - loss: 2.2441\n",
            "Epoch 26/100\n",
            "1/1 [==============================] - 0s 20ms/step - loss: 2.2326\n",
            "Epoch 27/100\n",
            "1/1 [==============================] - 0s 20ms/step - loss: 2.2062\n",
            "Epoch 28/100\n",
            "1/1 [==============================] - 0s 19ms/step - loss: 2.1707\n",
            "Epoch 29/100\n",
            "1/1 [==============================] - 0s 19ms/step - loss: 2.1318\n",
            "Epoch 30/100\n",
            "1/1 [==============================] - 0s 20ms/step - loss: 2.0941\n",
            "Epoch 31/100\n",
            "1/1 [==============================] - 0s 20ms/step - loss: 2.0611\n",
            "Epoch 32/100\n",
            "1/1 [==============================] - 0s 19ms/step - loss: 2.0349\n",
            "Epoch 33/100\n",
            "1/1 [==============================] - 0s 19ms/step - loss: 2.0165\n",
            "Epoch 34/100\n",
            "1/1 [==============================] - 0s 20ms/step - loss: 2.0057\n",
            "Epoch 35/100\n",
            "1/1 [==============================] - 0s 20ms/step - loss: 2.0017\n",
            "Epoch 36/100\n",
            "1/1 [==============================] - 0s 20ms/step - loss: 2.0032\n",
            "Epoch 37/100\n",
            "1/1 [==============================] - 0s 21ms/step - loss: 2.0082\n",
            "Epoch 38/100\n",
            "1/1 [==============================] - 0s 22ms/step - loss: 2.0152\n",
            "Epoch 39/100\n",
            "1/1 [==============================] - 0s 25ms/step - loss: 2.0225\n",
            "Epoch 40/100\n",
            "1/1 [==============================] - 0s 24ms/step - loss: 2.0288\n",
            "Epoch 41/100\n",
            "1/1 [==============================] - 0s 22ms/step - loss: 2.0332\n",
            "Epoch 42/100\n",
            "1/1 [==============================] - 0s 22ms/step - loss: 2.0354\n",
            "Epoch 43/100\n",
            "1/1 [==============================] - 0s 22ms/step - loss: 2.0353\n",
            "Epoch 44/100\n",
            "1/1 [==============================] - 0s 20ms/step - loss: 2.0331\n",
            "Epoch 45/100\n",
            "1/1 [==============================] - 0s 22ms/step - loss: 2.0293\n",
            "Epoch 46/100\n",
            "1/1 [==============================] - 0s 22ms/step - loss: 2.0244\n",
            "Epoch 47/100\n",
            "1/1 [==============================] - 0s 21ms/step - loss: 2.0190\n",
            "Epoch 48/100\n",
            "1/1 [==============================] - 0s 20ms/step - loss: 2.0137\n",
            "Epoch 49/100\n",
            "1/1 [==============================] - 0s 21ms/step - loss: 2.0091\n",
            "Epoch 50/100\n",
            "1/1 [==============================] - 0s 76ms/step - loss: 2.0053\n",
            "Epoch 51/100\n",
            "1/1 [==============================] - 0s 42ms/step - loss: 2.0025\n",
            "Epoch 52/100\n",
            "1/1 [==============================] - 0s 54ms/step - loss: 2.0009\n",
            "Epoch 53/100\n",
            "1/1 [==============================] - 0s 43ms/step - loss: 2.0003\n",
            "Epoch 54/100\n",
            "1/1 [==============================] - 0s 37ms/step - loss: 2.0006\n",
            "Epoch 55/100\n",
            "1/1 [==============================] - 0s 42ms/step - loss: 2.0014\n",
            "Epoch 56/100\n",
            "1/1 [==============================] - 0s 33ms/step - loss: 2.0025\n",
            "Epoch 57/100\n",
            "1/1 [==============================] - 0s 33ms/step - loss: 2.0036\n",
            "Epoch 58/100\n",
            "1/1 [==============================] - 0s 34ms/step - loss: 2.0045\n",
            "Epoch 59/100\n",
            "1/1 [==============================] - 0s 32ms/step - loss: 2.0052\n",
            "Epoch 60/100\n",
            "1/1 [==============================] - 0s 35ms/step - loss: 2.0054\n",
            "Epoch 61/100\n",
            "1/1 [==============================] - 0s 31ms/step - loss: 2.0051\n",
            "Epoch 62/100\n",
            "1/1 [==============================] - 0s 34ms/step - loss: 2.0046\n",
            "Epoch 63/100\n",
            "1/1 [==============================] - 0s 41ms/step - loss: 2.0037\n",
            "Epoch 64/100\n",
            "1/1 [==============================] - 0s 33ms/step - loss: 2.0027\n",
            "Epoch 65/100\n",
            "1/1 [==============================] - 0s 36ms/step - loss: 2.0017\n",
            "Epoch 66/100\n",
            "1/1 [==============================] - 0s 34ms/step - loss: 2.0007\n",
            "Epoch 67/100\n",
            "1/1 [==============================] - 0s 70ms/step - loss: 1.9999\n",
            "Epoch 68/100\n",
            "1/1 [==============================] - 0s 60ms/step - loss: 1.9993\n",
            "Epoch 69/100\n",
            "1/1 [==============================] - 0s 51ms/step - loss: 1.9989\n",
            "Epoch 70/100\n",
            "1/1 [==============================] - 0s 44ms/step - loss: 1.9987\n",
            "Epoch 71/100\n",
            "1/1 [==============================] - 0s 40ms/step - loss: 1.9986\n",
            "Epoch 72/100\n",
            "1/1 [==============================] - 0s 46ms/step - loss: 1.9987\n",
            "Epoch 73/100\n",
            "1/1 [==============================] - 0s 43ms/step - loss: 1.9988\n",
            "Epoch 74/100\n",
            "1/1 [==============================] - 0s 45ms/step - loss: 1.9989\n",
            "Epoch 75/100\n",
            "1/1 [==============================] - 0s 35ms/step - loss: 1.9989\n",
            "Epoch 76/100\n",
            "1/1 [==============================] - 0s 41ms/step - loss: 1.9989\n",
            "Epoch 77/100\n",
            "1/1 [==============================] - 0s 52ms/step - loss: 1.9987\n",
            "Epoch 78/100\n",
            "1/1 [==============================] - 0s 63ms/step - loss: 1.9985\n",
            "Epoch 79/100\n",
            "1/1 [==============================] - 0s 41ms/step - loss: 1.9982\n",
            "Epoch 80/100\n",
            "1/1 [==============================] - 0s 52ms/step - loss: 1.9979\n",
            "Epoch 81/100\n",
            "1/1 [==============================] - 0s 60ms/step - loss: 1.9975\n",
            "Epoch 82/100\n",
            "1/1 [==============================] - 0s 58ms/step - loss: 1.9971\n",
            "Epoch 83/100\n",
            "1/1 [==============================] - 0s 63ms/step - loss: 1.9968\n",
            "Epoch 84/100\n",
            "1/1 [==============================] - 0s 31ms/step - loss: 1.9964\n",
            "Epoch 85/100\n",
            "1/1 [==============================] - 0s 58ms/step - loss: 1.9962\n",
            "Epoch 86/100\n",
            "1/1 [==============================] - 0s 37ms/step - loss: 1.9959\n",
            "Epoch 87/100\n",
            "1/1 [==============================] - 0s 34ms/step - loss: 1.9957\n",
            "Epoch 88/100\n",
            "1/1 [==============================] - 0s 61ms/step - loss: 1.9955\n",
            "Epoch 89/100\n",
            "1/1 [==============================] - 0s 40ms/step - loss: 1.9953\n",
            "Epoch 90/100\n",
            "1/1 [==============================] - 0s 32ms/step - loss: 1.9950\n",
            "Epoch 91/100\n",
            "1/1 [==============================] - 0s 43ms/step - loss: 1.9948\n",
            "Epoch 92/100\n",
            "1/1 [==============================] - 0s 40ms/step - loss: 1.9945\n",
            "Epoch 93/100\n",
            "1/1 [==============================] - 0s 33ms/step - loss: 1.9941\n",
            "Epoch 94/100\n",
            "1/1 [==============================] - 0s 38ms/step - loss: 1.9938\n",
            "Epoch 95/100\n",
            "1/1 [==============================] - 0s 52ms/step - loss: 1.9933\n",
            "Epoch 96/100\n",
            "1/1 [==============================] - 0s 45ms/step - loss: 1.9929\n",
            "Epoch 97/100\n",
            "1/1 [==============================] - 0s 50ms/step - loss: 1.9925\n",
            "Epoch 98/100\n",
            "1/1 [==============================] - 0s 45ms/step - loss: 1.9920\n",
            "Epoch 99/100\n",
            "1/1 [==============================] - 0s 55ms/step - loss: 1.9915\n",
            "Epoch 100/100\n",
            "1/1 [==============================] - 0s 47ms/step - loss: 1.9910\n"
          ]
        },
        {
          "data": {
            "text/plain": [
              "<keras.callbacks.History at 0x7f18c03a1040>"
            ]
          },
          "execution_count": 39,
          "metadata": {},
          "output_type": "execute_result"
        }
      ],
      "source": [
        "# Define the number of inputs, hidden units, and outputs\n",
        "n_inputs = X_direction_train.shape[1]\n",
        "n_hidden1 = 100\n",
        "n_hidden2 = 50\n",
        "n_hidden3 = 25\n",
        "n_outputs = 1\n",
        "\n",
        "# Create the LSTM model\n",
        "model = Sequential()\n",
        "model.add(LSTM(n_hidden1, input_shape=(n_inputs, 1), return_sequences=True))\n",
        "model.add(LSTM(n_hidden2, return_sequences=True))\n",
        "model.add(LSTM(n_hidden3))\n",
        "model.add(Dense(n_outputs))\n",
        "\n",
        "# Compile the model\n",
        "model.compile(loss='mean_squared_error', optimizer='adam')\n",
        "\n",
        "# Train the model\n",
        "model.fit(X_direction_train, y_direction_train, epochs=100, batch_size=64)"
      ]
    },
    {
      "cell_type": "code",
      "execution_count": null,
      "metadata": {
        "colab": {
          "base_uri": "https://localhost:8080/"
        },
        "id": "yCEl031yrdM0",
        "outputId": "88ab5b56-4ff4-4610-eb1d-b5ba7a01937c"
      },
      "outputs": [
        {
          "name": "stdout",
          "output_type": "stream",
          "text": [
            "Epoch 1/100\n",
            "1/1 [==============================] - 5s 5s/step - loss: 0.0301\n",
            "Epoch 2/100\n",
            "1/1 [==============================] - 0s 39ms/step - loss: 0.0023\n",
            "Epoch 3/100\n",
            "1/1 [==============================] - 0s 35ms/step - loss: 0.0163\n",
            "Epoch 4/100\n",
            "1/1 [==============================] - 0s 32ms/step - loss: 0.0145\n",
            "Epoch 5/100\n",
            "1/1 [==============================] - 0s 32ms/step - loss: 0.0058\n",
            "Epoch 6/100\n",
            "1/1 [==============================] - 0s 29ms/step - loss: 0.0018\n",
            "Epoch 7/100\n",
            "1/1 [==============================] - 0s 29ms/step - loss: 0.0035\n",
            "Epoch 8/100\n",
            "1/1 [==============================] - 0s 30ms/step - loss: 0.0064\n",
            "Epoch 9/100\n",
            "1/1 [==============================] - 0s 31ms/step - loss: 0.0073\n",
            "Epoch 10/100\n",
            "1/1 [==============================] - 0s 37ms/step - loss: 0.0059\n",
            "Epoch 11/100\n",
            "1/1 [==============================] - 0s 34ms/step - loss: 0.0037\n",
            "Epoch 12/100\n",
            "1/1 [==============================] - 0s 31ms/step - loss: 0.0020\n",
            "Epoch 13/100\n",
            "1/1 [==============================] - 0s 35ms/step - loss: 0.0017\n",
            "Epoch 14/100\n",
            "1/1 [==============================] - 0s 37ms/step - loss: 0.0024\n",
            "Epoch 15/100\n",
            "1/1 [==============================] - 0s 34ms/step - loss: 0.0034\n",
            "Epoch 16/100\n",
            "1/1 [==============================] - 0s 35ms/step - loss: 0.0039\n",
            "Epoch 17/100\n",
            "1/1 [==============================] - 0s 33ms/step - loss: 0.0036\n",
            "Epoch 18/100\n",
            "1/1 [==============================] - 0s 35ms/step - loss: 0.0028\n",
            "Epoch 19/100\n",
            "1/1 [==============================] - 0s 33ms/step - loss: 0.0020\n",
            "Epoch 20/100\n",
            "1/1 [==============================] - 0s 34ms/step - loss: 0.0016\n",
            "Epoch 21/100\n",
            "1/1 [==============================] - 0s 33ms/step - loss: 0.0016\n",
            "Epoch 22/100\n",
            "1/1 [==============================] - 0s 32ms/step - loss: 0.0020\n",
            "Epoch 23/100\n",
            "1/1 [==============================] - 0s 36ms/step - loss: 0.0023\n",
            "Epoch 24/100\n",
            "1/1 [==============================] - 0s 33ms/step - loss: 0.0025\n",
            "Epoch 25/100\n",
            "1/1 [==============================] - 0s 37ms/step - loss: 0.0024\n",
            "Epoch 26/100\n",
            "1/1 [==============================] - 0s 31ms/step - loss: 0.0021\n",
            "Epoch 27/100\n",
            "1/1 [==============================] - 0s 30ms/step - loss: 0.0018\n",
            "Epoch 28/100\n",
            "1/1 [==============================] - 0s 29ms/step - loss: 0.0016\n",
            "Epoch 29/100\n",
            "1/1 [==============================] - 0s 28ms/step - loss: 0.0016\n",
            "Epoch 30/100\n",
            "1/1 [==============================] - 0s 28ms/step - loss: 0.0017\n",
            "Epoch 31/100\n",
            "1/1 [==============================] - 0s 30ms/step - loss: 0.0018\n",
            "Epoch 32/100\n",
            "1/1 [==============================] - 0s 31ms/step - loss: 0.0019\n",
            "Epoch 33/100\n",
            "1/1 [==============================] - 0s 28ms/step - loss: 0.0019\n",
            "Epoch 34/100\n",
            "1/1 [==============================] - 0s 39ms/step - loss: 0.0018\n",
            "Epoch 35/100\n",
            "1/1 [==============================] - 0s 37ms/step - loss: 0.0017\n",
            "Epoch 36/100\n",
            "1/1 [==============================] - 0s 38ms/step - loss: 0.0016\n",
            "Epoch 37/100\n",
            "1/1 [==============================] - 0s 34ms/step - loss: 0.0016\n",
            "Epoch 38/100\n",
            "1/1 [==============================] - 0s 38ms/step - loss: 0.0016\n",
            "Epoch 39/100\n",
            "1/1 [==============================] - 0s 29ms/step - loss: 0.0016\n",
            "Epoch 40/100\n",
            "1/1 [==============================] - 0s 30ms/step - loss: 0.0017\n",
            "Epoch 41/100\n",
            "1/1 [==============================] - 0s 32ms/step - loss: 0.0017\n",
            "Epoch 42/100\n",
            "1/1 [==============================] - 0s 29ms/step - loss: 0.0017\n",
            "Epoch 43/100\n",
            "1/1 [==============================] - 0s 41ms/step - loss: 0.0016\n",
            "Epoch 44/100\n",
            "1/1 [==============================] - 0s 34ms/step - loss: 0.0016\n",
            "Epoch 45/100\n",
            "1/1 [==============================] - 0s 40ms/step - loss: 0.0015\n",
            "Epoch 46/100\n",
            "1/1 [==============================] - 0s 33ms/step - loss: 0.0015\n",
            "Epoch 47/100\n",
            "1/1 [==============================] - 0s 29ms/step - loss: 0.0016\n",
            "Epoch 48/100\n",
            "1/1 [==============================] - 0s 29ms/step - loss: 0.0016\n",
            "Epoch 49/100\n",
            "1/1 [==============================] - 0s 29ms/step - loss: 0.0016\n",
            "Epoch 50/100\n",
            "1/1 [==============================] - 0s 29ms/step - loss: 0.0016\n",
            "Epoch 51/100\n",
            "1/1 [==============================] - 0s 29ms/step - loss: 0.0016\n",
            "Epoch 52/100\n",
            "1/1 [==============================] - 0s 29ms/step - loss: 0.0015\n",
            "Epoch 53/100\n",
            "1/1 [==============================] - 0s 31ms/step - loss: 0.0015\n",
            "Epoch 54/100\n",
            "1/1 [==============================] - 0s 29ms/step - loss: 0.0015\n",
            "Epoch 55/100\n",
            "1/1 [==============================] - 0s 29ms/step - loss: 0.0015\n",
            "Epoch 56/100\n",
            "1/1 [==============================] - 0s 29ms/step - loss: 0.0015\n",
            "Epoch 57/100\n",
            "1/1 [==============================] - 0s 30ms/step - loss: 0.0015\n",
            "Epoch 58/100\n",
            "1/1 [==============================] - 0s 30ms/step - loss: 0.0015\n",
            "Epoch 59/100\n",
            "1/1 [==============================] - 0s 29ms/step - loss: 0.0015\n",
            "Epoch 60/100\n",
            "1/1 [==============================] - 0s 29ms/step - loss: 0.0015\n",
            "Epoch 61/100\n",
            "1/1 [==============================] - 0s 30ms/step - loss: 0.0015\n",
            "Epoch 62/100\n",
            "1/1 [==============================] - 0s 32ms/step - loss: 0.0015\n",
            "Epoch 63/100\n",
            "1/1 [==============================] - 0s 33ms/step - loss: 0.0015\n",
            "Epoch 64/100\n",
            "1/1 [==============================] - 0s 35ms/step - loss: 0.0015\n",
            "Epoch 65/100\n",
            "1/1 [==============================] - 0s 35ms/step - loss: 0.0015\n",
            "Epoch 66/100\n",
            "1/1 [==============================] - 0s 34ms/step - loss: 0.0015\n",
            "Epoch 67/100\n",
            "1/1 [==============================] - 0s 30ms/step - loss: 0.0015\n",
            "Epoch 68/100\n",
            "1/1 [==============================] - 0s 35ms/step - loss: 0.0015\n",
            "Epoch 69/100\n",
            "1/1 [==============================] - 0s 34ms/step - loss: 0.0015\n",
            "Epoch 70/100\n",
            "1/1 [==============================] - 0s 28ms/step - loss: 0.0015\n",
            "Epoch 71/100\n",
            "1/1 [==============================] - 0s 33ms/step - loss: 0.0015\n",
            "Epoch 72/100\n",
            "1/1 [==============================] - 0s 31ms/step - loss: 0.0015\n",
            "Epoch 73/100\n",
            "1/1 [==============================] - 0s 37ms/step - loss: 0.0015\n",
            "Epoch 74/100\n",
            "1/1 [==============================] - 0s 32ms/step - loss: 0.0015\n",
            "Epoch 75/100\n",
            "1/1 [==============================] - 0s 31ms/step - loss: 0.0015\n",
            "Epoch 76/100\n",
            "1/1 [==============================] - 0s 30ms/step - loss: 0.0015\n",
            "Epoch 77/100\n",
            "1/1 [==============================] - 0s 34ms/step - loss: 0.0015\n",
            "Epoch 78/100\n",
            "1/1 [==============================] - 0s 31ms/step - loss: 0.0015\n",
            "Epoch 79/100\n",
            "1/1 [==============================] - 0s 30ms/step - loss: 0.0015\n",
            "Epoch 80/100\n",
            "1/1 [==============================] - 0s 30ms/step - loss: 0.0015\n",
            "Epoch 81/100\n",
            "1/1 [==============================] - 0s 32ms/step - loss: 0.0014\n",
            "Epoch 82/100\n",
            "1/1 [==============================] - 0s 32ms/step - loss: 0.0014\n",
            "Epoch 83/100\n",
            "1/1 [==============================] - 0s 30ms/step - loss: 0.0014\n",
            "Epoch 84/100\n",
            "1/1 [==============================] - 0s 34ms/step - loss: 0.0014\n",
            "Epoch 85/100\n",
            "1/1 [==============================] - 0s 34ms/step - loss: 0.0014\n",
            "Epoch 86/100\n",
            "1/1 [==============================] - 0s 36ms/step - loss: 0.0014\n",
            "Epoch 87/100\n",
            "1/1 [==============================] - 0s 30ms/step - loss: 0.0014\n",
            "Epoch 88/100\n",
            "1/1 [==============================] - 0s 38ms/step - loss: 0.0014\n",
            "Epoch 89/100\n",
            "1/1 [==============================] - 0s 33ms/step - loss: 0.0014\n",
            "Epoch 90/100\n",
            "1/1 [==============================] - 0s 29ms/step - loss: 0.0014\n",
            "Epoch 91/100\n",
            "1/1 [==============================] - 0s 30ms/step - loss: 0.0014\n",
            "Epoch 92/100\n",
            "1/1 [==============================] - 0s 32ms/step - loss: 0.0014\n",
            "Epoch 93/100\n",
            "1/1 [==============================] - 0s 27ms/step - loss: 0.0014\n",
            "Epoch 94/100\n",
            "1/1 [==============================] - 0s 28ms/step - loss: 0.0014\n",
            "Epoch 95/100\n",
            "1/1 [==============================] - 0s 32ms/step - loss: 0.0014\n",
            "Epoch 96/100\n",
            "1/1 [==============================] - 0s 29ms/step - loss: 0.0014\n",
            "Epoch 97/100\n",
            "1/1 [==============================] - 0s 30ms/step - loss: 0.0014\n",
            "Epoch 98/100\n",
            "1/1 [==============================] - 0s 29ms/step - loss: 0.0014\n",
            "Epoch 99/100\n",
            "1/1 [==============================] - 0s 27ms/step - loss: 0.0014\n",
            "Epoch 100/100\n",
            "1/1 [==============================] - 0s 28ms/step - loss: 0.0014\n"
          ]
        },
        {
          "data": {
            "text/plain": [
              "<keras.callbacks.History at 0x7f18b266a8b0>"
            ]
          },
          "execution_count": 40,
          "metadata": {},
          "output_type": "execute_result"
        }
      ],
      "source": [
        "model1 = Sequential()\n",
        "model1.add(LSTM(n_hidden1, input_shape=(n_inputs, 1), return_sequences=True))\n",
        "model1.add(LSTM(n_hidden2, return_sequences=True))\n",
        "model1.add(LSTM(n_hidden3))\n",
        "model1.add(Dense(n_outputs))\n",
        "\n",
        "# Compile the model\n",
        "model1.compile(loss='mean_squared_error', optimizer='adam')\n",
        "\n",
        "# Train the model\n",
        "model1.fit(X_length_train, y_length_train, epochs=100, batch_size=64)"
      ]
    },
    {
      "cell_type": "code",
      "execution_count": null,
      "metadata": {
        "colab": {
          "base_uri": "https://localhost:8080/"
        },
        "id": "7-ox2-1yWtml",
        "outputId": "29c8eaf5-1e4a-401c-a990-047f81108707"
      },
      "outputs": [
        {
          "name": "stdout",
          "output_type": "stream",
          "text": [
            "1/1 [==============================] - 1s 1s/step\n",
            "1/1 [==============================] - 2s 2s/step\n",
            "[[[3.4358263  0.05398309]]\n",
            "\n",
            " [[3.4246497  0.05182162]]\n",
            "\n",
            " [[3.4299345  0.05199566]]\n",
            "\n",
            " [[3.436782   0.0549386 ]]\n",
            "\n",
            " [[3.4201987  0.05793467]]\n",
            "\n",
            " [[3.4244108  0.05305706]]\n",
            "\n",
            " [[3.438556   0.05467736]]\n",
            "\n",
            " [[3.445035   0.0370539 ]]\n",
            "\n",
            " [[3.4450085  0.05053993]]]\n"
          ]
        }
      ],
      "source": [
        "Y_test_predicted_lstm_direction = model.predict(X_direction_test)\n",
        "# print(Y_test_predicted_lstm_direction)\n",
        "Y_test_predicted_lstm_length = model1.predict(X_length_test)\n",
        "# print(Y_test_predicted_lstm_length)\n",
        "predicted = np.dstack((Y_test_predicted_lstm_direction,Y_test_predicted_lstm_length))\n",
        "print(predicted)"
      ]
    },
    {
      "cell_type": "code",
      "execution_count": null,
      "metadata": {
        "colab": {
          "base_uri": "https://localhost:8080/"
        },
        "id": "FaUcmTtdXpU5",
        "outputId": "04766891-a951-43c3-8eec-9a44fbde72f4"
      },
      "outputs": [
        {
          "name": "stdout",
          "output_type": "stream",
          "text": [
            "0.7385692850954713\n"
          ]
        }
      ],
      "source": [
        "errorlstm = mean_squared_error(y_direction_test,Y_test_predicted_lstm_direction[:,0])\n",
        "print(errorlstm)\n",
        "lstm = [Y_test_predicted_lstm_direction,Y_test_predicted_lstm_length,errorlstm]"
      ]
    },
    {
      "cell_type": "code",
      "execution_count": null,
      "metadata": {
        "colab": {
          "base_uri": "https://localhost:8080/"
        },
        "id": "kk1V1jQwaE_p",
        "outputId": "d5a33887-95ea-445e-dce4-5887fe42f95e"
      },
      "outputs": [
        {
          "data": {
            "text/plain": [
              "0.0008460121448754676"
            ]
          },
          "execution_count": 70,
          "metadata": {},
          "output_type": "execute_result"
        }
      ],
      "source": [
        "mean_squared_error(y_length_test,Y_test_predicted_lstm_length[:,0])"
      ]
    },
    {
      "cell_type": "markdown",
      "metadata": {
        "id": "kVHzaNUgbMal"
      },
      "source": [
        "MLP"
      ]
    },
    {
      "cell_type": "code",
      "execution_count": null,
      "metadata": {
        "id": "qAL8TWUUbPkx"
      },
      "outputs": [],
      "source": [
        "from sklearn.neural_network import MLPRegressor\n",
        "mlp = MLPRegressor(hidden_layer_sizes=100,learning_rate_init=0.1,max_iter=300,verbose=True)\n",
        "mlp1 = MLPRegressor(hidden_layer_sizes=100,learning_rate_init=0.1,max_iter=300,verbose=True)"
      ]
    },
    {
      "cell_type": "code",
      "execution_count": null,
      "metadata": {
        "colab": {
          "base_uri": "https://localhost:8080/"
        },
        "id": "lEjSPVaNlCxV",
        "outputId": "2a9984fe-b9c7-4891-da1a-987593a8730a"
      },
      "outputs": [
        {
          "name": "stdout",
          "output_type": "stream",
          "text": [
            "Iteration 1, loss = 44.25508532\n",
            "Iteration 2, loss = 1928.65352567\n",
            "Iteration 3, loss = 150.98800688\n",
            "Iteration 4, loss = 73.45622949\n",
            "Iteration 5, loss = 169.43475614\n",
            "Iteration 6, loss = 43.20275989\n",
            "Iteration 7, loss = 57.26868401\n",
            "Iteration 8, loss = 62.14856074\n",
            "Iteration 9, loss = 4.70799364\n",
            "Iteration 10, loss = 13.05576246\n",
            "Iteration 11, loss = 32.28816036\n",
            "Iteration 12, loss = 28.45385042\n",
            "Iteration 13, loss = 11.94169780\n",
            "Iteration 14, loss = 1.76554913\n",
            "Iteration 15, loss = 6.11734109\n",
            "Iteration 16, loss = 15.43897032\n",
            "Iteration 17, loss = 15.60195831\n",
            "Iteration 18, loss = 7.99684632\n",
            "Iteration 19, loss = 2.40365214\n",
            "Iteration 20, loss = 2.38735271\n",
            "Iteration 21, loss = 5.26179434\n",
            "Iteration 22, loss = 7.65633695\n",
            "Iteration 23, loss = 8.15511446\n",
            "Iteration 24, loss = 6.93009795\n",
            "Iteration 25, loss = 4.87398279\n",
            "Training loss did not improve more than tol=0.000100 for 10 consecutive epochs. Stopping.\n"
          ]
        }
      ],
      "source": [
        "model_direction_mlp = mlp.fit(X_direction_train, y_direction_train)"
      ]
    },
    {
      "cell_type": "code",
      "execution_count": null,
      "metadata": {
        "colab": {
          "base_uri": "https://localhost:8080/"
        },
        "id": "XrhMIFv-hE3q",
        "outputId": "b80faab7-175a-4346-c93b-842c08e613a7"
      },
      "outputs": [
        {
          "name": "stdout",
          "output_type": "stream",
          "text": [
            "Iteration 1, loss = 30.13836474\n",
            "Iteration 2, loss = 1427.35668303\n",
            "Iteration 3, loss = 119.16046813\n",
            "Iteration 4, loss = 40.07622132\n",
            "Iteration 5, loss = 92.86624949\n",
            "Iteration 6, loss = 8.09361847\n",
            "Iteration 7, loss = 124.63794658\n",
            "Iteration 8, loss = 18.75989204\n",
            "Iteration 9, loss = 18.97816413\n",
            "Iteration 10, loss = 63.43016165\n",
            "Iteration 11, loss = 45.25117112\n",
            "Iteration 12, loss = 7.21580300\n",
            "Iteration 13, loss = 4.25602780\n",
            "Iteration 14, loss = 27.26826200\n",
            "Iteration 15, loss = 29.36024504\n",
            "Iteration 16, loss = 11.28912083\n",
            "Iteration 17, loss = 0.43480295\n",
            "Iteration 18, loss = 2.61218034\n",
            "Iteration 19, loss = 8.69636855\n",
            "Iteration 20, loss = 11.49965495\n",
            "Iteration 21, loss = 9.87400603\n",
            "Iteration 22, loss = 6.01334089\n",
            "Iteration 23, loss = 2.39930592\n",
            "Iteration 24, loss = 0.37338951\n",
            "Iteration 25, loss = 0.09866783\n",
            "Iteration 26, loss = 0.99277477\n",
            "Iteration 27, loss = 2.21562945\n",
            "Iteration 28, loss = 3.07062451\n",
            "Iteration 29, loss = 3.24100113\n",
            "Iteration 30, loss = 2.80110959\n",
            "Iteration 31, loss = 2.04457189\n",
            "Iteration 32, loss = 1.26965412\n",
            "Iteration 33, loss = 0.65984554\n",
            "Iteration 34, loss = 0.27023608\n",
            "Iteration 35, loss = 0.07400658\n",
            "Iteration 36, loss = 0.01328012\n",
            "Iteration 37, loss = 0.03075169\n",
            "Iteration 38, loss = 0.08283196\n",
            "Iteration 39, loss = 0.14147985\n",
            "Iteration 40, loss = 0.19173683\n",
            "Iteration 41, loss = 0.22677649\n",
            "Iteration 42, loss = 0.24471874\n",
            "Iteration 43, loss = 0.24696953\n",
            "Iteration 44, loss = 0.23702772\n",
            "Iteration 45, loss = 0.21850417\n",
            "Iteration 46, loss = 0.19446189\n",
            "Iteration 47, loss = 0.16763569\n",
            "Training loss did not improve more than tol=0.000100 for 10 consecutive epochs. Stopping.\n"
          ]
        }
      ],
      "source": [
        "model_length_mlp = mlp1.fit(X_length_train, y_length_train)"
      ]
    },
    {
      "cell_type": "code",
      "execution_count": null,
      "metadata": {
        "id": "-PLRQIU2qkXL"
      },
      "outputs": [],
      "source": [
        "Y_test_predicted_mlp_direction = mlp.predict(X_direction_test)\n",
        "Y_test_predicted_mlp_length = mlp1.predict(X_length_test)"
      ]
    },
    {
      "cell_type": "code",
      "execution_count": null,
      "metadata": {
        "colab": {
          "base_uri": "https://localhost:8080/"
        },
        "id": "AFm8qsXtteeN",
        "outputId": "6b0218ef-a69b-4082-a99d-b66b6fa951da"
      },
      "outputs": [
        {
          "name": "stdout",
          "output_type": "stream",
          "text": [
            "4.157331414652099\n"
          ]
        }
      ],
      "source": [
        "errormlp = mean_squared_error(y_direction_test,Y_test_predicted_mlp_direction)\n",
        "print(errormlp)\n",
        "svr = [Y_test_predicted_mlp_direction,Y_test_predicted_mlp_length,errormlp]"
      ]
    },
    {
      "cell_type": "code",
      "execution_count": null,
      "metadata": {
        "colab": {
          "base_uri": "https://localhost:8080/"
        },
        "id": "NWZBbIc1u8kt",
        "outputId": "3da8e373-f31d-4537-aa9d-1b2f9c9c0004"
      },
      "outputs": [
        {
          "data": {
            "text/plain": [
              "<tf.Tensor: shape=(), dtype=float64, numpy=0.26290030091485944>"
            ]
          },
          "execution_count": 52,
          "metadata": {},
          "output_type": "execute_result"
        }
      ],
      "source": [
        "mean_squared_error(y_length_test,Y_test_predicted_mlp_length)"
      ]
    },
    {
      "cell_type": "markdown",
      "metadata": {
        "id": "KH08UqHjyQzk"
      },
      "source": [
        "GradientBoostingRegressor"
      ]
    },
    {
      "cell_type": "code",
      "execution_count": null,
      "metadata": {
        "id": "Jnm5k-66y8U0"
      },
      "outputs": [],
      "source": [
        "from sklearn.ensemble import GradientBoostingRegressor\n",
        "from sklearn.metrics import mean_squared_error"
      ]
    },
    {
      "cell_type": "code",
      "execution_count": null,
      "metadata": {
        "colab": {
          "base_uri": "https://localhost:8080/"
        },
        "id": "GQTXaf6NyStP",
        "outputId": "d4fb9b45-1db4-4569-ddd7-ae34e366886a"
      },
      "outputs": [
        {
          "name": "stdout",
          "output_type": "stream",
          "text": [
            "0.6953821884323592\n"
          ]
        }
      ],
      "source": [
        "model_direction = GradientBoostingRegressor(n_estimators=100, learning_rate=0.1, max_depth=5, random_state=0, loss='ls').fit(X_direction_train, y_direction_train)\n",
        "errorgrad = mean_squared_error(y_direction_test, model_direction.predict(X_direction_test))\n",
        "print(errorgrad)"
      ]
    },
    {
      "cell_type": "code",
      "execution_count": null,
      "metadata": {
        "id": "wYcsagr4zPDD"
      },
      "outputs": [],
      "source": [
        "model_length = GradientBoostingRegressor(n_estimators=100, learning_rate=0.1, max_depth=5, random_state=0, loss='ls').fit(X_length_train, y_length_train)\n",
        "mean_squared_error(y_length_test, model_length.predict(X_length_test))\n",
        "grad = [model_direction,model_length,errorgrad]"
      ]
    },
    {
      "cell_type": "markdown",
      "metadata": {
        "id": "zOllYn-r0Srz"
      },
      "source": [
        "SVR"
      ]
    },
    {
      "cell_type": "code",
      "execution_count": null,
      "metadata": {
        "id": "wBlYp82pznP1"
      },
      "outputs": [],
      "source": [
        "from sklearn.svm import SVR\n",
        "svr = SVR(kernel='rbf',C=1.0,epsilon=0.1,degree=3)\n",
        "svr1 = SVR(kernel='rbf',C=1.0,epsilon=0.1,degree=3)"
      ]
    },
    {
      "cell_type": "code",
      "execution_count": null,
      "metadata": {
        "id": "qTy-xce60hgR"
      },
      "outputs": [],
      "source": [
        "model_direction_svr = svr.fit(X_direction_train, y_direction_train)\n",
        "model_length_svr = svr1.fit(X_length_train, y_length_train)"
      ]
    },
    {
      "cell_type": "code",
      "execution_count": null,
      "metadata": {
        "id": "TjQ0Bdn41JOp"
      },
      "outputs": [],
      "source": [
        "Y_test_direction_predicted_svr = model_direction_svr.predict(X_direction_test)\n",
        "Y_test_length_predicted_svr = model_length_svr.predict(X_length_test)"
      ]
    },
    {
      "cell_type": "code",
      "execution_count": null,
      "metadata": {
        "colab": {
          "base_uri": "https://localhost:8080/"
        },
        "id": "jEq4pShi2XeO",
        "outputId": "5094ecec-cfa8-45e3-a4f7-3a7e2899df4b"
      },
      "outputs": [
        {
          "name": "stdout",
          "output_type": "stream",
          "text": [
            "0.6994573790852603\n"
          ]
        }
      ],
      "source": [
        "errorsvr = mean_squared_error(y_direction_test,Y_test_direction_predicted_svr)\n",
        "print(errorsvr)\n",
        "svr = [Y_test_direction_predicted_svr,Y_test_length_predicted_svr,errorsvr]"
      ]
    },
    {
      "cell_type": "code",
      "execution_count": null,
      "metadata": {
        "colab": {
          "base_uri": "https://localhost:8080/"
        },
        "id": "JY4tWuLV2iVq",
        "outputId": "a8c67c82-3de9-4099-d5b8-fd9756237ddf"
      },
      "outputs": [
        {
          "data": {
            "text/plain": [
              "0.002666187337117972"
            ]
          },
          "execution_count": 75,
          "metadata": {},
          "output_type": "execute_result"
        }
      ],
      "source": [
        "mean_squared_error(y_length_test,Y_test_length_predicted_svr)"
      ]
    },
    {
      "cell_type": "markdown",
      "metadata": {
        "id": "M22tvNvj3nfq"
      },
      "source": [
        "LinearRegression"
      ]
    },
    {
      "cell_type": "code",
      "execution_count": null,
      "metadata": {
        "id": "5qgNNU1s3pvT"
      },
      "outputs": [],
      "source": [
        "from sklearn.linear_model import LinearRegression\n",
        "lin_reg = LinearRegression(fit_intercept=True, normalize=False, copy_X=True, n_jobs=1)\n",
        "lin_reg1 = LinearRegression(fit_intercept=True, normalize=False, copy_X=True, n_jobs=1)"
      ]
    },
    {
      "cell_type": "code",
      "execution_count": null,
      "metadata": {
        "id": "6VxMkwTm7Eri"
      },
      "outputs": [],
      "source": [
        "model_direction_lr = lin_reg.fit(X_direction_train, y_direction_train)\n",
        "model_length_lr = lin_reg1.fit(X_length_test,y_length_test)"
      ]
    },
    {
      "cell_type": "code",
      "execution_count": null,
      "metadata": {
        "id": "Inq4HjjY7SRD"
      },
      "outputs": [],
      "source": [
        "Y_test_direction_predicted_lr = model_direction_lr.predict(X_direction_test)\n",
        "Y_test_length_predicted_lr = model_length_lr.predict(X_length_test)"
      ]
    },
    {
      "cell_type": "code",
      "execution_count": null,
      "metadata": {
        "colab": {
          "base_uri": "https://localhost:8080/"
        },
        "id": "H1hISrOQ7WUc",
        "outputId": "83ef854b-32a1-4a77-f6b5-a0b78c087d4d"
      },
      "outputs": [
        {
          "name": "stdout",
          "output_type": "stream",
          "text": [
            "0.7218825559997097\n"
          ]
        }
      ],
      "source": [
        "errorlr = mean_squared_error(y_direction_test,Y_test_direction_predicted_lr)\n",
        "print(errorlr)\n",
        "lr = [Y_test_direction_predicted_lr,Y_test_length_predicted_lr,errorlr]"
      ]
    },
    {
      "cell_type": "code",
      "execution_count": null,
      "metadata": {
        "colab": {
          "base_uri": "https://localhost:8080/"
        },
        "id": "vpM-DgPP7ZUv",
        "outputId": "50b2ac28-bd34-4ee3-d00b-8fc60471c9a2"
      },
      "outputs": [
        {
          "data": {
            "text/plain": [
              "9.804575451943719e-05"
            ]
          },
          "execution_count": 77,
          "metadata": {},
          "output_type": "execute_result"
        }
      ],
      "source": [
        "mean_squared_error(y_length_test,Y_test_length_predicted_lr)"
      ]
    },
    {
      "cell_type": "code",
      "execution_count": null,
      "metadata": {
        "colab": {
          "base_uri": "https://localhost:8080/"
        },
        "id": "7o4-dc8ncbfk",
        "outputId": "a551fb75-68b3-4b6c-9718-ffed9d436735"
      },
      "outputs": [
        {
          "name": "stdout",
          "output_type": "stream",
          "text": [
            "[0.7385692850954713, 4.157331414652099, 0.6953821884323592, 0.6994573790852603, 0.7218825559997097]\n",
            "0.6953821884323592\n"
          ]
        }
      ],
      "source": [
        "predvals = [errorlstm,errormlp,errorgrad,errorsvr,errorlr]\n",
        "print(predvals)\n",
        "\n",
        "minerror = min(predvals)\n",
        "print(minerror)"
      ]
    },
    {
      "cell_type": "code",
      "execution_count": null,
      "metadata": {
        "id": "O8omSFP_iIbS"
      },
      "outputs": [],
      "source": [
        "if minerror==errorlstm:\n",
        "  model_direction = lstm[0]\n",
        "  model_length = lstm[1]\n",
        "elif minerror==errormlp:\n",
        "  model_direction = mlp[0]\n",
        "  model_length = mlp[1]\n",
        "elif minerror==errorsvr:\n",
        "  model_direction = svr[0]\n",
        "  model_length = svr[1]\n",
        "elif minerror==errorlr:\n",
        "  model_direction = lr[0]\n",
        "  model_length = lr[1]"
      ]
    },
    {
      "cell_type": "code",
      "execution_count": null,
      "metadata": {
        "id": "jytTk_u1DUKr"
      },
      "outputs": [],
      "source": [
        "lat_min = df.Latitude.min()\n",
        "long_min = df.Longitude.min()\n",
        "temp_x = df.Latitude-lat_min\n",
        "temp_y = df.Longitude-long_min\n",
        "x_max = temp_x.max()\n",
        "y_max = temp_y.max()\n",
        "\n",
        "def coords_to_latlong(x, y, lat_min, long_min, x_max, y_max):\n",
        "    return (x*x_max)+lat_min, (y*y_max)+long_min"
      ]
    },
    {
      "cell_type": "code",
      "execution_count": null,
      "metadata": {
        "id": "cA4fO-8PB04p"
      },
      "outputs": [],
      "source": [
        "gdf_pred = gdf[[\"Latitude\", \"Longitude\", \"Maximum Wind\", \"x\", \"y\", \"month\", \"hour\", \"prev_len\", \"prev_direction\", \"vec_len\", \"vec_direction\"]][gdf.CycloneName=='Tropical Cyclone Cheneso']\n",
        "X_pred_direction = gdf_pred[[\"Maximum Wind\", \"x\", \"y\", \"month\", \"hour\", \"prev_len\", \"prev_direction\"]].iloc[1:].values\n",
        "X_pred_len = gdf_pred[[\"Maximum Wind\", \"x\", \"y\", \"month\", \"hour\", \"prev_len\", \"prev_direction\"]].iloc[1:].values"
      ]
    },
    {
      "cell_type": "code",
      "execution_count": null,
      "metadata": {
        "id": "SBxDDNvxCOhc"
      },
      "outputs": [],
      "source": [
        "df_pred = pd.DataFrame({\"pred_len\": model_length.predict(X_pred_len), \"pred_direction\": model_direction.predict(X_pred_direction)})"
      ]
    },
    {
      "cell_type": "code",
      "execution_count": null,
      "metadata": {
        "id": "FgZiVXWGCTb0"
      },
      "outputs": [],
      "source": [
        "df_pred[\"pred_x\"] = np.nan\n",
        "df_pred[\"pred_y\"] = np.nan\n",
        "df_pred[\"real_x\"] = gdf_pred[\"x\"].iloc[1:].values\n",
        "df_pred[\"real_y\"] = gdf_pred[\"y\"].iloc[1:].values"
      ]
    },
    {
      "cell_type": "code",
      "execution_count": null,
      "metadata": {
        "id": "98IX4iADCYmu"
      },
      "outputs": [],
      "source": [
        "last_x = gdf_pred[\"x\"].iloc[0]\n",
        "last_y = gdf_pred[\"y\"].iloc[0]\n",
        "coords = {\"x\": [], \"y\": [], \"id\": []}\n",
        "for i, row in df_pred.iterrows():\n",
        "    vector = np.array([0,1])\n",
        "    R = np.array([[np.cos(row.pred_direction), -np.sin(row.pred_direction)], [np.sin(row.pred_direction), np.cos(row.pred_direction)]])\n",
        "    vector = np.matmul(vector, R)\n",
        "    vector = vector/np.linalg.norm(vector)\n",
        "    vector *= row.pred_len\n",
        "    coords[\"x\"].append(last_x+vector[0])\n",
        "    coords[\"y\"].append(last_y+vector[1])\n",
        "    coords[\"id\"].append(i)\n",
        "    last_x = row.real_x\n",
        "    last_y = row.real_y\n",
        "df_pred.loc[coords[\"id\"], \"pred_x\"] = coords[\"x\"]\n",
        "df_pred.loc[coords[\"id\"], \"pred_y\"] = coords[\"y\"]"
      ]
    },
    {
      "cell_type": "code",
      "execution_count": null,
      "metadata": {
        "id": "g4FdNz8cCpj9"
      },
      "outputs": [],
      "source": [
        "df_pred[\"pred_Longitude\"] = np.nan\n",
        "df_pred[\"real_Longitude\"] = np.nan\n",
        "df_pred[\"pred_Latitude\"] = np.nan\n",
        "df_pred[\"real_Latitude\"] = np.nan\n",
        "latslongs = {\"pred_Longitude\": [], \"real_Longitude\": [], \"pred_Latitude\": [], \"real_Latitude\": [], \"id\": []}\n",
        "for i, row in df_pred.iterrows():\n",
        "    real_Latitude, real_Longitude = coords_to_latlong(row.real_x, row.real_y, lat_min, long_min, x_max, y_max)\n",
        "    latslongs[\"real_Latitude\"].append(real_Latitude)\n",
        "    latslongs[\"real_Longitude\"].append(real_Longitude)\n",
        "    pred_Latitude, pred_Longitude = coords_to_latlong(row.pred_x, row.pred_y, lat_min, long_min, x_max, y_max)\n",
        "    latslongs[\"pred_Latitude\"].append(pred_Latitude)\n",
        "    latslongs[\"pred_Longitude\"].append(pred_Longitude)\n",
        "    latslongs[\"id\"].append(i)\n",
        "df_pred.loc[latslongs[\"id\"], \"real_Latitude\"] = latslongs[\"real_Latitude\"]\n",
        "df_pred.loc[latslongs[\"id\"], \"real_Longitude\"] = latslongs[\"real_Longitude\"]\n",
        "df_pred.loc[latslongs[\"id\"], \"pred_Latitude\"] = latslongs[\"pred_Latitude\"]\n",
        "df_pred.loc[latslongs[\"id\"], \"pred_Longitude\"] = latslongs[\"pred_Longitude\"]"
      ]
    },
    {
      "cell_type": "code",
      "execution_count": null,
      "metadata": {
        "id": "M7abbDQ0CqhL"
      },
      "outputs": [],
      "source": [
        "gdf_real = gpd.GeoDataFrame(df_pred,geometry=gpd.points_from_xy(df_pred.real_Longitude,df_pred.real_Latitude), crs={'init' :'epsg:4326'})\n",
        "gdf_pred = gpd.GeoDataFrame(df_pred,geometry=gpd.points_from_xy(df_pred.pred_Longitude,df_pred.pred_Latitude), crs={'init' :'epsg:4326'})"
      ]
    },
    {
      "cell_type": "code",
      "execution_count": null,
      "metadata": {
        "colab": {
          "base_uri": "https://localhost:8080/",
          "height": 701
        },
        "id": "uvMkEi1eCvnE",
        "outputId": "b01d5450-1cf6-4104-847b-d40499a27597"
      },
      "outputs": [
        {
          "data": {
            "image/png": "[encoded data removed]",
            "text/plain": [
              "<Figure size 1800x864 with 1 Axes>"
            ]
          },
          "metadata": {
            "needs_background": "light"
          },
          "output_type": "display_data"
        }
      ],
      "source": [
        "ax = world.plot(color=\"white\", edgecolor=\"black\", figsize=(25,12))\n",
        "_ = gdf_real.plot(ax=ax, c=\"r\", marker=\"x\", alpha=0.5)\n",
        "_ = gdf_pred.plot(ax=ax, c=\"b\", marker=\"x\", alpha=0.5)\n",
        "_ = plt.xlim(-120, 20)\n",
        "_ = plt.ylim(-10, 60)"
      ]
    }
  ],
  "metadata": {
    "colab": {
      "provenance": []
    },
    "kernelspec": {
      "display_name": "Python 3",
      "language": "python",
      "name": "python3"
    },
    "language_info": {
      "codemirror_mode": {
        "name": "ipython",
        "version": 3
      },
      "file_extension": ".py",
      "mimetype": "text/x-python",
      "name": "python",
      "nbconvert_exporter": "python",
      "pygments_lexer": "ipython3",
      "version": "3.10.4"
    },
    "vscode": {
      "interpreter": {
        "hash": "8c3d4d9970fc5c09c50d9318a9c7fbf4d0159e4b28833276f5678ee22bded273"
      }
    }
  },
  "nbformat": 4,
  "nbformat_minor": 0
}
