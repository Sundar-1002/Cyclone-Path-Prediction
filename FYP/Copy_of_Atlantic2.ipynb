{
  "cells": [
    {
      "cell_type": "code",
      "execution_count": null,
      "metadata": {
        "colab": {
          "base_uri": "https://localhost:8080/"
        },
        "id": "ba7f5MRUSyzQ",
        "outputId": "35a269a8-59d5-4b0a-9960-a6aa36f6cafe"
      },
      "outputs": [
        {
          "name": "stdout",
          "output_type": "stream",
          "text": [
            "Looking in indexes: https://pypi.org/simple, https://us-python.pkg.dev/colab-wheels/public/simple/\n",
            "Requirement already satisfied: geopandas in /usr/local/lib/python3.8/dist-packages (0.12.2)\n",
            "Requirement already satisfied: pyproj>=2.6.1.post1 in /usr/local/lib/python3.8/dist-packages (from geopandas) (3.4.1)\n",
            "Requirement already satisfied: fiona>=1.8 in /usr/local/lib/python3.8/dist-packages (from geopandas) (1.9.1)\n",
            "Requirement already satisfied: pandas>=1.0.0 in /usr/local/lib/python3.8/dist-packages (from geopandas) (1.3.5)\n",
            "Requirement already satisfied: shapely>=1.7 in /usr/local/lib/python3.8/dist-packages (from geopandas) (2.0.1)\n",
            "Requirement already satisfied: packaging in /usr/local/lib/python3.8/dist-packages (from geopandas) (23.0)\n",
            "Requirement already satisfied: certifi in /usr/local/lib/python3.8/dist-packages (from fiona>=1.8->geopandas) (2022.12.7)\n",
            "Requirement already satisfied: click~=8.0 in /usr/local/lib/python3.8/dist-packages (from fiona>=1.8->geopandas) (8.1.3)\n",
            "Requirement already satisfied: attrs>=19.2.0 in /usr/local/lib/python3.8/dist-packages (from fiona>=1.8->geopandas) (22.2.0)\n",
            "Requirement already satisfied: setuptools in /usr/local/lib/python3.8/dist-packages (from fiona>=1.8->geopandas) (57.4.0)\n",
            "Requirement already satisfied: munch>=2.3.2 in /usr/local/lib/python3.8/dist-packages (from fiona>=1.8->geopandas) (2.5.0)\n",
            "Requirement already satisfied: cligj>=0.5 in /usr/local/lib/python3.8/dist-packages (from fiona>=1.8->geopandas) (0.7.2)\n",
            "Requirement already satisfied: click-plugins>=1.0 in /usr/local/lib/python3.8/dist-packages (from fiona>=1.8->geopandas) (1.1.1)\n",
            "Requirement already satisfied: numpy>=1.17.3 in /usr/local/lib/python3.8/dist-packages (from pandas>=1.0.0->geopandas) (1.21.6)\n",
            "Requirement already satisfied: pytz>=2017.3 in /usr/local/lib/python3.8/dist-packages (from pandas>=1.0.0->geopandas) (2022.7.1)\n",
            "Requirement already satisfied: python-dateutil>=2.7.3 in /usr/local/lib/python3.8/dist-packages (from pandas>=1.0.0->geopandas) (2.8.2)\n",
            "Requirement already satisfied: six in /usr/local/lib/python3.8/dist-packages (from munch>=2.3.2->fiona>=1.8->geopandas) (1.15.0)\n"
          ]
        }
      ],
      "source": [
        "%pip install geopandas"
      ]
    },
    {
      "cell_type": "code",
      "execution_count": 1,
      "metadata": {
        "id": "3U70Kl2PQ3yR"
      },
      "outputs": [],
      "source": [
        "import numpy as np\n",
        "import pandas as pd\n",
        "import geopandas as gpd\n",
        "import matplotlib.pyplot as plt\n",
        "import warnings\n",
        "warnings.simplefilter(\"ignore\")\n",
        "plt.style.use(\"bmh\")\n",
        "from keras.metrics.metrics import mean_squared_error"
      ]
    },
    {
      "cell_type": "code",
      "execution_count": 2,
      "metadata": {
        "id": "qfuLl3Y7TepY"
      },
      "outputs": [],
      "source": [
        "df = pd.read_csv('myvalues.csv')"
      ]
    },
    {
      "cell_type": "code",
      "execution_count": 3,
      "metadata": {
        "colab": {
          "base_uri": "https://localhost:8080/",
          "height": 206
        },
        "id": "dN3JCwXFVOYN",
        "outputId": "a8e2276d-e751-4fc0-a38e-3a309861670a"
      },
      "outputs": [
        {
          "data": {
            "text/html": [
              "<div>\n",
              "<style scoped>\n",
              "    .dataframe tbody tr th:only-of-type {\n",
              "        vertical-align: middle;\n",
              "    }\n",
              "\n",
              "    .dataframe tbody tr th {\n",
              "        vertical-align: top;\n",
              "    }\n",
              "\n",
              "    .dataframe thead th {\n",
              "        text-align: right;\n",
              "    }\n",
              "</style>\n",
              "<table border=\"1\" class=\"dataframe\">\n",
              "  <thead>\n",
              "    <tr style=\"text-align: right;\">\n",
              "      <th></th>\n",
              "      <th>CycloneName</th>\n",
              "      <th>DateTime</th>\n",
              "      <th>Type</th>\n",
              "      <th>Latitude</th>\n",
              "      <th>Longitude</th>\n",
              "      <th>Maximum Wind</th>\n",
              "    </tr>\n",
              "  </thead>\n",
              "  <tbody>\n",
              "    <tr>\n",
              "      <th>0</th>\n",
              "      <td>Tropical Cyclone Dingani</td>\n",
              "      <td>2023-02-09T06:00:00Z</td>\n",
              "      <td>Point</td>\n",
              "      <td>89.1</td>\n",
              "      <td>-16.9</td>\n",
              "      <td>40.0</td>\n",
              "    </tr>\n",
              "    <tr>\n",
              "      <th>1</th>\n",
              "      <td>Tropical Cyclone Dingani</td>\n",
              "      <td>2023-02-09T12:00:00Z</td>\n",
              "      <td>Point</td>\n",
              "      <td>87.7</td>\n",
              "      <td>-16.6</td>\n",
              "      <td>40.0</td>\n",
              "    </tr>\n",
              "    <tr>\n",
              "      <th>2</th>\n",
              "      <td>Tropical Cyclone Dingani</td>\n",
              "      <td>2023-02-09T18:00:00Z</td>\n",
              "      <td>Point</td>\n",
              "      <td>86.3</td>\n",
              "      <td>-16.3</td>\n",
              "      <td>40.0</td>\n",
              "    </tr>\n",
              "    <tr>\n",
              "      <th>3</th>\n",
              "      <td>Tropical Cyclone Dingani</td>\n",
              "      <td>2023-02-10T00:00:00Z</td>\n",
              "      <td>Point</td>\n",
              "      <td>85.0</td>\n",
              "      <td>-16.2</td>\n",
              "      <td>45.0</td>\n",
              "    </tr>\n",
              "    <tr>\n",
              "      <th>4</th>\n",
              "      <td>Tropical Cyclone Dingani</td>\n",
              "      <td>2023-02-10T06:00:00Z</td>\n",
              "      <td>Point</td>\n",
              "      <td>83.6</td>\n",
              "      <td>-16.3</td>\n",
              "      <td>45.0</td>\n",
              "    </tr>\n",
              "  </tbody>\n",
              "</table>\n",
              "</div>"
            ],
            "text/plain": [
              "                CycloneName              DateTime   Type  Latitude  Longitude  \\\n",
              "0  Tropical Cyclone Dingani  2023-02-09T06:00:00Z  Point      89.1      -16.9   \n",
              "1  Tropical Cyclone Dingani  2023-02-09T12:00:00Z  Point      87.7      -16.6   \n",
              "2  Tropical Cyclone Dingani  2023-02-09T18:00:00Z  Point      86.3      -16.3   \n",
              "3  Tropical Cyclone Dingani  2023-02-10T00:00:00Z  Point      85.0      -16.2   \n",
              "4  Tropical Cyclone Dingani  2023-02-10T06:00:00Z  Point      83.6      -16.3   \n",
              "\n",
              "   Maximum Wind  \n",
              "0          40.0  \n",
              "1          40.0  \n",
              "2          40.0  \n",
              "3          45.0  \n",
              "4          45.0  "
            ]
          },
          "execution_count": 3,
          "metadata": {},
          "output_type": "execute_result"
        }
      ],
      "source": [
        "df.head()"
      ]
    },
    {
      "cell_type": "code",
      "execution_count": 4,
      "metadata": {
        "id": "B552oDBHB24W"
      },
      "outputs": [],
      "source": [
        "df['DateTime']=pd.to_datetime(df['DateTime'])"
      ]
    },
    {
      "cell_type": "code",
      "execution_count": 5,
      "metadata": {
        "id": "ZY8-bZREB5TN"
      },
      "outputs": [],
      "source": [
        "df['Date'] = df.DateTime.dt.date\n",
        "df['Time'] = df.DateTime.dt.time"
      ]
    },
    {
      "cell_type": "code",
      "execution_count": 6,
      "metadata": {
        "id": "lxlZ8sprULN9"
      },
      "outputs": [],
      "source": [
        "df[\"Date\"] = df[\"Date\"].astype(\"object\")\n",
        "for i, date_str in enumerate(df[\"Date\"].unique()):\n",
        "    df.loc[df[\"Date\"]==date_str, \"Date\"] = f\"{str(date_str)[0:4]}-{str(date_str)[4:6]}-{str(date_str)[6:]}\""
      ]
    },
    {
      "cell_type": "code",
      "execution_count": 7,
      "metadata": {
        "colab": {
          "base_uri": "https://localhost:8080/"
        },
        "id": "Aaw7UCWqUqjj",
        "outputId": "a46c7fc5-4bc3-459b-f540-c20bf3d1429c"
      },
      "outputs": [
        {
          "name": "stdout",
          "output_type": "stream",
          "text": [
            "Dataset contains data of 1 individual storms from 2023 to 2023.\n"
          ]
        }
      ],
      "source": [
        "print(f\"Dataset contains data of {df['CycloneName'].unique().shape[0]} individual storms from {df['DateTime'].dt.year.min()} to {df['DateTime'].dt.year.max()}.\")"
      ]
    },
    {
      "cell_type": "code",
      "execution_count": 8,
      "metadata": {
        "id": "uiY84mz9VnHj"
      },
      "outputs": [],
      "source": [
        "def coordinate_mapping(x):\n",
        "    coord = float(x[:-1])\n",
        "    if x[-1]==\"W\":\n",
        "        coord *= -1\n",
        "    if x[-1]==\"S\":\n",
        "        coord *= -1\n",
        "    return coord"
      ]
    },
    {
      "cell_type": "code",
      "execution_count": 9,
      "metadata": {
        "colab": {
          "base_uri": "https://localhost:8080/"
        },
        "id": "i1t2e8t1V29M",
        "outputId": "55c53386-0740-477b-b8f2-3624f680cea0"
      },
      "outputs": [
        {
          "name": "stdout",
          "output_type": "stream",
          "text": [
            "Min. Long.: -31.0 Max. Long.: -15.5 Min. Lat.: 67.4 Max. Lat.: 89.1\n"
          ]
        }
      ],
      "source": [
        "print(\"Min. Long.:\", df.Longitude.min(), \"Max. Long.:\", df.Longitude.max(), \"Min. Lat.:\", df.Latitude.min(), \"Max. Lat.:\", df.Latitude.max())"
      ]
    },
    {
      "cell_type": "code",
      "execution_count": 10,
      "metadata": {
        "id": "uxyhqUGrWCvp"
      },
      "outputs": [],
      "source": [
        "df.loc[df.Longitude<-180, \"Longitude\"] = df.Longitude+360"
      ]
    },
    {
      "cell_type": "code",
      "execution_count": 11,
      "metadata": {
        "id": "okQ4Gbi8WMm5"
      },
      "outputs": [],
      "source": [
        "gdf = gpd.GeoDataFrame(df,geometry=gpd.points_from_xy(df.Longitude,df.Latitude), crs={'init' : 'epsg:4326'})"
      ]
    },
    {
      "cell_type": "code",
      "execution_count": 12,
      "metadata": {
        "colab": {
          "base_uri": "https://localhost:8080/"
        },
        "id": "thK6rEiLWWHu",
        "outputId": "9d2a65d3-ddaa-47b5-807d-9f30d21f4ba9"
      },
      "outputs": [
        {
          "data": {
            "text/plain": [
              "<Geographic 2D CRS: +init=epsg:4326 +type=crs>\n",
              "Name: WGS 84\n",
              "Axis Info [ellipsoidal]:\n",
              "- lon[east]: Longitude (degree)\n",
              "- lat[north]: Latitude (degree)\n",
              "Area of Use:\n",
              "- name: World.\n",
              "- bounds: (-180.0, -90.0, 180.0, 90.0)\n",
              "Datum: World Geodetic System 1984 ensemble\n",
              "- Ellipsoid: WGS 84\n",
              "- Prime Meridian: Greenwich"
            ]
          },
          "execution_count": 12,
          "metadata": {},
          "output_type": "execute_result"
        }
      ],
      "source": [
        "gdf.crs"
      ]
    },
    {
      "cell_type": "code",
      "execution_count": 13,
      "metadata": {
        "id": "cwmazGzTWXw3"
      },
      "outputs": [],
      "source": [
        "world = gpd.read_file(gpd.datasets.get_path(\"naturalearth_lowres\"))"
      ]
    },
    {
      "cell_type": "code",
      "execution_count": 14,
      "metadata": {
        "id": "kgDr5qvnYntx"
      },
      "outputs": [],
      "source": [
        "name = gdf[\"CycloneName\"]"
      ]
    },
    {
      "cell_type": "code",
      "execution_count": 15,
      "metadata": {
        "colab": {
          "base_uri": "https://localhost:8080/",
          "height": 701
        },
        "id": "59paSWC_W83f",
        "outputId": "485de001-e817-41e7-9e26-383137745a08"
      },
      "outputs": [
        {
          "data": {
            "image/png": "[encoded data removed]",
            "text/plain": [
              "<Figure size 2500x1200 with 1 Axes>"
            ]
          },
          "metadata": {},
          "output_type": "display_data"
        }
      ],
      "source": [
        "ax = world.plot(color=\"white\", edgecolor=\"black\", figsize=(25,12))\n",
        "_ = gdf[gdf[\"CycloneName\"]==name].plot(ax=ax, c=\"r\", markersize=\"Maximum Wind\", alpha=0.5)\n",
        "_ = plt.xlim(-90, 0)\n",
        "_ = plt.ylim(0, 90)"
      ]
    },
    {
      "cell_type": "code",
      "execution_count": 16,
      "metadata": {
        "colab": {
          "base_uri": "https://localhost:8080/",
          "height": 206
        },
        "id": "0tfzm279p9cp",
        "outputId": "c510d39b-821e-495d-c719-1eba1fd1b4a4"
      },
      "outputs": [
        {
          "data": {
            "text/html": [
              "<div>\n",
              "<style scoped>\n",
              "    .dataframe tbody tr th:only-of-type {\n",
              "        vertical-align: middle;\n",
              "    }\n",
              "\n",
              "    .dataframe tbody tr th {\n",
              "        vertical-align: top;\n",
              "    }\n",
              "\n",
              "    .dataframe thead th {\n",
              "        text-align: right;\n",
              "    }\n",
              "</style>\n",
              "<table border=\"1\" class=\"dataframe\">\n",
              "  <thead>\n",
              "    <tr style=\"text-align: right;\">\n",
              "      <th></th>\n",
              "      <th>CycloneName</th>\n",
              "      <th>DateTime</th>\n",
              "      <th>Type</th>\n",
              "      <th>Latitude</th>\n",
              "      <th>Longitude</th>\n",
              "      <th>Maximum Wind</th>\n",
              "      <th>Date</th>\n",
              "      <th>Time</th>\n",
              "      <th>geometry</th>\n",
              "    </tr>\n",
              "  </thead>\n",
              "  <tbody>\n",
              "    <tr>\n",
              "      <th>0</th>\n",
              "      <td>Tropical Cyclone Dingani</td>\n",
              "      <td>2023-02-09 06:00:00+00:00</td>\n",
              "      <td>Point</td>\n",
              "      <td>89.1</td>\n",
              "      <td>-16.9</td>\n",
              "      <td>40.0</td>\n",
              "      <td>2023--0-2-09</td>\n",
              "      <td>06:00:00</td>\n",
              "      <td>POINT (-16.90000 89.10000)</td>\n",
              "    </tr>\n",
              "    <tr>\n",
              "      <th>1</th>\n",
              "      <td>Tropical Cyclone Dingani</td>\n",
              "      <td>2023-02-09 12:00:00+00:00</td>\n",
              "      <td>Point</td>\n",
              "      <td>87.7</td>\n",
              "      <td>-16.6</td>\n",
              "      <td>40.0</td>\n",
              "      <td>2023--0-2-09</td>\n",
              "      <td>12:00:00</td>\n",
              "      <td>POINT (-16.60000 87.70000)</td>\n",
              "    </tr>\n",
              "    <tr>\n",
              "      <th>2</th>\n",
              "      <td>Tropical Cyclone Dingani</td>\n",
              "      <td>2023-02-09 18:00:00+00:00</td>\n",
              "      <td>Point</td>\n",
              "      <td>86.3</td>\n",
              "      <td>-16.3</td>\n",
              "      <td>40.0</td>\n",
              "      <td>2023--0-2-09</td>\n",
              "      <td>18:00:00</td>\n",
              "      <td>POINT (-16.30000 86.30000)</td>\n",
              "    </tr>\n",
              "    <tr>\n",
              "      <th>3</th>\n",
              "      <td>Tropical Cyclone Dingani</td>\n",
              "      <td>2023-02-10 00:00:00+00:00</td>\n",
              "      <td>Point</td>\n",
              "      <td>85.0</td>\n",
              "      <td>-16.2</td>\n",
              "      <td>45.0</td>\n",
              "      <td>2023--0-2-10</td>\n",
              "      <td>00:00:00</td>\n",
              "      <td>POINT (-16.20000 85.00000)</td>\n",
              "    </tr>\n",
              "    <tr>\n",
              "      <th>4</th>\n",
              "      <td>Tropical Cyclone Dingani</td>\n",
              "      <td>2023-02-10 06:00:00+00:00</td>\n",
              "      <td>Point</td>\n",
              "      <td>83.6</td>\n",
              "      <td>-16.3</td>\n",
              "      <td>45.0</td>\n",
              "      <td>2023--0-2-10</td>\n",
              "      <td>06:00:00</td>\n",
              "      <td>POINT (-16.30000 83.60000)</td>\n",
              "    </tr>\n",
              "  </tbody>\n",
              "</table>\n",
              "</div>"
            ],
            "text/plain": [
              "                CycloneName                  DateTime   Type  Latitude  \\\n",
              "0  Tropical Cyclone Dingani 2023-02-09 06:00:00+00:00  Point      89.1   \n",
              "1  Tropical Cyclone Dingani 2023-02-09 12:00:00+00:00  Point      87.7   \n",
              "2  Tropical Cyclone Dingani 2023-02-09 18:00:00+00:00  Point      86.3   \n",
              "3  Tropical Cyclone Dingani 2023-02-10 00:00:00+00:00  Point      85.0   \n",
              "4  Tropical Cyclone Dingani 2023-02-10 06:00:00+00:00  Point      83.6   \n",
              "\n",
              "   Longitude  Maximum Wind          Date      Time                    geometry  \n",
              "0      -16.9          40.0  2023--0-2-09  06:00:00  POINT (-16.90000 89.10000)  \n",
              "1      -16.6          40.0  2023--0-2-09  12:00:00  POINT (-16.60000 87.70000)  \n",
              "2      -16.3          40.0  2023--0-2-09  18:00:00  POINT (-16.30000 86.30000)  \n",
              "3      -16.2          45.0  2023--0-2-10  00:00:00  POINT (-16.20000 85.00000)  \n",
              "4      -16.3          45.0  2023--0-2-10  06:00:00  POINT (-16.30000 83.60000)  "
            ]
          },
          "execution_count": 16,
          "metadata": {},
          "output_type": "execute_result"
        }
      ],
      "source": [
        "gdf.head()"
      ]
    },
    {
      "cell_type": "code",
      "execution_count": 17,
      "metadata": {
        "id": "Uip4O5F5XpNl"
      },
      "outputs": [],
      "source": [
        "lat_min = gdf.Latitude.min()\n",
        "long_min = gdf.Longitude.min()\n",
        "gdf[\"x\"] = gdf.Latitude-lat_min\n",
        "gdf[\"x\"] = gdf[\"x\"]/gdf[\"x\"].max()\n",
        "gdf[\"y\"] = gdf.Longitude-long_min\n",
        "gdf[\"y\"] = gdf[\"y\"]/gdf[\"y\"].max()"
      ]
    },
    {
      "cell_type": "code",
      "execution_count": 18,
      "metadata": {
        "colab": {
          "base_uri": "https://localhost:8080/",
          "height": 206
        },
        "id": "6yAITQeLqmHQ",
        "outputId": "a93b4ac9-9e63-488d-b827-c27f66ba0c7e"
      },
      "outputs": [
        {
          "data": {
            "text/html": [
              "<div>\n",
              "<style scoped>\n",
              "    .dataframe tbody tr th:only-of-type {\n",
              "        vertical-align: middle;\n",
              "    }\n",
              "\n",
              "    .dataframe tbody tr th {\n",
              "        vertical-align: top;\n",
              "    }\n",
              "\n",
              "    .dataframe thead th {\n",
              "        text-align: right;\n",
              "    }\n",
              "</style>\n",
              "<table border=\"1\" class=\"dataframe\">\n",
              "  <thead>\n",
              "    <tr style=\"text-align: right;\">\n",
              "      <th></th>\n",
              "      <th>CycloneName</th>\n",
              "      <th>DateTime</th>\n",
              "      <th>Type</th>\n",
              "      <th>Latitude</th>\n",
              "      <th>Longitude</th>\n",
              "      <th>Maximum Wind</th>\n",
              "      <th>Date</th>\n",
              "      <th>Time</th>\n",
              "      <th>geometry</th>\n",
              "      <th>x</th>\n",
              "      <th>y</th>\n",
              "    </tr>\n",
              "  </thead>\n",
              "  <tbody>\n",
              "    <tr>\n",
              "      <th>0</th>\n",
              "      <td>Tropical Cyclone Dingani</td>\n",
              "      <td>2023-02-09 06:00:00+00:00</td>\n",
              "      <td>Point</td>\n",
              "      <td>89.1</td>\n",
              "      <td>-16.9</td>\n",
              "      <td>40.0</td>\n",
              "      <td>2023--0-2-09</td>\n",
              "      <td>06:00:00</td>\n",
              "      <td>POINT (-16.90000 89.10000)</td>\n",
              "      <td>1.000000</td>\n",
              "      <td>0.909677</td>\n",
              "    </tr>\n",
              "    <tr>\n",
              "      <th>1</th>\n",
              "      <td>Tropical Cyclone Dingani</td>\n",
              "      <td>2023-02-09 12:00:00+00:00</td>\n",
              "      <td>Point</td>\n",
              "      <td>87.7</td>\n",
              "      <td>-16.6</td>\n",
              "      <td>40.0</td>\n",
              "      <td>2023--0-2-09</td>\n",
              "      <td>12:00:00</td>\n",
              "      <td>POINT (-16.60000 87.70000)</td>\n",
              "      <td>0.935484</td>\n",
              "      <td>0.929032</td>\n",
              "    </tr>\n",
              "    <tr>\n",
              "      <th>2</th>\n",
              "      <td>Tropical Cyclone Dingani</td>\n",
              "      <td>2023-02-09 18:00:00+00:00</td>\n",
              "      <td>Point</td>\n",
              "      <td>86.3</td>\n",
              "      <td>-16.3</td>\n",
              "      <td>40.0</td>\n",
              "      <td>2023--0-2-09</td>\n",
              "      <td>18:00:00</td>\n",
              "      <td>POINT (-16.30000 86.30000)</td>\n",
              "      <td>0.870968</td>\n",
              "      <td>0.948387</td>\n",
              "    </tr>\n",
              "    <tr>\n",
              "      <th>3</th>\n",
              "      <td>Tropical Cyclone Dingani</td>\n",
              "      <td>2023-02-10 00:00:00+00:00</td>\n",
              "      <td>Point</td>\n",
              "      <td>85.0</td>\n",
              "      <td>-16.2</td>\n",
              "      <td>45.0</td>\n",
              "      <td>2023--0-2-10</td>\n",
              "      <td>00:00:00</td>\n",
              "      <td>POINT (-16.20000 85.00000)</td>\n",
              "      <td>0.811060</td>\n",
              "      <td>0.954839</td>\n",
              "    </tr>\n",
              "    <tr>\n",
              "      <th>4</th>\n",
              "      <td>Tropical Cyclone Dingani</td>\n",
              "      <td>2023-02-10 06:00:00+00:00</td>\n",
              "      <td>Point</td>\n",
              "      <td>83.6</td>\n",
              "      <td>-16.3</td>\n",
              "      <td>45.0</td>\n",
              "      <td>2023--0-2-10</td>\n",
              "      <td>06:00:00</td>\n",
              "      <td>POINT (-16.30000 83.60000)</td>\n",
              "      <td>0.746544</td>\n",
              "      <td>0.948387</td>\n",
              "    </tr>\n",
              "  </tbody>\n",
              "</table>\n",
              "</div>"
            ],
            "text/plain": [
              "                CycloneName                  DateTime   Type  Latitude  \\\n",
              "0  Tropical Cyclone Dingani 2023-02-09 06:00:00+00:00  Point      89.1   \n",
              "1  Tropical Cyclone Dingani 2023-02-09 12:00:00+00:00  Point      87.7   \n",
              "2  Tropical Cyclone Dingani 2023-02-09 18:00:00+00:00  Point      86.3   \n",
              "3  Tropical Cyclone Dingani 2023-02-10 00:00:00+00:00  Point      85.0   \n",
              "4  Tropical Cyclone Dingani 2023-02-10 06:00:00+00:00  Point      83.6   \n",
              "\n",
              "   Longitude  Maximum Wind          Date      Time  \\\n",
              "0      -16.9          40.0  2023--0-2-09  06:00:00   \n",
              "1      -16.6          40.0  2023--0-2-09  12:00:00   \n",
              "2      -16.3          40.0  2023--0-2-09  18:00:00   \n",
              "3      -16.2          45.0  2023--0-2-10  00:00:00   \n",
              "4      -16.3          45.0  2023--0-2-10  06:00:00   \n",
              "\n",
              "                     geometry         x         y  \n",
              "0  POINT (-16.90000 89.10000)  1.000000  0.909677  \n",
              "1  POINT (-16.60000 87.70000)  0.935484  0.929032  \n",
              "2  POINT (-16.30000 86.30000)  0.870968  0.948387  \n",
              "3  POINT (-16.20000 85.00000)  0.811060  0.954839  \n",
              "4  POINT (-16.30000 83.60000)  0.746544  0.948387  "
            ]
          },
          "execution_count": 18,
          "metadata": {},
          "output_type": "execute_result"
        }
      ],
      "source": [
        "gdf.head()"
      ]
    },
    {
      "cell_type": "code",
      "execution_count": 19,
      "metadata": {
        "id": "XdszFXs_YACi"
      },
      "outputs": [],
      "source": [
        "gdf[\"relative_time\"] = ((gdf.DateTime.dt.dayofyear+(gdf.DateTime.dt.hour/24.)+(gdf.DateTime.dt.minute/60.*24))/366.)"
      ]
    },
    {
      "cell_type": "code",
      "execution_count": 20,
      "metadata": {
        "id": "wBqEUlY4YCfc"
      },
      "outputs": [],
      "source": [
        "gdf[\"month\"] = gdf.DateTime.dt.month\n",
        "gdf[\"hour\"] = gdf.DateTime.dt.hour"
      ]
    },
    {
      "cell_type": "code",
      "execution_count": 21,
      "metadata": {
        "colab": {
          "base_uri": "https://localhost:8080/",
          "height": 731
        },
        "id": "k3dQVn2vYLP_",
        "outputId": "ce3ec0af-263c-416c-c8b3-711139900431"
      },
      "outputs": [
        {
          "data": {
            "image/png": "[encoded data removed]",
            "text/plain": [
              "<Figure size 2000x1200 with 1 Axes>"
            ]
          },
          "metadata": {},
          "output_type": "display_data"
        }
      ],
      "source": [
        "_ = gdf.plot(x=\"relative_time\", y=\"Maximum Wind\", kind=\"scatter\", figsize=(20,12), title=\"Max. Wind vs. relative_time\")\n",
        "_ = plt.ylim(0,180)\n",
        "_ = plt.xlim(0,1)"
      ]
    },
    {
      "cell_type": "code",
      "execution_count": 22,
      "metadata": {
        "colab": {
          "base_uri": "https://localhost:8080/",
          "height": 206
        },
        "id": "8VI7cfFha1oK",
        "outputId": "0d2df17b-97d4-40af-9b8f-62378257ad90"
      },
      "outputs": [
        {
          "data": {
            "text/html": [
              "<div>\n",
              "<style scoped>\n",
              "    .dataframe tbody tr th:only-of-type {\n",
              "        vertical-align: middle;\n",
              "    }\n",
              "\n",
              "    .dataframe tbody tr th {\n",
              "        vertical-align: top;\n",
              "    }\n",
              "\n",
              "    .dataframe thead th {\n",
              "        text-align: right;\n",
              "    }\n",
              "</style>\n",
              "<table border=\"1\" class=\"dataframe\">\n",
              "  <thead>\n",
              "    <tr style=\"text-align: right;\">\n",
              "      <th></th>\n",
              "      <th>CycloneName</th>\n",
              "      <th>DateTime</th>\n",
              "      <th>Type</th>\n",
              "      <th>Latitude</th>\n",
              "      <th>Longitude</th>\n",
              "      <th>Maximum Wind</th>\n",
              "      <th>Date</th>\n",
              "      <th>Time</th>\n",
              "      <th>geometry</th>\n",
              "    </tr>\n",
              "  </thead>\n",
              "  <tbody>\n",
              "    <tr>\n",
              "      <th>0</th>\n",
              "      <td>Tropical Cyclone Dingani</td>\n",
              "      <td>2023-02-09 06:00:00+00:00</td>\n",
              "      <td>Point</td>\n",
              "      <td>89.1</td>\n",
              "      <td>-16.9</td>\n",
              "      <td>40.0</td>\n",
              "      <td>2023--0-2-09</td>\n",
              "      <td>06:00:00</td>\n",
              "      <td>POINT (-16.90000 89.10000)</td>\n",
              "    </tr>\n",
              "    <tr>\n",
              "      <th>1</th>\n",
              "      <td>Tropical Cyclone Dingani</td>\n",
              "      <td>2023-02-09 12:00:00+00:00</td>\n",
              "      <td>Point</td>\n",
              "      <td>87.7</td>\n",
              "      <td>-16.6</td>\n",
              "      <td>40.0</td>\n",
              "      <td>2023--0-2-09</td>\n",
              "      <td>12:00:00</td>\n",
              "      <td>POINT (-16.60000 87.70000)</td>\n",
              "    </tr>\n",
              "    <tr>\n",
              "      <th>2</th>\n",
              "      <td>Tropical Cyclone Dingani</td>\n",
              "      <td>2023-02-09 18:00:00+00:00</td>\n",
              "      <td>Point</td>\n",
              "      <td>86.3</td>\n",
              "      <td>-16.3</td>\n",
              "      <td>40.0</td>\n",
              "      <td>2023--0-2-09</td>\n",
              "      <td>18:00:00</td>\n",
              "      <td>POINT (-16.30000 86.30000)</td>\n",
              "    </tr>\n",
              "    <tr>\n",
              "      <th>3</th>\n",
              "      <td>Tropical Cyclone Dingani</td>\n",
              "      <td>2023-02-10 00:00:00+00:00</td>\n",
              "      <td>Point</td>\n",
              "      <td>85.0</td>\n",
              "      <td>-16.2</td>\n",
              "      <td>45.0</td>\n",
              "      <td>2023--0-2-10</td>\n",
              "      <td>00:00:00</td>\n",
              "      <td>POINT (-16.20000 85.00000)</td>\n",
              "    </tr>\n",
              "    <tr>\n",
              "      <th>4</th>\n",
              "      <td>Tropical Cyclone Dingani</td>\n",
              "      <td>2023-02-10 06:00:00+00:00</td>\n",
              "      <td>Point</td>\n",
              "      <td>83.6</td>\n",
              "      <td>-16.3</td>\n",
              "      <td>45.0</td>\n",
              "      <td>2023--0-2-10</td>\n",
              "      <td>06:00:00</td>\n",
              "      <td>POINT (-16.30000 83.60000)</td>\n",
              "    </tr>\n",
              "  </tbody>\n",
              "</table>\n",
              "</div>"
            ],
            "text/plain": [
              "                CycloneName                  DateTime   Type  Latitude  \\\n",
              "0  Tropical Cyclone Dingani 2023-02-09 06:00:00+00:00  Point      89.1   \n",
              "1  Tropical Cyclone Dingani 2023-02-09 12:00:00+00:00  Point      87.7   \n",
              "2  Tropical Cyclone Dingani 2023-02-09 18:00:00+00:00  Point      86.3   \n",
              "3  Tropical Cyclone Dingani 2023-02-10 00:00:00+00:00  Point      85.0   \n",
              "4  Tropical Cyclone Dingani 2023-02-10 06:00:00+00:00  Point      83.6   \n",
              "\n",
              "   Longitude  Maximum Wind          Date      Time                    geometry  \n",
              "0      -16.9          40.0  2023--0-2-09  06:00:00  POINT (-16.90000 89.10000)  \n",
              "1      -16.6          40.0  2023--0-2-09  12:00:00  POINT (-16.60000 87.70000)  \n",
              "2      -16.3          40.0  2023--0-2-09  18:00:00  POINT (-16.30000 86.30000)  \n",
              "3      -16.2          45.0  2023--0-2-10  00:00:00  POINT (-16.20000 85.00000)  \n",
              "4      -16.3          45.0  2023--0-2-10  06:00:00  POINT (-16.30000 83.60000)  "
            ]
          },
          "execution_count": 22,
          "metadata": {},
          "output_type": "execute_result"
        }
      ],
      "source": [
        "df.head()"
      ]
    },
    {
      "cell_type": "code",
      "execution_count": 24,
      "metadata": {
        "id": "wTUEYso1a6Sf"
      },
      "outputs": [],
      "source": [
        "gdf[\"vec_x\"] = np.nan\n",
        "gdf[\"vec_y\"] = np.nan\n",
        "vecs = {\"x\": [], \"y\": [], \"id\": []}\n",
        "for storm_id in gdf[\"CycloneName\"].unique():\n",
        "    last_x = 0\n",
        "    last_y = 0\n",
        "    for i, row in gdf[gdf[\"CycloneName\"]==storm_id].iterrows():\n",
        "        if last_x==0:\n",
        "            last_x = row.x\n",
        "            last_y = row.y\n",
        "        else:\n",
        "            vec_x = row.x-last_x\n",
        "            vec_y = row.y-last_y\n",
        "            vecs[\"x\"].append(vec_x)\n",
        "            vecs[\"y\"].append(vec_y)\n",
        "            vecs[\"id\"].append(i)\n",
        "            last_x = row.x\n",
        "            last_y = row.y\n",
        "gdf.loc[vecs[\"id\"], \"vec_x\"] = vecs[\"x\"]\n",
        "gdf.loc[vecs[\"id\"], \"vec_y\"] = vecs[\"y\"]"
      ]
    },
    {
      "cell_type": "code",
      "execution_count": 25,
      "metadata": {
        "colab": {
          "base_uri": "https://localhost:8080/",
          "height": 441
        },
        "id": "bB34JRVwbDAg",
        "outputId": "3b6226ad-115c-46ab-de56-60467b651830"
      },
      "outputs": [
        {
          "data": {
            "text/html": [
              "<div>\n",
              "<style scoped>\n",
              "    .dataframe tbody tr th:only-of-type {\n",
              "        vertical-align: middle;\n",
              "    }\n",
              "\n",
              "    .dataframe tbody tr th {\n",
              "        vertical-align: top;\n",
              "    }\n",
              "\n",
              "    .dataframe thead th {\n",
              "        text-align: right;\n",
              "    }\n",
              "</style>\n",
              "<table border=\"1\" class=\"dataframe\">\n",
              "  <thead>\n",
              "    <tr style=\"text-align: right;\">\n",
              "      <th></th>\n",
              "      <th>CycloneName</th>\n",
              "      <th>DateTime</th>\n",
              "      <th>Type</th>\n",
              "      <th>Latitude</th>\n",
              "      <th>Longitude</th>\n",
              "      <th>Maximum Wind</th>\n",
              "      <th>Date</th>\n",
              "      <th>Time</th>\n",
              "      <th>geometry</th>\n",
              "      <th>x</th>\n",
              "      <th>y</th>\n",
              "      <th>relative_time</th>\n",
              "      <th>month</th>\n",
              "      <th>hour</th>\n",
              "      <th>vec_x</th>\n",
              "      <th>vec_y</th>\n",
              "    </tr>\n",
              "  </thead>\n",
              "  <tbody>\n",
              "    <tr>\n",
              "      <th>0</th>\n",
              "      <td>Tropical Cyclone Dingani</td>\n",
              "      <td>2023-02-09 06:00:00+00:00</td>\n",
              "      <td>Point</td>\n",
              "      <td>89.1</td>\n",
              "      <td>-16.9</td>\n",
              "      <td>40.0</td>\n",
              "      <td>2023--0-2-09</td>\n",
              "      <td>06:00:00</td>\n",
              "      <td>POINT (-16.90000 89.10000)</td>\n",
              "      <td>1.000000</td>\n",
              "      <td>0.909677</td>\n",
              "      <td>0.109973</td>\n",
              "      <td>2</td>\n",
              "      <td>6</td>\n",
              "      <td>NaN</td>\n",
              "      <td>NaN</td>\n",
              "    </tr>\n",
              "    <tr>\n",
              "      <th>1</th>\n",
              "      <td>Tropical Cyclone Dingani</td>\n",
              "      <td>2023-02-09 12:00:00+00:00</td>\n",
              "      <td>Point</td>\n",
              "      <td>87.7</td>\n",
              "      <td>-16.6</td>\n",
              "      <td>40.0</td>\n",
              "      <td>2023--0-2-09</td>\n",
              "      <td>12:00:00</td>\n",
              "      <td>POINT (-16.60000 87.70000)</td>\n",
              "      <td>0.935484</td>\n",
              "      <td>0.929032</td>\n",
              "      <td>0.110656</td>\n",
              "      <td>2</td>\n",
              "      <td>12</td>\n",
              "      <td>-0.064516</td>\n",
              "      <td>0.019355</td>\n",
              "    </tr>\n",
              "    <tr>\n",
              "      <th>2</th>\n",
              "      <td>Tropical Cyclone Dingani</td>\n",
              "      <td>2023-02-09 18:00:00+00:00</td>\n",
              "      <td>Point</td>\n",
              "      <td>86.3</td>\n",
              "      <td>-16.3</td>\n",
              "      <td>40.0</td>\n",
              "      <td>2023--0-2-09</td>\n",
              "      <td>18:00:00</td>\n",
              "      <td>POINT (-16.30000 86.30000)</td>\n",
              "      <td>0.870968</td>\n",
              "      <td>0.948387</td>\n",
              "      <td>0.111339</td>\n",
              "      <td>2</td>\n",
              "      <td>18</td>\n",
              "      <td>-0.064516</td>\n",
              "      <td>0.019355</td>\n",
              "    </tr>\n",
              "    <tr>\n",
              "      <th>3</th>\n",
              "      <td>Tropical Cyclone Dingani</td>\n",
              "      <td>2023-02-10 00:00:00+00:00</td>\n",
              "      <td>Point</td>\n",
              "      <td>85.0</td>\n",
              "      <td>-16.2</td>\n",
              "      <td>45.0</td>\n",
              "      <td>2023--0-2-10</td>\n",
              "      <td>00:00:00</td>\n",
              "      <td>POINT (-16.20000 85.00000)</td>\n",
              "      <td>0.811060</td>\n",
              "      <td>0.954839</td>\n",
              "      <td>0.112022</td>\n",
              "      <td>2</td>\n",
              "      <td>0</td>\n",
              "      <td>-0.059908</td>\n",
              "      <td>0.006452</td>\n",
              "    </tr>\n",
              "    <tr>\n",
              "      <th>4</th>\n",
              "      <td>Tropical Cyclone Dingani</td>\n",
              "      <td>2023-02-10 06:00:00+00:00</td>\n",
              "      <td>Point</td>\n",
              "      <td>83.6</td>\n",
              "      <td>-16.3</td>\n",
              "      <td>45.0</td>\n",
              "      <td>2023--0-2-10</td>\n",
              "      <td>06:00:00</td>\n",
              "      <td>POINT (-16.30000 83.60000)</td>\n",
              "      <td>0.746544</td>\n",
              "      <td>0.948387</td>\n",
              "      <td>0.112705</td>\n",
              "      <td>2</td>\n",
              "      <td>6</td>\n",
              "      <td>-0.064516</td>\n",
              "      <td>-0.006452</td>\n",
              "    </tr>\n",
              "  </tbody>\n",
              "</table>\n",
              "</div>"
            ],
            "text/plain": [
              "                CycloneName                  DateTime   Type  Latitude  \\\n",
              "0  Tropical Cyclone Dingani 2023-02-09 06:00:00+00:00  Point      89.1   \n",
              "1  Tropical Cyclone Dingani 2023-02-09 12:00:00+00:00  Point      87.7   \n",
              "2  Tropical Cyclone Dingani 2023-02-09 18:00:00+00:00  Point      86.3   \n",
              "3  Tropical Cyclone Dingani 2023-02-10 00:00:00+00:00  Point      85.0   \n",
              "4  Tropical Cyclone Dingani 2023-02-10 06:00:00+00:00  Point      83.6   \n",
              "\n",
              "   Longitude  Maximum Wind          Date      Time  \\\n",
              "0      -16.9          40.0  2023--0-2-09  06:00:00   \n",
              "1      -16.6          40.0  2023--0-2-09  12:00:00   \n",
              "2      -16.3          40.0  2023--0-2-09  18:00:00   \n",
              "3      -16.2          45.0  2023--0-2-10  00:00:00   \n",
              "4      -16.3          45.0  2023--0-2-10  06:00:00   \n",
              "\n",
              "                     geometry         x         y  relative_time  month  hour  \\\n",
              "0  POINT (-16.90000 89.10000)  1.000000  0.909677       0.109973      2     6   \n",
              "1  POINT (-16.60000 87.70000)  0.935484  0.929032       0.110656      2    12   \n",
              "2  POINT (-16.30000 86.30000)  0.870968  0.948387       0.111339      2    18   \n",
              "3  POINT (-16.20000 85.00000)  0.811060  0.954839       0.112022      2     0   \n",
              "4  POINT (-16.30000 83.60000)  0.746544  0.948387       0.112705      2     6   \n",
              "\n",
              "      vec_x     vec_y  \n",
              "0       NaN       NaN  \n",
              "1 -0.064516  0.019355  \n",
              "2 -0.064516  0.019355  \n",
              "3 -0.059908  0.006452  \n",
              "4 -0.064516 -0.006452  "
            ]
          },
          "execution_count": 25,
          "metadata": {},
          "output_type": "execute_result"
        }
      ],
      "source": [
        "gdf.head()"
      ]
    },
    {
      "cell_type": "code",
      "execution_count": 26,
      "metadata": {
        "id": "jL1Cd_8Tbs-e"
      },
      "outputs": [],
      "source": [
        "gdf[\"vec_len\"] = np.sqrt((gdf[\"vec_x\"]**2)+(gdf[\"vec_y\"]**2))"
      ]
    },
    {
      "cell_type": "code",
      "execution_count": 27,
      "metadata": {
        "id": "566iQmzJcCob"
      },
      "outputs": [],
      "source": [
        "def calculate_direction(vec_x, vec_y):\n",
        "    def vec_angle(a, b):\n",
        "        return np.arccos(np.dot(a,b)/(np.linalg.norm(a)*np.linalg.norm(b)))\n",
        "    ref_vec = np.array([vec_x, vec_y])\n",
        "    N_vec = np.array([0,1])\n",
        "    S_vec = np.array([0,-1])\n",
        "    E_vec = np.array([1,0])\n",
        "    W_vec = np.array([-1,0])\n",
        "    N_angle = vec_angle(ref_vec, N_vec)\n",
        "    E_angle = vec_angle(ref_vec, E_vec)\n",
        "    W_angle = vec_angle(ref_vec, W_vec)\n",
        "    return_angle = N_angle\n",
        "    if W_angle<E_angle:\n",
        "        return_angle = 2*np.pi-return_angle\n",
        "    return return_angle"
      ]
    },
    {
      "cell_type": "code",
      "execution_count": 28,
      "metadata": {
        "id": "p_Sb2EUzcEjY"
      },
      "outputs": [],
      "source": [
        "gdf[\"vec_direction\"] = gdf.apply(lambda x: calculate_direction(x.vec_x, x.vec_y), axis=1)"
      ]
    },
    {
      "cell_type": "code",
      "execution_count": 29,
      "metadata": {
        "id": "y209UDvgcMtL"
      },
      "outputs": [],
      "source": [
        "gdf[\"tdelta\"] = np.nan\n",
        "tdeltas = {\"t\": [], \"id\": []}\n",
        "for storm_id in gdf[\"CycloneName\"].unique():\n",
        "    last_time = 0\n",
        "    for i, row in gdf[gdf[\"CycloneName\"]==storm_id].iterrows():\n",
        "        if last_time==0:\n",
        "            last_time = row.DateTime\n",
        "        else:\n",
        "            tdeltas[\"t\"].append((row.DateTime-last_time).seconds)\n",
        "            tdeltas[\"id\"].append(i)\n",
        "            last_time = row.DateTime\n",
        "gdf.loc[tdeltas[\"id\"], \"tdelta\"] = tdeltas[\"t\"]"
      ]
    },
    {
      "cell_type": "code",
      "execution_count": 30,
      "metadata": {
        "colab": {
          "base_uri": "https://localhost:8080/",
          "height": 461
        },
        "id": "9M54-gaocUu7",
        "outputId": "d0c67842-19df-4e40-df8d-d38749de527f"
      },
      "outputs": [
        {
          "data": {
            "text/html": [
              "<div>\n",
              "<style scoped>\n",
              "    .dataframe tbody tr th:only-of-type {\n",
              "        vertical-align: middle;\n",
              "    }\n",
              "\n",
              "    .dataframe tbody tr th {\n",
              "        vertical-align: top;\n",
              "    }\n",
              "\n",
              "    .dataframe thead th {\n",
              "        text-align: right;\n",
              "    }\n",
              "</style>\n",
              "<table border=\"1\" class=\"dataframe\">\n",
              "  <thead>\n",
              "    <tr style=\"text-align: right;\">\n",
              "      <th></th>\n",
              "      <th>CycloneName</th>\n",
              "      <th>DateTime</th>\n",
              "      <th>Type</th>\n",
              "      <th>Latitude</th>\n",
              "      <th>Longitude</th>\n",
              "      <th>Maximum Wind</th>\n",
              "      <th>Date</th>\n",
              "      <th>Time</th>\n",
              "      <th>geometry</th>\n",
              "      <th>x</th>\n",
              "      <th>y</th>\n",
              "      <th>relative_time</th>\n",
              "      <th>month</th>\n",
              "      <th>hour</th>\n",
              "      <th>vec_x</th>\n",
              "      <th>vec_y</th>\n",
              "      <th>vec_len</th>\n",
              "      <th>vec_direction</th>\n",
              "      <th>tdelta</th>\n",
              "    </tr>\n",
              "  </thead>\n",
              "  <tbody>\n",
              "    <tr>\n",
              "      <th>0</th>\n",
              "      <td>Tropical Cyclone Dingani</td>\n",
              "      <td>2023-02-09 06:00:00+00:00</td>\n",
              "      <td>Point</td>\n",
              "      <td>89.1</td>\n",
              "      <td>-16.9</td>\n",
              "      <td>40.0</td>\n",
              "      <td>2023--0-2-09</td>\n",
              "      <td>06:00:00</td>\n",
              "      <td>POINT (-16.90000 89.10000)</td>\n",
              "      <td>1.000000</td>\n",
              "      <td>0.909677</td>\n",
              "      <td>0.109973</td>\n",
              "      <td>2</td>\n",
              "      <td>6</td>\n",
              "      <td>NaN</td>\n",
              "      <td>NaN</td>\n",
              "      <td>NaN</td>\n",
              "      <td>NaN</td>\n",
              "      <td>NaN</td>\n",
              "    </tr>\n",
              "    <tr>\n",
              "      <th>1</th>\n",
              "      <td>Tropical Cyclone Dingani</td>\n",
              "      <td>2023-02-09 12:00:00+00:00</td>\n",
              "      <td>Point</td>\n",
              "      <td>87.7</td>\n",
              "      <td>-16.6</td>\n",
              "      <td>40.0</td>\n",
              "      <td>2023--0-2-09</td>\n",
              "      <td>12:00:00</td>\n",
              "      <td>POINT (-16.60000 87.70000)</td>\n",
              "      <td>0.935484</td>\n",
              "      <td>0.929032</td>\n",
              "      <td>0.110656</td>\n",
              "      <td>2</td>\n",
              "      <td>12</td>\n",
              "      <td>-0.064516</td>\n",
              "      <td>0.019355</td>\n",
              "      <td>0.067357</td>\n",
              "      <td>5.003846</td>\n",
              "      <td>21600.0</td>\n",
              "    </tr>\n",
              "    <tr>\n",
              "      <th>2</th>\n",
              "      <td>Tropical Cyclone Dingani</td>\n",
              "      <td>2023-02-09 18:00:00+00:00</td>\n",
              "      <td>Point</td>\n",
              "      <td>86.3</td>\n",
              "      <td>-16.3</td>\n",
              "      <td>40.0</td>\n",
              "      <td>2023--0-2-09</td>\n",
              "      <td>18:00:00</td>\n",
              "      <td>POINT (-16.30000 86.30000)</td>\n",
              "      <td>0.870968</td>\n",
              "      <td>0.948387</td>\n",
              "      <td>0.111339</td>\n",
              "      <td>2</td>\n",
              "      <td>18</td>\n",
              "      <td>-0.064516</td>\n",
              "      <td>0.019355</td>\n",
              "      <td>0.067357</td>\n",
              "      <td>5.003846</td>\n",
              "      <td>21600.0</td>\n",
              "    </tr>\n",
              "    <tr>\n",
              "      <th>3</th>\n",
              "      <td>Tropical Cyclone Dingani</td>\n",
              "      <td>2023-02-10 00:00:00+00:00</td>\n",
              "      <td>Point</td>\n",
              "      <td>85.0</td>\n",
              "      <td>-16.2</td>\n",
              "      <td>45.0</td>\n",
              "      <td>2023--0-2-10</td>\n",
              "      <td>00:00:00</td>\n",
              "      <td>POINT (-16.20000 85.00000)</td>\n",
              "      <td>0.811060</td>\n",
              "      <td>0.954839</td>\n",
              "      <td>0.112022</td>\n",
              "      <td>2</td>\n",
              "      <td>0</td>\n",
              "      <td>-0.059908</td>\n",
              "      <td>0.006452</td>\n",
              "      <td>0.060254</td>\n",
              "      <td>4.819668</td>\n",
              "      <td>21600.0</td>\n",
              "    </tr>\n",
              "    <tr>\n",
              "      <th>4</th>\n",
              "      <td>Tropical Cyclone Dingani</td>\n",
              "      <td>2023-02-10 06:00:00+00:00</td>\n",
              "      <td>Point</td>\n",
              "      <td>83.6</td>\n",
              "      <td>-16.3</td>\n",
              "      <td>45.0</td>\n",
              "      <td>2023--0-2-10</td>\n",
              "      <td>06:00:00</td>\n",
              "      <td>POINT (-16.30000 83.60000)</td>\n",
              "      <td>0.746544</td>\n",
              "      <td>0.948387</td>\n",
              "      <td>0.112705</td>\n",
              "      <td>2</td>\n",
              "      <td>6</td>\n",
              "      <td>-0.064516</td>\n",
              "      <td>-0.006452</td>\n",
              "      <td>0.064838</td>\n",
              "      <td>4.612720</td>\n",
              "      <td>21600.0</td>\n",
              "    </tr>\n",
              "  </tbody>\n",
              "</table>\n",
              "</div>"
            ],
            "text/plain": [
              "                CycloneName                  DateTime   Type  Latitude  \\\n",
              "0  Tropical Cyclone Dingani 2023-02-09 06:00:00+00:00  Point      89.1   \n",
              "1  Tropical Cyclone Dingani 2023-02-09 12:00:00+00:00  Point      87.7   \n",
              "2  Tropical Cyclone Dingani 2023-02-09 18:00:00+00:00  Point      86.3   \n",
              "3  Tropical Cyclone Dingani 2023-02-10 00:00:00+00:00  Point      85.0   \n",
              "4  Tropical Cyclone Dingani 2023-02-10 06:00:00+00:00  Point      83.6   \n",
              "\n",
              "   Longitude  Maximum Wind          Date      Time  \\\n",
              "0      -16.9          40.0  2023--0-2-09  06:00:00   \n",
              "1      -16.6          40.0  2023--0-2-09  12:00:00   \n",
              "2      -16.3          40.0  2023--0-2-09  18:00:00   \n",
              "3      -16.2          45.0  2023--0-2-10  00:00:00   \n",
              "4      -16.3          45.0  2023--0-2-10  06:00:00   \n",
              "\n",
              "                     geometry         x         y  relative_time  month  hour  \\\n",
              "0  POINT (-16.90000 89.10000)  1.000000  0.909677       0.109973      2     6   \n",
              "1  POINT (-16.60000 87.70000)  0.935484  0.929032       0.110656      2    12   \n",
              "2  POINT (-16.30000 86.30000)  0.870968  0.948387       0.111339      2    18   \n",
              "3  POINT (-16.20000 85.00000)  0.811060  0.954839       0.112022      2     0   \n",
              "4  POINT (-16.30000 83.60000)  0.746544  0.948387       0.112705      2     6   \n",
              "\n",
              "      vec_x     vec_y   vec_len  vec_direction   tdelta  \n",
              "0       NaN       NaN       NaN            NaN      NaN  \n",
              "1 -0.064516  0.019355  0.067357       5.003846  21600.0  \n",
              "2 -0.064516  0.019355  0.067357       5.003846  21600.0  \n",
              "3 -0.059908  0.006452  0.060254       4.819668  21600.0  \n",
              "4 -0.064516 -0.006452  0.064838       4.612720  21600.0  "
            ]
          },
          "execution_count": 30,
          "metadata": {},
          "output_type": "execute_result"
        }
      ],
      "source": [
        "gdf.head()"
      ]
    },
    {
      "cell_type": "code",
      "execution_count": 31,
      "metadata": {
        "colab": {
          "base_uri": "https://localhost:8080/"
        },
        "id": "Mh2fatQmNd4p",
        "outputId": "cbfdb947-4e8f-4980-d65b-19d9fece03ad"
      },
      "outputs": [
        {
          "data": {
            "text/plain": [
              "(28, 19)"
            ]
          },
          "execution_count": 31,
          "metadata": {},
          "output_type": "execute_result"
        }
      ],
      "source": [
        "gdf = gdf[gdf[\"tdelta\"]==21600]\n",
        "gdf.shape"
      ]
    },
    {
      "cell_type": "code",
      "execution_count": 32,
      "metadata": {
        "id": "BVS0twuDNnbe"
      },
      "outputs": [],
      "source": [
        "gdf[\"prev_len\"] = np.nan\n",
        "gdf[\"prev_direction\"] = np.nan\n",
        "prevs = {\"len\": [], \"direction\": [], \"id\": []}\n",
        "for storm_id in gdf[\"CycloneName\"].unique():\n",
        "    last_len = False\n",
        "    last_direction = False\n",
        "    for i, row in gdf[gdf[\"CycloneName\"]==storm_id].iterrows():\n",
        "        if last_len==False:\n",
        "            last_len = row.vec_len\n",
        "            last_direction = row.vec_direction\n",
        "        else:\n",
        "            prevs[\"len\"].append(last_len)\n",
        "            prevs[\"direction\"].append(last_direction)\n",
        "            prevs[\"id\"].append(i)\n",
        "            last_len = row.vec_len\n",
        "            last_direction = row.vec_direction\n",
        "gdf.loc[prevs[\"id\"], \"prev_len\"] = prevs[\"len\"]\n",
        "gdf.loc[prevs[\"id\"], \"prev_direction\"] = prevs[\"direction\"]"
      ]
    },
    {
      "cell_type": "code",
      "execution_count": 34,
      "metadata": {
        "colab": {
          "base_uri": "https://localhost:8080/"
        },
        "id": "SE-I5-HfN_d_",
        "outputId": "68345b11-9c1a-4c12-d609-62b3d23e77aa"
      },
      "outputs": [
        {
          "data": {
            "text/plain": [
              "(27, 21)"
            ]
          },
          "execution_count": 34,
          "metadata": {},
          "output_type": "execute_result"
        }
      ],
      "source": [
        "gdf.dropna(how=\"any\", inplace=True)\n",
        "gdf.shape"
      ]
    },
    {
      "cell_type": "markdown",
      "metadata": {
        "id": "59ZmgypgMRl9"
      },
      "source": [
        "Prediction"
      ]
    },
    {
      "cell_type": "code",
      "execution_count": 35,
      "metadata": {
        "id": "Q5rmt3KlOCqK"
      },
      "outputs": [],
      "source": [
        "gdf_prediction_direction = gdf[[\"Maximum Wind\", \"x\", \"y\", \"month\", \"hour\", \"prev_len\", \"prev_direction\", \"vec_direction\"]]\n",
        "gdf_prediction_length = gdf[[\"Maximum Wind\", \"x\", \"y\", \"month\", \"hour\", \"prev_len\", \"prev_direction\",\"vec_len\"]]\n",
        "X_direction = gdf_prediction_direction.values[:,:-1]\n",
        "y_direction = gdf_prediction_direction.values[:,-1]\n",
        "X_length = gdf_prediction_length.values[:,:-1]\n",
        "y_length = gdf_prediction_length.values[:,-1]"
      ]
    },
    {
      "cell_type": "code",
      "execution_count": 36,
      "metadata": {
        "colab": {
          "base_uri": "https://localhost:8080/",
          "height": 490
        },
        "id": "29URVUBAOHSS",
        "outputId": "6d53e8e3-5949-478e-9c08-83a4ef756e5e"
      },
      "outputs": [
        {
          "data": {
            "text/html": [
              "<div>\n",
              "<style scoped>\n",
              "    .dataframe tbody tr th:only-of-type {\n",
              "        vertical-align: middle;\n",
              "    }\n",
              "\n",
              "    .dataframe tbody tr th {\n",
              "        vertical-align: top;\n",
              "    }\n",
              "\n",
              "    .dataframe thead th {\n",
              "        text-align: right;\n",
              "    }\n",
              "</style>\n",
              "<table border=\"1\" class=\"dataframe\">\n",
              "  <thead>\n",
              "    <tr style=\"text-align: right;\">\n",
              "      <th></th>\n",
              "      <th>CycloneName</th>\n",
              "      <th>DateTime</th>\n",
              "      <th>Type</th>\n",
              "      <th>Latitude</th>\n",
              "      <th>Longitude</th>\n",
              "      <th>Maximum Wind</th>\n",
              "      <th>Date</th>\n",
              "      <th>Time</th>\n",
              "      <th>geometry</th>\n",
              "      <th>x</th>\n",
              "      <th>...</th>\n",
              "      <th>relative_time</th>\n",
              "      <th>month</th>\n",
              "      <th>hour</th>\n",
              "      <th>vec_x</th>\n",
              "      <th>vec_y</th>\n",
              "      <th>vec_len</th>\n",
              "      <th>vec_direction</th>\n",
              "      <th>tdelta</th>\n",
              "      <th>prev_len</th>\n",
              "      <th>prev_direction</th>\n",
              "    </tr>\n",
              "  </thead>\n",
              "  <tbody>\n",
              "    <tr>\n",
              "      <th>2</th>\n",
              "      <td>Tropical Cyclone Dingani</td>\n",
              "      <td>2023-02-09 18:00:00+00:00</td>\n",
              "      <td>Point</td>\n",
              "      <td>86.3</td>\n",
              "      <td>-16.3</td>\n",
              "      <td>40.0</td>\n",
              "      <td>2023--0-2-09</td>\n",
              "      <td>18:00:00</td>\n",
              "      <td>POINT (-16.30000 86.30000)</td>\n",
              "      <td>0.870968</td>\n",
              "      <td>...</td>\n",
              "      <td>0.111339</td>\n",
              "      <td>2</td>\n",
              "      <td>18</td>\n",
              "      <td>-0.064516</td>\n",
              "      <td>0.019355</td>\n",
              "      <td>0.067357</td>\n",
              "      <td>5.003846</td>\n",
              "      <td>21600.0</td>\n",
              "      <td>0.067357</td>\n",
              "      <td>5.003846</td>\n",
              "    </tr>\n",
              "    <tr>\n",
              "      <th>3</th>\n",
              "      <td>Tropical Cyclone Dingani</td>\n",
              "      <td>2023-02-10 00:00:00+00:00</td>\n",
              "      <td>Point</td>\n",
              "      <td>85.0</td>\n",
              "      <td>-16.2</td>\n",
              "      <td>45.0</td>\n",
              "      <td>2023--0-2-10</td>\n",
              "      <td>00:00:00</td>\n",
              "      <td>POINT (-16.20000 85.00000)</td>\n",
              "      <td>0.811060</td>\n",
              "      <td>...</td>\n",
              "      <td>0.112022</td>\n",
              "      <td>2</td>\n",
              "      <td>0</td>\n",
              "      <td>-0.059908</td>\n",
              "      <td>0.006452</td>\n",
              "      <td>0.060254</td>\n",
              "      <td>4.819668</td>\n",
              "      <td>21600.0</td>\n",
              "      <td>0.067357</td>\n",
              "      <td>5.003846</td>\n",
              "    </tr>\n",
              "    <tr>\n",
              "      <th>4</th>\n",
              "      <td>Tropical Cyclone Dingani</td>\n",
              "      <td>2023-02-10 06:00:00+00:00</td>\n",
              "      <td>Point</td>\n",
              "      <td>83.6</td>\n",
              "      <td>-16.3</td>\n",
              "      <td>45.0</td>\n",
              "      <td>2023--0-2-10</td>\n",
              "      <td>06:00:00</td>\n",
              "      <td>POINT (-16.30000 83.60000)</td>\n",
              "      <td>0.746544</td>\n",
              "      <td>...</td>\n",
              "      <td>0.112705</td>\n",
              "      <td>2</td>\n",
              "      <td>6</td>\n",
              "      <td>-0.064516</td>\n",
              "      <td>-0.006452</td>\n",
              "      <td>0.064838</td>\n",
              "      <td>4.612720</td>\n",
              "      <td>21600.0</td>\n",
              "      <td>0.060254</td>\n",
              "      <td>4.819668</td>\n",
              "    </tr>\n",
              "    <tr>\n",
              "      <th>5</th>\n",
              "      <td>Tropical Cyclone Dingani</td>\n",
              "      <td>2023-02-10 12:00:00+00:00</td>\n",
              "      <td>Point</td>\n",
              "      <td>82.7</td>\n",
              "      <td>-16.1</td>\n",
              "      <td>45.0</td>\n",
              "      <td>2023--0-2-10</td>\n",
              "      <td>12:00:00</td>\n",
              "      <td>POINT (-16.10000 82.70000)</td>\n",
              "      <td>0.705069</td>\n",
              "      <td>...</td>\n",
              "      <td>0.113388</td>\n",
              "      <td>2</td>\n",
              "      <td>12</td>\n",
              "      <td>-0.041475</td>\n",
              "      <td>0.012903</td>\n",
              "      <td>0.043435</td>\n",
              "      <td>5.014008</td>\n",
              "      <td>21600.0</td>\n",
              "      <td>0.064838</td>\n",
              "      <td>4.612720</td>\n",
              "    </tr>\n",
              "    <tr>\n",
              "      <th>6</th>\n",
              "      <td>Tropical Cyclone Dingani</td>\n",
              "      <td>2023-02-10 18:00:00+00:00</td>\n",
              "      <td>Point</td>\n",
              "      <td>81.5</td>\n",
              "      <td>-16.1</td>\n",
              "      <td>45.0</td>\n",
              "      <td>2023--0-2-10</td>\n",
              "      <td>18:00:00</td>\n",
              "      <td>POINT (-16.10000 81.50000)</td>\n",
              "      <td>0.649770</td>\n",
              "      <td>...</td>\n",
              "      <td>0.114071</td>\n",
              "      <td>2</td>\n",
              "      <td>18</td>\n",
              "      <td>-0.055300</td>\n",
              "      <td>0.000000</td>\n",
              "      <td>0.055300</td>\n",
              "      <td>4.712389</td>\n",
              "      <td>21600.0</td>\n",
              "      <td>0.043435</td>\n",
              "      <td>5.014008</td>\n",
              "    </tr>\n",
              "  </tbody>\n",
              "</table>\n",
              "<p>5 rows × 21 columns</p>\n",
              "</div>"
            ],
            "text/plain": [
              "                CycloneName                  DateTime   Type  Latitude  \\\n",
              "2  Tropical Cyclone Dingani 2023-02-09 18:00:00+00:00  Point      86.3   \n",
              "3  Tropical Cyclone Dingani 2023-02-10 00:00:00+00:00  Point      85.0   \n",
              "4  Tropical Cyclone Dingani 2023-02-10 06:00:00+00:00  Point      83.6   \n",
              "5  Tropical Cyclone Dingani 2023-02-10 12:00:00+00:00  Point      82.7   \n",
              "6  Tropical Cyclone Dingani 2023-02-10 18:00:00+00:00  Point      81.5   \n",
              "\n",
              "   Longitude  Maximum Wind          Date      Time  \\\n",
              "2      -16.3          40.0  2023--0-2-09  18:00:00   \n",
              "3      -16.2          45.0  2023--0-2-10  00:00:00   \n",
              "4      -16.3          45.0  2023--0-2-10  06:00:00   \n",
              "5      -16.1          45.0  2023--0-2-10  12:00:00   \n",
              "6      -16.1          45.0  2023--0-2-10  18:00:00   \n",
              "\n",
              "                     geometry         x  ...  relative_time  month  hour  \\\n",
              "2  POINT (-16.30000 86.30000)  0.870968  ...       0.111339      2    18   \n",
              "3  POINT (-16.20000 85.00000)  0.811060  ...       0.112022      2     0   \n",
              "4  POINT (-16.30000 83.60000)  0.746544  ...       0.112705      2     6   \n",
              "5  POINT (-16.10000 82.70000)  0.705069  ...       0.113388      2    12   \n",
              "6  POINT (-16.10000 81.50000)  0.649770  ...       0.114071      2    18   \n",
              "\n",
              "      vec_x     vec_y   vec_len  vec_direction   tdelta  prev_len  \\\n",
              "2 -0.064516  0.019355  0.067357       5.003846  21600.0  0.067357   \n",
              "3 -0.059908  0.006452  0.060254       4.819668  21600.0  0.067357   \n",
              "4 -0.064516 -0.006452  0.064838       4.612720  21600.0  0.060254   \n",
              "5 -0.041475  0.012903  0.043435       5.014008  21600.0  0.064838   \n",
              "6 -0.055300  0.000000  0.055300       4.712389  21600.0  0.043435   \n",
              "\n",
              "   prev_direction  \n",
              "2        5.003846  \n",
              "3        5.003846  \n",
              "4        4.819668  \n",
              "5        4.612720  \n",
              "6        5.014008  \n",
              "\n",
              "[5 rows x 21 columns]"
            ]
          },
          "execution_count": 36,
          "metadata": {},
          "output_type": "execute_result"
        }
      ],
      "source": [
        "gdf.head()"
      ]
    },
    {
      "cell_type": "code",
      "execution_count": 37,
      "metadata": {
        "id": "map79NBeOscH"
      },
      "outputs": [],
      "source": [
        "from sklearn.model_selection import train_test_split\n",
        "X_direction_train, X_direction_test, y_direction_train, y_direction_test = train_test_split(X_direction, y_direction, test_size=0.2, random_state=42)\n",
        "X_length_train, X_length_test, y_length_train, y_length_test = train_test_split(X_length, y_length, test_size=0.2, random_state=42)"
      ]
    },
    {
      "cell_type": "code",
      "execution_count": 38,
      "metadata": {
        "colab": {
          "base_uri": "https://localhost:8080/"
        },
        "id": "FWOJt511OyZB",
        "outputId": "648aad05-be71-4389-eb88-db61f714db83"
      },
      "outputs": [
        {
          "name": "stdout",
          "output_type": "stream",
          "text": [
            "(27, 7)\n",
            "(27,)\n",
            "(27, 7)\n",
            "(27,)\n"
          ]
        }
      ],
      "source": [
        "print(X_direction.shape)\n",
        "print(y_direction.shape)\n",
        "print(X_length.shape)\n",
        "print(y_length.shape)"
      ]
    },
    {
      "cell_type": "markdown",
      "metadata": {
        "id": "r3KflyyqbJX1"
      },
      "source": [
        "LSTM\n"
      ]
    },
    {
      "cell_type": "code",
      "execution_count": 39,
      "metadata": {
        "id": "pLLQVJHbS1Q3"
      },
      "outputs": [],
      "source": [
        "from sklearn.preprocessing import MinMaxScaler\n",
        "from sklearn.preprocessing import StandardScaler\n",
        "from keras.models import Sequential\n",
        "from keras.layers.core import Dense, Dropout, Activation\n",
        "from keras.layers import LSTM\n",
        "import math, time\n",
        "from geopy.distance import great_circle as vc\n",
        "import math as Math\n",
        "from keras.models import model_from_json"
      ]
    },
    {
      "cell_type": "code",
      "execution_count": 40,
      "metadata": {
        "colab": {
          "base_uri": "https://localhost:8080/"
        },
        "id": "EvJxSRTm_I2p",
        "outputId": "c706f789-43dd-45da-d1c8-70ad4c7571be"
      },
      "outputs": [
        {
          "name": "stdout",
          "output_type": "stream",
          "text": [
            "Epoch 1/100\n",
            "1/1 [==============================] - 6s 6s/step - loss: 15.1530\n",
            "Epoch 2/100\n",
            "1/1 [==============================] - 0s 16ms/step - loss: 14.0277\n",
            "Epoch 3/100\n",
            "1/1 [==============================] - 0s 17ms/step - loss: 12.8827\n",
            "Epoch 4/100\n",
            "1/1 [==============================] - 0s 16ms/step - loss: 11.7095\n",
            "Epoch 5/100\n",
            "1/1 [==============================] - 0s 17ms/step - loss: 10.5023\n",
            "Epoch 6/100\n",
            "1/1 [==============================] - 0s 16ms/step - loss: 9.2641\n",
            "Epoch 7/100\n",
            "1/1 [==============================] - 0s 24ms/step - loss: 8.0076\n",
            "Epoch 8/100\n",
            "1/1 [==============================] - 0s 19ms/step - loss: 6.7593\n",
            "Epoch 9/100\n",
            "1/1 [==============================] - 0s 16ms/step - loss: 5.5588\n",
            "Epoch 10/100\n",
            "1/1 [==============================] - 0s 23ms/step - loss: 4.4499\n",
            "Epoch 11/100\n",
            "1/1 [==============================] - 0s 22ms/step - loss: 3.4710\n",
            "Epoch 12/100\n",
            "1/1 [==============================] - 0s 16ms/step - loss: 2.6457\n",
            "Epoch 13/100\n",
            "1/1 [==============================] - 0s 12ms/step - loss: 1.9799\n",
            "Epoch 14/100\n",
            "1/1 [==============================] - 0s 16ms/step - loss: 1.4641\n",
            "Epoch 15/100\n",
            "1/1 [==============================] - 0s 24ms/step - loss: 1.0803\n",
            "Epoch 16/100\n",
            "1/1 [==============================] - 0s 16ms/step - loss: 0.8072\n",
            "Epoch 17/100\n",
            "1/1 [==============================] - 0s 19ms/step - loss: 0.6237\n",
            "Epoch 18/100\n",
            "1/1 [==============================] - 0s 11ms/step - loss: 0.5105\n",
            "Epoch 19/100\n",
            "1/1 [==============================] - 0s 16ms/step - loss: 0.4507\n",
            "Epoch 20/100\n",
            "1/1 [==============================] - 0s 24ms/step - loss: 0.4304\n",
            "Epoch 21/100\n",
            "1/1 [==============================] - 0s 16ms/step - loss: 0.4374\n",
            "Epoch 22/100\n",
            "1/1 [==============================] - 0s 48ms/step - loss: 0.4614\n",
            "Epoch 23/100\n",
            "1/1 [==============================] - 0s 16ms/step - loss: 0.4937\n",
            "Epoch 24/100\n",
            "1/1 [==============================] - 0s 22ms/step - loss: 0.5270\n",
            "Epoch 25/100\n",
            "1/1 [==============================] - 0s 17ms/step - loss: 0.5559\n",
            "Epoch 26/100\n",
            "1/1 [==============================] - 0s 20ms/step - loss: 0.5775\n",
            "Epoch 27/100\n",
            "1/1 [==============================] - 0s 16ms/step - loss: 0.5902\n",
            "Epoch 28/100\n",
            "1/1 [==============================] - 0s 16ms/step - loss: 0.5941\n",
            "Epoch 29/100\n",
            "1/1 [==============================] - 0s 24ms/step - loss: 0.5901\n",
            "Epoch 30/100\n",
            "1/1 [==============================] - 0s 19ms/step - loss: 0.5796\n",
            "Epoch 31/100\n",
            "1/1 [==============================] - 0s 17ms/step - loss: 0.5644\n",
            "Epoch 32/100\n",
            "1/1 [==============================] - 0s 16ms/step - loss: 0.5461\n",
            "Epoch 33/100\n",
            "1/1 [==============================] - 0s 16ms/step - loss: 0.5264\n",
            "Epoch 34/100\n",
            "1/1 [==============================] - 0s 20ms/step - loss: 0.5067\n",
            "Epoch 35/100\n",
            "1/1 [==============================] - 0s 16ms/step - loss: 0.4882\n",
            "Epoch 36/100\n",
            "1/1 [==============================] - 0s 16ms/step - loss: 0.4717\n",
            "Epoch 37/100\n",
            "1/1 [==============================] - 0s 19ms/step - loss: 0.4580\n",
            "Epoch 38/100\n",
            "1/1 [==============================] - 0s 16ms/step - loss: 0.4472\n",
            "Epoch 39/100\n",
            "1/1 [==============================] - 0s 23ms/step - loss: 0.4395\n",
            "Epoch 40/100\n",
            "1/1 [==============================] - 0s 17ms/step - loss: 0.4348\n",
            "Epoch 41/100\n",
            "1/1 [==============================] - 0s 22ms/step - loss: 0.4326\n",
            "Epoch 42/100\n",
            "1/1 [==============================] - 0s 22ms/step - loss: 0.4326\n",
            "Epoch 43/100\n",
            "1/1 [==============================] - 0s 17ms/step - loss: 0.4342\n",
            "Epoch 44/100\n",
            "1/1 [==============================] - 0s 16ms/step - loss: 0.4369\n",
            "Epoch 45/100\n",
            "1/1 [==============================] - 0s 25ms/step - loss: 0.4399\n",
            "Epoch 46/100\n",
            "1/1 [==============================] - 0s 18ms/step - loss: 0.4429\n",
            "Epoch 47/100\n",
            "1/1 [==============================] - 0s 24ms/step - loss: 0.4455\n",
            "Epoch 48/100\n",
            "1/1 [==============================] - 0s 19ms/step - loss: 0.4474\n",
            "Epoch 49/100\n",
            "1/1 [==============================] - 0s 21ms/step - loss: 0.4485\n",
            "Epoch 50/100\n",
            "1/1 [==============================] - 0s 16ms/step - loss: 0.4487\n",
            "Epoch 51/100\n",
            "1/1 [==============================] - 0s 16ms/step - loss: 0.4481\n",
            "Epoch 52/100\n",
            "1/1 [==============================] - 0s 15ms/step - loss: 0.4468\n",
            "Epoch 53/100\n",
            "1/1 [==============================] - 0s 16ms/step - loss: 0.4451\n",
            "Epoch 54/100\n",
            "1/1 [==============================] - 0s 49ms/step - loss: 0.4430\n",
            "Epoch 55/100\n",
            "1/1 [==============================] - 0s 24ms/step - loss: 0.4409\n",
            "Epoch 56/100\n",
            "1/1 [==============================] - 0s 21ms/step - loss: 0.4388\n",
            "Epoch 57/100\n",
            "1/1 [==============================] - 0s 21ms/step - loss: 0.4369\n",
            "Epoch 58/100\n",
            "1/1 [==============================] - 0s 16ms/step - loss: 0.4353\n",
            "Epoch 59/100\n",
            "1/1 [==============================] - 0s 16ms/step - loss: 0.4340\n",
            "Epoch 60/100\n",
            "1/1 [==============================] - 0s 16ms/step - loss: 0.4332\n",
            "Epoch 61/100\n",
            "1/1 [==============================] - 0s 13ms/step - loss: 0.4326\n",
            "Epoch 62/100\n",
            "1/1 [==============================] - 0s 16ms/step - loss: 0.4324\n",
            "Epoch 63/100\n",
            "1/1 [==============================] - 0s 24ms/step - loss: 0.4325\n",
            "Epoch 64/100\n",
            "1/1 [==============================] - 0s 16ms/step - loss: 0.4327\n",
            "Epoch 65/100\n",
            "1/1 [==============================] - 0s 20ms/step - loss: 0.4330\n",
            "Epoch 66/100\n",
            "1/1 [==============================] - 0s 13ms/step - loss: 0.4334\n",
            "Epoch 67/100\n",
            "1/1 [==============================] - 0s 16ms/step - loss: 0.4337\n",
            "Epoch 68/100\n",
            "1/1 [==============================] - 0s 16ms/step - loss: 0.4340\n",
            "Epoch 69/100\n",
            "1/1 [==============================] - 0s 18ms/step - loss: 0.4342\n",
            "Epoch 70/100\n",
            "1/1 [==============================] - 0s 23ms/step - loss: 0.4343\n",
            "Epoch 71/100\n",
            "1/1 [==============================] - 0s 22ms/step - loss: 0.4343\n",
            "Epoch 72/100\n",
            "1/1 [==============================] - 0s 14ms/step - loss: 0.4341\n",
            "Epoch 73/100\n",
            "1/1 [==============================] - 0s 19ms/step - loss: 0.4339\n",
            "Epoch 74/100\n",
            "1/1 [==============================] - 0s 24ms/step - loss: 0.4337\n",
            "Epoch 75/100\n",
            "1/1 [==============================] - 0s 16ms/step - loss: 0.4334\n",
            "Epoch 76/100\n",
            "1/1 [==============================] - 0s 11ms/step - loss: 0.4331\n",
            "Epoch 77/100\n",
            "1/1 [==============================] - 0s 16ms/step - loss: 0.4329\n",
            "Epoch 78/100\n",
            "1/1 [==============================] - 0s 16ms/step - loss: 0.4327\n",
            "Epoch 79/100\n",
            "1/1 [==============================] - 0s 19ms/step - loss: 0.4325\n",
            "Epoch 80/100\n",
            "1/1 [==============================] - 0s 17ms/step - loss: 0.4324\n",
            "Epoch 81/100\n",
            "1/1 [==============================] - 0s 56ms/step - loss: 0.4323\n",
            "Epoch 82/100\n",
            "1/1 [==============================] - 0s 16ms/step - loss: 0.4323\n",
            "Epoch 83/100\n",
            "1/1 [==============================] - 0s 21ms/step - loss: 0.4323\n",
            "Epoch 84/100\n",
            "1/1 [==============================] - 0s 21ms/step - loss: 0.4323\n",
            "Epoch 85/100\n",
            "1/1 [==============================] - 0s 16ms/step - loss: 0.4323\n",
            "Epoch 86/100\n",
            "1/1 [==============================] - 0s 16ms/step - loss: 0.4324\n",
            "Epoch 87/100\n",
            "1/1 [==============================] - 0s 17ms/step - loss: 0.4324\n",
            "Epoch 88/100\n",
            "1/1 [==============================] - 0s 20ms/step - loss: 0.4324\n",
            "Epoch 89/100\n",
            "1/1 [==============================] - 0s 20ms/step - loss: 0.4325\n",
            "Epoch 90/100\n",
            "1/1 [==============================] - 0s 16ms/step - loss: 0.4324\n",
            "Epoch 91/100\n",
            "1/1 [==============================] - 0s 17ms/step - loss: 0.4324\n",
            "Epoch 92/100\n",
            "1/1 [==============================] - 0s 16ms/step - loss: 0.4324\n",
            "Epoch 93/100\n",
            "1/1 [==============================] - 0s 16ms/step - loss: 0.4323\n",
            "Epoch 94/100\n",
            "1/1 [==============================] - 0s 16ms/step - loss: 0.4323\n",
            "Epoch 95/100\n",
            "1/1 [==============================] - 0s 16ms/step - loss: 0.4322\n",
            "Epoch 96/100\n",
            "1/1 [==============================] - 0s 24ms/step - loss: 0.4322\n",
            "Epoch 97/100\n",
            "1/1 [==============================] - 0s 21ms/step - loss: 0.4322\n",
            "Epoch 98/100\n",
            "1/1 [==============================] - 0s 18ms/step - loss: 0.4321\n",
            "Epoch 99/100\n",
            "1/1 [==============================] - 0s 21ms/step - loss: 0.4321\n",
            "Epoch 100/100\n",
            "1/1 [==============================] - 0s 16ms/step - loss: 0.4321\n"
          ]
        }
      ],
      "source": [
        "# Define the number of inputs, hidden units, and outputs\n",
        "n_inputs = X_direction_train.shape[1]\n",
        "n_hidden1 = 100\n",
        "n_hidden2 = 50\n",
        "n_hidden3 = 25\n",
        "n_outputs = 1\n",
        "\n",
        "# Create the LSTM model\n",
        "model = Sequential()\n",
        "model.add(LSTM(n_hidden1, input_shape=(n_inputs, 1), return_sequences=True))\n",
        "model.add(LSTM(n_hidden2, return_sequences=True))\n",
        "model.add(LSTM(n_hidden3))\n",
        "model.add(Dense(n_outputs))\n",
        "\n",
        "# Compile the model\n",
        "model.compile(loss='mean_squared_error', optimizer='adam')\n",
        "\n",
        "# Train the model\n",
        "model_direction_lstm = model.fit(X_direction_train, y_direction_train, epochs=100, batch_size=64)"
      ]
    },
    {
      "cell_type": "code",
      "execution_count": 41,
      "metadata": {
        "colab": {
          "base_uri": "https://localhost:8080/"
        },
        "id": "yCEl031yrdM0",
        "outputId": "92e9527e-7dc6-41c8-f0c7-652b61084bcd"
      },
      "outputs": [
        {
          "name": "stdout",
          "output_type": "stream",
          "text": [
            "Epoch 1/100\n",
            "1/1 [==============================] - 7s 7s/step - loss: 0.0096\n",
            "Epoch 2/100\n",
            "1/1 [==============================] - 0s 18ms/step - loss: 0.0013\n",
            "Epoch 3/100\n",
            "1/1 [==============================] - 0s 14ms/step - loss: 0.0062\n",
            "Epoch 4/100\n",
            "1/1 [==============================] - 0s 16ms/step - loss: 0.0034\n",
            "Epoch 5/100\n",
            "1/1 [==============================] - 0s 16ms/step - loss: 6.5195e-04\n",
            "Epoch 6/100\n",
            "1/1 [==============================] - 0s 24ms/step - loss: 7.6946e-04\n",
            "Epoch 7/100\n",
            "1/1 [==============================] - 0s 22ms/step - loss: 0.0020\n",
            "Epoch 8/100\n",
            "1/1 [==============================] - 0s 16ms/step - loss: 0.0025\n",
            "Epoch 9/100\n",
            "1/1 [==============================] - 0s 24ms/step - loss: 0.0018\n",
            "Epoch 10/100\n",
            "1/1 [==============================] - 0s 16ms/step - loss: 8.7662e-04\n",
            "Epoch 11/100\n",
            "1/1 [==============================] - 0s 16ms/step - loss: 3.6652e-04\n",
            "Epoch 12/100\n",
            "1/1 [==============================] - 0s 24ms/step - loss: 5.1706e-04\n",
            "Epoch 13/100\n",
            "1/1 [==============================] - 0s 24ms/step - loss: 9.8950e-04\n",
            "Epoch 14/100\n",
            "1/1 [==============================] - 0s 13ms/step - loss: 0.0013\n",
            "Epoch 15/100\n",
            "1/1 [==============================] - 0s 16ms/step - loss: 0.0011\n",
            "Epoch 16/100\n",
            "1/1 [==============================] - 0s 13ms/step - loss: 7.5925e-04\n",
            "Epoch 17/100\n",
            "1/1 [==============================] - 0s 24ms/step - loss: 4.2411e-04\n",
            "Epoch 18/100\n",
            "1/1 [==============================] - 0s 32ms/step - loss: 3.1752e-04\n",
            "Epoch 19/100\n",
            "1/1 [==============================] - 0s 21ms/step - loss: 4.2671e-04\n",
            "Epoch 20/100\n",
            "1/1 [==============================] - 0s 16ms/step - loss: 6.0941e-04\n",
            "Epoch 21/100\n",
            "1/1 [==============================] - 0s 17ms/step - loss: 7.1664e-04\n",
            "Epoch 22/100\n",
            "1/1 [==============================] - 0s 16ms/step - loss: 6.8296e-04\n",
            "Epoch 23/100\n",
            "1/1 [==============================] - 0s 22ms/step - loss: 5.4290e-04\n",
            "Epoch 24/100\n",
            "1/1 [==============================] - 0s 15ms/step - loss: 3.8748e-04\n",
            "Epoch 25/100\n",
            "1/1 [==============================] - 0s 16ms/step - loss: 3.0031e-04\n",
            "Epoch 26/100\n",
            "1/1 [==============================] - 0s 16ms/step - loss: 3.1059e-04\n",
            "Epoch 27/100\n",
            "1/1 [==============================] - 0s 16ms/step - loss: 3.8436e-04\n",
            "Epoch 28/100\n",
            "1/1 [==============================] - 0s 17ms/step - loss: 4.5485e-04\n",
            "Epoch 29/100\n",
            "1/1 [==============================] - 0s 17ms/step - loss: 4.6981e-04\n",
            "Epoch 30/100\n",
            "1/1 [==============================] - 0s 16ms/step - loss: 4.2241e-04\n",
            "Epoch 31/100\n",
            "1/1 [==============================] - 0s 16ms/step - loss: 3.4714e-04\n",
            "Epoch 32/100\n",
            "1/1 [==============================] - 0s 19ms/step - loss: 2.8979e-04\n",
            "Epoch 33/100\n",
            "1/1 [==============================] - 0s 22ms/step - loss: 2.7665e-04\n",
            "Epoch 34/100\n",
            "1/1 [==============================] - 0s 16ms/step - loss: 3.0213e-04\n",
            "Epoch 35/100\n",
            "1/1 [==============================] - 0s 17ms/step - loss: 3.3841e-04\n",
            "Epoch 36/100\n",
            "1/1 [==============================] - 0s 17ms/step - loss: 3.5657e-04\n",
            "Epoch 37/100\n",
            "1/1 [==============================] - 0s 16ms/step - loss: 3.4444e-04\n",
            "Epoch 38/100\n",
            "1/1 [==============================] - 0s 17ms/step - loss: 3.1108e-04\n",
            "Epoch 39/100\n",
            "1/1 [==============================] - 0s 15ms/step - loss: 2.7763e-04\n",
            "Epoch 40/100\n",
            "1/1 [==============================] - 0s 8ms/step - loss: 2.6213e-04\n",
            "Epoch 41/100\n",
            "1/1 [==============================] - 0s 8ms/step - loss: 2.6847e-04\n",
            "Epoch 42/100\n",
            "1/1 [==============================] - 0s 48ms/step - loss: 2.8583e-04\n",
            "Epoch 43/100\n",
            "1/1 [==============================] - 0s 16ms/step - loss: 2.9794e-04\n",
            "Epoch 44/100\n",
            "1/1 [==============================] - 0s 16ms/step - loss: 2.9487e-04\n",
            "Epoch 45/100\n",
            "1/1 [==============================] - 0s 16ms/step - loss: 2.7881e-04\n",
            "Epoch 46/100\n",
            "1/1 [==============================] - 0s 16ms/step - loss: 2.6070e-04\n",
            "Epoch 47/100\n",
            "1/1 [==============================] - 0s 8ms/step - loss: 2.5121e-04\n",
            "Epoch 48/100\n",
            "1/1 [==============================] - 0s 16ms/step - loss: 2.5336e-04\n",
            "Epoch 49/100\n",
            "1/1 [==============================] - 0s 24ms/step - loss: 2.6171e-04\n",
            "Epoch 50/100\n",
            "1/1 [==============================] - 0s 21ms/step - loss: 2.6744e-04\n",
            "Epoch 51/100\n",
            "1/1 [==============================] - 0s 20ms/step - loss: 2.6518e-04\n",
            "Epoch 52/100\n",
            "1/1 [==============================] - 0s 16ms/step - loss: 2.5621e-04\n",
            "Epoch 53/100\n",
            "1/1 [==============================] - 0s 16ms/step - loss: 2.4659e-04\n",
            "Epoch 54/100\n",
            "1/1 [==============================] - 0s 16ms/step - loss: 2.4196e-04\n",
            "Epoch 55/100\n",
            "1/1 [==============================] - 0s 16ms/step - loss: 2.4348e-04\n",
            "Epoch 56/100\n",
            "1/1 [==============================] - 0s 17ms/step - loss: 2.4756e-04\n",
            "Epoch 57/100\n",
            "1/1 [==============================] - 0s 17ms/step - loss: 2.4926e-04\n",
            "Epoch 58/100\n",
            "1/1 [==============================] - 0s 17ms/step - loss: 2.4635e-04\n",
            "Epoch 59/100\n",
            "1/1 [==============================] - 0s 17ms/step - loss: 2.4062e-04\n",
            "Epoch 60/100\n",
            "1/1 [==============================] - 0s 16ms/step - loss: 2.3587e-04\n",
            "Epoch 61/100\n",
            "1/1 [==============================] - 0s 20ms/step - loss: 2.3457e-04\n",
            "Epoch 62/100\n",
            "1/1 [==============================] - 0s 17ms/step - loss: 2.3606e-04\n",
            "Epoch 63/100\n",
            "1/1 [==============================] - 0s 16ms/step - loss: 2.3757e-04\n",
            "Epoch 64/100\n",
            "1/1 [==============================] - 0s 22ms/step - loss: 2.3679e-04\n",
            "Epoch 65/100\n",
            "1/1 [==============================] - 0s 16ms/step - loss: 2.3374e-04\n",
            "Epoch 66/100\n",
            "1/1 [==============================] - 0s 18ms/step - loss: 2.3036e-04\n",
            "Epoch 67/100\n",
            "1/1 [==============================] - 0s 17ms/step - loss: 2.2862e-04\n",
            "Epoch 68/100\n",
            "1/1 [==============================] - 0s 16ms/step - loss: 2.2880e-04\n",
            "Epoch 69/100\n",
            "1/1 [==============================] - 0s 16ms/step - loss: 2.2949e-04\n",
            "Epoch 70/100\n",
            "1/1 [==============================] - 0s 17ms/step - loss: 2.2909e-04\n",
            "Epoch 71/100\n",
            "1/1 [==============================] - 0s 20ms/step - loss: 2.2726e-04\n",
            "Epoch 72/100\n",
            "1/1 [==============================] - 0s 22ms/step - loss: 2.2502e-04\n",
            "Epoch 73/100\n",
            "1/1 [==============================] - 0s 51ms/step - loss: 2.2366e-04\n",
            "Epoch 74/100\n",
            "1/1 [==============================] - 0s 20ms/step - loss: 2.2345e-04\n",
            "Epoch 75/100\n",
            "1/1 [==============================] - 0s 20ms/step - loss: 2.2359e-04\n",
            "Epoch 76/100\n",
            "1/1 [==============================] - 0s 16ms/step - loss: 2.2309e-04\n",
            "Epoch 77/100\n",
            "1/1 [==============================] - 0s 16ms/step - loss: 2.2176e-04\n",
            "Epoch 78/100\n",
            "1/1 [==============================] - 0s 24ms/step - loss: 2.2024e-04\n",
            "Epoch 79/100\n",
            "1/1 [==============================] - 0s 19ms/step - loss: 2.1929e-04\n",
            "Epoch 80/100\n",
            "1/1 [==============================] - 0s 18ms/step - loss: 2.1899e-04\n",
            "Epoch 81/100\n",
            "1/1 [==============================] - 0s 17ms/step - loss: 2.1880e-04\n",
            "Epoch 82/100\n",
            "1/1 [==============================] - 0s 16ms/step - loss: 2.1815e-04\n",
            "Epoch 83/100\n",
            "1/1 [==============================] - 0s 16ms/step - loss: 2.1706e-04\n",
            "Epoch 84/100\n",
            "1/1 [==============================] - 0s 24ms/step - loss: 2.1601e-04\n",
            "Epoch 85/100\n",
            "1/1 [==============================] - 0s 23ms/step - loss: 2.1537e-04\n",
            "Epoch 86/100\n",
            "1/1 [==============================] - 0s 21ms/step - loss: 2.1504e-04\n",
            "Epoch 87/100\n",
            "1/1 [==============================] - 0s 22ms/step - loss: 2.1463e-04\n",
            "Epoch 88/100\n",
            "1/1 [==============================] - 0s 32ms/step - loss: 2.1389e-04\n",
            "Epoch 89/100\n",
            "1/1 [==============================] - 0s 25ms/step - loss: 2.1299e-04\n",
            "Epoch 90/100\n",
            "1/1 [==============================] - 0s 25ms/step - loss: 2.1226e-04\n",
            "Epoch 91/100\n",
            "1/1 [==============================] - 0s 16ms/step - loss: 2.1178e-04\n",
            "Epoch 92/100\n",
            "1/1 [==============================] - 0s 16ms/step - loss: 2.1137e-04\n",
            "Epoch 93/100\n",
            "1/1 [==============================] - 0s 16ms/step - loss: 2.1080e-04\n",
            "Epoch 94/100\n",
            "1/1 [==============================] - 0s 16ms/step - loss: 2.1006e-04\n",
            "Epoch 95/100\n",
            "1/1 [==============================] - 0s 16ms/step - loss: 2.0936e-04\n",
            "Epoch 96/100\n",
            "1/1 [==============================] - 0s 16ms/step - loss: 2.0882e-04\n",
            "Epoch 97/100\n",
            "1/1 [==============================] - 0s 16ms/step - loss: 2.0837e-04\n",
            "Epoch 98/100\n",
            "1/1 [==============================] - 0s 16ms/step - loss: 2.0785e-04\n",
            "Epoch 99/100\n",
            "1/1 [==============================] - 0s 16ms/step - loss: 2.0721e-04\n",
            "Epoch 100/100\n",
            "1/1 [==============================] - 0s 16ms/step - loss: 2.0657e-04\n"
          ]
        }
      ],
      "source": [
        "model1 = Sequential()\n",
        "model1.add(LSTM(n_hidden1, input_shape=(n_inputs, 1), return_sequences=True))\n",
        "model1.add(LSTM(n_hidden2, return_sequences=True))\n",
        "model1.add(LSTM(n_hidden3))\n",
        "model1.add(Dense(n_outputs))\n",
        "\n",
        "# Compile the model\n",
        "model1.compile(loss='mean_squared_error', optimizer='adam')\n",
        "\n",
        "# Train the model\n",
        "model_length_lstm = model1.fit(X_length_train, y_length_train, epochs=100, batch_size=64)"
      ]
    },
    {
      "cell_type": "code",
      "execution_count": 42,
      "metadata": {
        "colab": {
          "base_uri": "https://localhost:8080/"
        },
        "id": "7-ox2-1yWtml",
        "outputId": "028d3002-728d-4ab1-f87a-d9db42561c95"
      },
      "outputs": [
        {
          "name": "stdout",
          "output_type": "stream",
          "text": [
            "1/1 [==============================] - 1s 1s/step\n",
            "1/1 [==============================] - 1s 1s/step\n",
            "[[[3.97394    0.0582802 ]]\n",
            "\n",
            " [[3.9706476  0.06256773]]\n",
            "\n",
            " [[3.9727607  0.06619135]]\n",
            "\n",
            " [[3.9718     0.07032012]]\n",
            "\n",
            " [[3.9754186  0.06249385]]\n",
            "\n",
            " [[3.972877   0.05559191]]]\n"
          ]
        }
      ],
      "source": [
        "Y_test_predicted_lstm_direction = model.predict(X_direction_test)\n",
        "# print(Y_test_predicted_lstm_direction)\n",
        "Y_test_predicted_lstm_length = model1.predict(X_length_test)\n",
        "# print(Y_test_predicted_lstm_length)\n",
        "predicted = np.dstack((Y_test_predicted_lstm_direction,Y_test_predicted_lstm_length))\n",
        "print(predicted)"
      ]
    },
    {
      "cell_type": "code",
      "execution_count": null,
      "metadata": {
        "colab": {
          "base_uri": "https://localhost:8080/"
        },
        "id": "FaUcmTtdXpU5",
        "outputId": "8e957100-fe55-4080-b194-f77e5d121e2f"
      },
      "outputs": [
        {
          "name": "stdout",
          "output_type": "stream",
          "text": [
            "0.2897304722261279\n"
          ]
        }
      ],
      "source": [
        "errorlstm = mean_squared_error(y_direction_test,Y_test_predicted_lstm_direction[:,0])\n",
        "print(errorlstm)\n",
        "lstm = [Y_test_predicted_lstm_direction,Y_test_predicted_lstm_length,errorlstm]"
      ]
    },
    {
      "cell_type": "code",
      "execution_count": 52,
      "metadata": {
        "colab": {
          "base_uri": "https://localhost:8080/"
        },
        "id": "kk1V1jQwaE_p",
        "outputId": "6f323228-0af4-4f49-ba3f-c7e94f9e76cb"
      },
      "outputs": [
        {
          "data": {
            "text/plain": [
              "0.00019169593"
            ]
          },
          "execution_count": 52,
          "metadata": {},
          "output_type": "execute_result"
        }
      ],
      "source": [
        "mean_squared_error(y_length_test,Y_test_predicted_lstm_length[:,0])"
      ]
    },
    {
      "cell_type": "markdown",
      "metadata": {
        "id": "kVHzaNUgbMal"
      },
      "source": [
        "MLP"
      ]
    },
    {
      "cell_type": "code",
      "execution_count": 44,
      "metadata": {
        "id": "qAL8TWUUbPkx"
      },
      "outputs": [],
      "source": [
        "from sklearn.neural_network import MLPRegressor\n",
        "mlp = MLPRegressor(hidden_layer_sizes=100,learning_rate_init=0.1,max_iter=300,verbose=True)\n",
        "mlp1 = MLPRegressor(hidden_layer_sizes=100,learning_rate_init=0.1,max_iter=300,verbose=True)"
      ]
    },
    {
      "cell_type": "code",
      "execution_count": 45,
      "metadata": {
        "colab": {
          "base_uri": "https://localhost:8080/"
        },
        "id": "lEjSPVaNlCxV",
        "outputId": "8b1f479a-101e-4d8d-eb99-baefbd0b0412"
      },
      "outputs": [
        {
          "name": "stdout",
          "output_type": "stream",
          "text": [
            "Iteration 1, loss = 68.22362985\n",
            "Iteration 2, loss = 1340.36130683\n",
            "Iteration 3, loss = 128.42695039\n",
            "Iteration 4, loss = 80.59389031\n",
            "Iteration 5, loss = 33.38095665\n",
            "Iteration 6, loss = 38.34487967\n",
            "Iteration 7, loss = 4.72371741\n",
            "Iteration 8, loss = 11.68792926\n",
            "Iteration 9, loss = 20.58089420\n",
            "Iteration 10, loss = 5.46572023\n",
            "Iteration 11, loss = 3.55406458\n",
            "Iteration 12, loss = 14.16693846\n",
            "Iteration 13, loss = 3.97984859\n",
            "Iteration 14, loss = 1.70733436\n",
            "Iteration 15, loss = 8.11575986\n",
            "Iteration 16, loss = 7.21149660\n",
            "Iteration 17, loss = 1.43176899\n",
            "Iteration 18, loss = 1.69634657\n",
            "Iteration 19, loss = 5.86633485\n",
            "Iteration 20, loss = 3.49492816\n",
            "Iteration 21, loss = 0.40732407\n",
            "Iteration 22, loss = 2.05193909\n",
            "Iteration 23, loss = 3.78358357\n",
            "Iteration 24, loss = 2.45490404\n",
            "Iteration 25, loss = 0.48873707\n",
            "Iteration 26, loss = 1.05119433\n",
            "Iteration 27, loss = 2.50211716\n",
            "Iteration 28, loss = 1.69338406\n",
            "Iteration 29, loss = 0.38269407\n",
            "Iteration 30, loss = 0.75739874\n",
            "Iteration 31, loss = 1.60665957\n",
            "Iteration 32, loss = 1.38008080\n",
            "Iteration 33, loss = 0.50810611\n",
            "Iteration 34, loss = 0.35935740\n",
            "Iteration 35, loss = 0.97490875\n",
            "Iteration 36, loss = 1.05074987\n",
            "Iteration 37, loss = 0.45766142\n",
            "Iteration 38, loss = 0.26562640\n",
            "Iteration 39, loss = 0.61475327\n",
            "Iteration 40, loss = 0.77134831\n",
            "Iteration 41, loss = 0.47285278\n",
            "Iteration 42, loss = 0.20854048\n",
            "Iteration 43, loss = 0.35424209\n",
            "Iteration 44, loss = 0.54871801\n",
            "Iteration 45, loss = 0.39527826\n",
            "Iteration 46, loss = 0.18248962\n",
            "Iteration 47, loss = 0.24205036\n",
            "Iteration 48, loss = 0.38206540\n",
            "Iteration 49, loss = 0.32666003\n",
            "Iteration 50, loss = 0.17003821\n",
            "Iteration 51, loss = 0.16285225\n",
            "Iteration 52, loss = 0.26719484\n",
            "Iteration 53, loss = 0.25198970\n",
            "Iteration 54, loss = 0.14093106\n",
            "Iteration 55, loss = 0.12715949\n",
            "Iteration 56, loss = 0.19467610\n",
            "Iteration 57, loss = 0.19160840\n",
            "Iteration 58, loss = 0.11779379\n",
            "Iteration 59, loss = 0.09948146\n",
            "Iteration 60, loss = 0.14535536\n",
            "Iteration 61, loss = 0.14381051\n",
            "Iteration 62, loss = 0.09184672\n",
            "Iteration 63, loss = 0.08357909\n",
            "Iteration 64, loss = 0.11438569\n",
            "Iteration 65, loss = 0.10886518\n",
            "Iteration 66, loss = 0.07372319\n",
            "Iteration 67, loss = 0.07175389\n",
            "Iteration 68, loss = 0.09274252\n",
            "Iteration 69, loss = 0.08332586\n",
            "Iteration 70, loss = 0.06043837\n",
            "Iteration 71, loss = 0.06563418\n",
            "Iteration 72, loss = 0.07764474\n",
            "Iteration 73, loss = 0.06612488\n",
            "Iteration 74, loss = 0.05359860\n",
            "Iteration 75, loss = 0.06152642\n",
            "Iteration 76, loss = 0.06614136\n",
            "Iteration 77, loss = 0.05490122\n",
            "Iteration 78, loss = 0.05114242\n",
            "Iteration 79, loss = 0.05861968\n",
            "Iteration 80, loss = 0.05715582\n",
            "Iteration 81, loss = 0.04922267\n",
            "Iteration 82, loss = 0.05087562\n",
            "Iteration 83, loss = 0.05506360\n",
            "Iteration 84, loss = 0.05057580\n",
            "Iteration 85, loss = 0.04728303\n",
            "Iteration 86, loss = 0.05079827\n",
            "Iteration 87, loss = 0.05091664\n",
            "Iteration 88, loss = 0.04681614\n",
            "Iteration 89, loss = 0.04724202\n",
            "Iteration 90, loss = 0.04939406\n",
            "Iteration 91, loss = 0.04712104\n",
            "Iteration 92, loss = 0.04541921\n",
            "Iteration 93, loss = 0.04712782\n",
            "Iteration 94, loss = 0.04686247\n",
            "Iteration 95, loss = 0.04473073\n",
            "Iteration 96, loss = 0.04511711\n",
            "Iteration 97, loss = 0.04585087\n",
            "Iteration 98, loss = 0.04435544\n",
            "Iteration 99, loss = 0.04372737\n",
            "Iteration 100, loss = 0.04450168\n",
            "Iteration 101, loss = 0.04385998\n",
            "Iteration 102, loss = 0.04283627\n",
            "Iteration 103, loss = 0.04319302\n",
            "Iteration 104, loss = 0.04312041\n",
            "Iteration 105, loss = 0.04216696\n",
            "Iteration 106, loss = 0.04207948\n",
            "Iteration 107, loss = 0.04223578\n",
            "Iteration 108, loss = 0.04157231\n",
            "Iteration 109, loss = 0.04122946\n",
            "Iteration 110, loss = 0.04139591\n",
            "Iteration 111, loss = 0.04101130\n",
            "Iteration 112, loss = 0.04056843\n",
            "Iteration 113, loss = 0.04063100\n",
            "Iteration 114, loss = 0.04044032\n",
            "Iteration 115, loss = 0.04001547\n",
            "Iteration 116, loss = 0.03996660\n",
            "Iteration 117, loss = 0.03987984\n",
            "Iteration 118, loss = 0.03952632\n",
            "Iteration 119, loss = 0.03939865\n",
            "Iteration 120, loss = 0.03935195\n",
            "Iteration 121, loss = 0.03908223\n",
            "Iteration 122, loss = 0.03891749\n",
            "Iteration 123, loss = 0.03887569\n",
            "Iteration 124, loss = 0.03866996\n",
            "Iteration 125, loss = 0.03849163\n",
            "Iteration 126, loss = 0.03843863\n",
            "Iteration 127, loss = 0.03828150\n",
            "Iteration 128, loss = 0.03811203\n",
            "Iteration 129, loss = 0.03805196\n",
            "Iteration 130, loss = 0.03792947\n",
            "Iteration 131, loss = 0.03777472\n",
            "Iteration 132, loss = 0.03770013\n",
            "Iteration 133, loss = 0.03759512\n",
            "Iteration 134, loss = 0.03745789\n",
            "Iteration 135, loss = 0.03738216\n",
            "Iteration 136, loss = 0.03729380\n",
            "Iteration 137, loss = 0.03717083\n",
            "Iteration 138, loss = 0.03709103\n",
            "Iteration 139, loss = 0.03700840\n",
            "Iteration 140, loss = 0.03689723\n",
            "Iteration 141, loss = 0.03682217\n",
            "Iteration 142, loss = 0.03674732\n",
            "Iteration 143, loss = 0.03664964\n",
            "Iteration 144, loss = 0.03657533\n",
            "Iteration 145, loss = 0.03650208\n",
            "Iteration 146, loss = 0.03641530\n",
            "Iteration 147, loss = 0.03634601\n",
            "Iteration 148, loss = 0.03627887\n",
            "Iteration 149, loss = 0.03619950\n",
            "Iteration 150, loss = 0.03613262\n",
            "Iteration 151, loss = 0.03606763\n",
            "Training loss did not improve more than tol=0.000100 for 10 consecutive epochs. Stopping.\n"
          ]
        }
      ],
      "source": [
        "model_direction_mlp = mlp.fit(X_direction_train, y_direction_train)"
      ]
    },
    {
      "cell_type": "code",
      "execution_count": 46,
      "metadata": {
        "colab": {
          "base_uri": "https://localhost:8080/"
        },
        "id": "XrhMIFv-hE3q",
        "outputId": "77cb58db-3e08-4152-bbf0-c2b7a7e399d1"
      },
      "outputs": [
        {
          "name": "stdout",
          "output_type": "stream",
          "text": [
            "Iteration 1, loss = 2.75717906\n",
            "Iteration 2, loss = 3223.43430382\n",
            "Iteration 3, loss = 214.65717589\n",
            "Iteration 4, loss = 361.16929440\n",
            "Iteration 5, loss = 266.51228858\n",
            "Iteration 6, loss = 9.89367815\n",
            "Iteration 7, loss = 191.05326544\n",
            "Iteration 8, loss = 122.64799660\n",
            "Iteration 9, loss = 15.48733146\n",
            "Iteration 10, loss = 4.14937219\n",
            "Iteration 11, loss = 28.89032257\n",
            "Iteration 12, loss = 43.53817121\n",
            "Training loss did not improve more than tol=0.000100 for 10 consecutive epochs. Stopping.\n"
          ]
        }
      ],
      "source": [
        "model_length_mlp = mlp1.fit(X_length_train, y_length_train)"
      ]
    },
    {
      "cell_type": "code",
      "execution_count": 47,
      "metadata": {
        "id": "-PLRQIU2qkXL"
      },
      "outputs": [],
      "source": [
        "Y_test_predicted_mlp_direction = mlp.predict(X_direction_test)\n",
        "Y_test_predicted_mlp_length = mlp1.predict(X_length_test)"
      ]
    },
    {
      "cell_type": "code",
      "execution_count": 51,
      "metadata": {
        "colab": {
          "base_uri": "https://localhost:8080/"
        },
        "id": "AFm8qsXtteeN",
        "outputId": "a620948f-24e1-4ca4-dfc2-13bd4eeb5884"
      },
      "outputs": [
        {
          "name": "stdout",
          "output_type": "stream",
          "text": [
            "0.022159384528679122\n"
          ]
        }
      ],
      "source": [
        "errormlp = mean_squared_error(y_direction_test,Y_test_predicted_mlp_direction)\n",
        "print(errormlp)\n",
        "svr = [model_direction_mlp,model_length_mlp,errormlp]"
      ]
    },
    {
      "cell_type": "code",
      "execution_count": 54,
      "metadata": {
        "colab": {
          "base_uri": "https://localhost:8080/"
        },
        "id": "NWZBbIc1u8kt",
        "outputId": "73681e65-b5c8-49f8-b90c-e13ebb35efdd"
      },
      "outputs": [
        {
          "data": {
            "text/plain": [
              "87.97950679418331"
            ]
          },
          "execution_count": 54,
          "metadata": {},
          "output_type": "execute_result"
        }
      ],
      "source": [
        "mean_squared_error(y_length_test,Y_test_predicted_mlp_length)"
      ]
    },
    {
      "cell_type": "markdown",
      "metadata": {
        "id": "KH08UqHjyQzk"
      },
      "source": [
        "GradientBoostingRegressor"
      ]
    },
    {
      "cell_type": "code",
      "execution_count": 55,
      "metadata": {
        "id": "Jnm5k-66y8U0"
      },
      "outputs": [],
      "source": [
        "from sklearn.ensemble import GradientBoostingRegressor\n",
        "from sklearn.metrics import mean_squared_error"
      ]
    },
    {
      "cell_type": "code",
      "execution_count": 57,
      "metadata": {
        "colab": {
          "base_uri": "https://localhost:8080/"
        },
        "id": "GQTXaf6NyStP",
        "outputId": "f0aeb90f-b1c6-45b3-cd4e-567ce5aa8e66"
      },
      "outputs": [
        {
          "name": "stdout",
          "output_type": "stream",
          "text": [
            "0.1234760790813918\n"
          ]
        }
      ],
      "source": [
        "model_direction = GradientBoostingRegressor(n_estimators=100, learning_rate=0.1, max_depth=5, random_state=0).fit(X_direction_train, y_direction_train)\n",
        "errorgrad = mean_squared_error(y_direction_test, model_direction.predict(X_direction_test))\n",
        "print(errorgrad)"
      ]
    },
    {
      "cell_type": "code",
      "execution_count": 58,
      "metadata": {
        "colab": {
          "base_uri": "https://localhost:8080/"
        },
        "id": "wYcsagr4zPDD",
        "outputId": "96a6d322-4dd6-46a1-d682-38a667e4acaf"
      },
      "outputs": [
        {
          "name": "stdout",
          "output_type": "stream",
          "text": [
            "GradientBoostingRegressor(max_depth=5, random_state=0) GradientBoostingRegressor(max_depth=5, random_state=0)\n"
          ]
        }
      ],
      "source": [
        "model_length = GradientBoostingRegressor(n_estimators=100, learning_rate=0.1, max_depth=5, random_state=0).fit(X_length_train, y_length_train)\n",
        "mean_squared_error(y_length_test, model_length.predict(X_length_test))\n",
        "grad = [model_direction,model_length,errorgrad]\n",
        "print(grad[0],grad[1])"
      ]
    },
    {
      "cell_type": "code",
      "execution_count": 59,
      "metadata": {
        "colab": {
          "base_uri": "https://localhost:8080/"
        },
        "id": "1sqZC3NaScVA",
        "outputId": "45876485-b240-48db-e331-1d1a28b10612"
      },
      "outputs": [
        {
          "name": "stdout",
          "output_type": "stream",
          "text": [
            "GradientBoostingRegressor(max_depth=5, random_state=0)\n"
          ]
        }
      ],
      "source": [
        "print(grad[1])"
      ]
    },
    {
      "cell_type": "markdown",
      "metadata": {
        "id": "zOllYn-r0Srz"
      },
      "source": [
        "SVR"
      ]
    },
    {
      "cell_type": "code",
      "execution_count": 60,
      "metadata": {
        "id": "wBlYp82pznP1"
      },
      "outputs": [],
      "source": [
        "from sklearn.svm import SVR\n",
        "svr = SVR(kernel='rbf',C=1.0,epsilon=0.1,degree=3)\n",
        "svr1 = SVR(kernel='rbf',C=1.0,epsilon=0.1,degree=3)"
      ]
    },
    {
      "cell_type": "code",
      "execution_count": 61,
      "metadata": {
        "id": "qTy-xce60hgR"
      },
      "outputs": [],
      "source": [
        "model_direction_svr = svr.fit(X_direction_train, y_direction_train)\n",
        "model_length_svr = svr1.fit(X_length_train, y_length_train)"
      ]
    },
    {
      "cell_type": "code",
      "execution_count": 62,
      "metadata": {
        "id": "TjQ0Bdn41JOp"
      },
      "outputs": [],
      "source": [
        "Y_test_direction_predicted_svr = model_direction_svr.predict(X_direction_test)\n",
        "Y_test_length_predicted_svr = model_length_svr.predict(X_length_test)"
      ]
    },
    {
      "cell_type": "code",
      "execution_count": 63,
      "metadata": {
        "colab": {
          "base_uri": "https://localhost:8080/"
        },
        "id": "jEq4pShi2XeO",
        "outputId": "febe2767-c6fc-4843-af76-2aa0d80a811d"
      },
      "outputs": [
        {
          "name": "stdout",
          "output_type": "stream",
          "text": [
            "0.39575233831338785\n"
          ]
        }
      ],
      "source": [
        "errorsvr = mean_squared_error(y_direction_test,Y_test_direction_predicted_svr)\n",
        "print(errorsvr)\n",
        "svr = [model_direction_svr,model_length_svr,errorsvr]"
      ]
    },
    {
      "cell_type": "code",
      "execution_count": 64,
      "metadata": {
        "colab": {
          "base_uri": "https://localhost:8080/"
        },
        "id": "JY4tWuLV2iVq",
        "outputId": "0b5de91e-7953-4d75-ae36-83bc62c93436"
      },
      "outputs": [
        {
          "data": {
            "text/plain": [
              "0.0006096276606870387"
            ]
          },
          "execution_count": 64,
          "metadata": {},
          "output_type": "execute_result"
        }
      ],
      "source": [
        "mean_squared_error(y_length_test,Y_test_length_predicted_svr)"
      ]
    },
    {
      "cell_type": "markdown",
      "metadata": {
        "id": "M22tvNvj3nfq"
      },
      "source": [
        "LinearRegression"
      ]
    },
    {
      "cell_type": "code",
      "execution_count": 65,
      "metadata": {
        "id": "5qgNNU1s3pvT"
      },
      "outputs": [
        {
          "ename": "TypeError",
          "evalue": "LinearRegression.__init__() got an unexpected keyword argument 'normalize'",
          "output_type": "error",
          "traceback": [
            "\u001b[1;31m---------------------------------------------------------------------------\u001b[0m",
            "\u001b[1;31mTypeError\u001b[0m                                 Traceback (most recent call last)",
            "Cell \u001b[1;32mIn[65], line 2\u001b[0m\n\u001b[0;32m      1\u001b[0m \u001b[39mfrom\u001b[39;00m \u001b[39msklearn\u001b[39;00m\u001b[39m.\u001b[39;00m\u001b[39mlinear_model\u001b[39;00m \u001b[39mimport\u001b[39;00m LinearRegression\n\u001b[1;32m----> 2\u001b[0m lin_reg \u001b[39m=\u001b[39m LinearRegression(fit_intercept\u001b[39m=\u001b[39;49m\u001b[39mTrue\u001b[39;49;00m, normalize\u001b[39m=\u001b[39;49m\u001b[39mFalse\u001b[39;49;00m, copy_X\u001b[39m=\u001b[39;49m\u001b[39mTrue\u001b[39;49;00m, n_jobs\u001b[39m=\u001b[39;49m\u001b[39m1\u001b[39;49m)\n\u001b[0;32m      3\u001b[0m lin_reg1 \u001b[39m=\u001b[39m LinearRegression(fit_intercept\u001b[39m=\u001b[39m\u001b[39mTrue\u001b[39;00m, normalize\u001b[39m=\u001b[39m\u001b[39mFalse\u001b[39;00m, copy_X\u001b[39m=\u001b[39m\u001b[39mTrue\u001b[39;00m, n_jobs\u001b[39m=\u001b[39m\u001b[39m1\u001b[39m)\n",
            "\u001b[1;31mTypeError\u001b[0m: LinearRegression.__init__() got an unexpected keyword argument 'normalize'"
          ]
        }
      ],
      "source": [
        "from sklearn.linear_model import LinearRegression\n",
        "lin_reg = LinearRegression(fit_intercept=True, normalize=False, copy_X=True, n_jobs=1)\n",
        "lin_reg1 = LinearRegression(fit_intercept=True, normalize=False, copy_X=True, n_jobs=1)"
      ]
    },
    {
      "cell_type": "code",
      "execution_count": null,
      "metadata": {
        "id": "6VxMkwTm7Eri"
      },
      "outputs": [],
      "source": [
        "model_direction_lr = lin_reg.fit(X_direction_train, y_direction_train)\n",
        "model_length_lr = lin_reg1.fit(X_length_test,y_length_test)"
      ]
    },
    {
      "cell_type": "code",
      "execution_count": null,
      "metadata": {
        "colab": {
          "base_uri": "https://localhost:8080/"
        },
        "id": "Inq4HjjY7SRD",
        "outputId": "194734bd-d64e-482e-85c8-dc095e9bfa04"
      },
      "outputs": [
        {
          "name": "stdout",
          "output_type": "stream",
          "text": [
            "[4.58277833 3.71159502 4.76048724 3.93648421 4.61142283 3.97995992] [0.04343547 0.04504829 0.04576851 0.06709779 0.06735682 0.04248638]\n"
          ]
        }
      ],
      "source": [
        "Y_test_direction_predicted_lr = model_direction_lr.predict(X_direction_test)\n",
        "Y_test_length_predicted_lr = model_length_lr.predict(X_length_test)\n",
        "print(Y_test_direction_predicted_lr,Y_test_length_predicted_lr)"
      ]
    },
    {
      "cell_type": "code",
      "execution_count": null,
      "metadata": {
        "colab": {
          "base_uri": "https://localhost:8080/"
        },
        "id": "H1hISrOQ7WUc",
        "outputId": "dba7e79a-5395-4fff-f0cb-e6d2f9652555"
      },
      "outputs": [
        {
          "name": "stdout",
          "output_type": "stream",
          "text": [
            "0.1172227258015373\n"
          ]
        }
      ],
      "source": [
        "errorlr = mean_squared_error(y_direction_test,Y_test_direction_predicted_lr)\n",
        "print(errorlr)\n",
        "lr = [model_direction_lr,model_length_lr,errorlr]"
      ]
    },
    {
      "cell_type": "code",
      "execution_count": null,
      "metadata": {
        "colab": {
          "base_uri": "https://localhost:8080/"
        },
        "id": "vpM-DgPP7ZUv",
        "outputId": "36e4ed03-1050-4c6d-f6d0-1edcb3187633"
      },
      "outputs": [
        {
          "data": {
            "text/plain": [
              "1.552781017662209e-31"
            ]
          },
          "execution_count": 250,
          "metadata": {},
          "output_type": "execute_result"
        }
      ],
      "source": [
        "mean_squared_error(y_length_test,Y_test_length_predicted_lr)"
      ]
    },
    {
      "cell_type": "code",
      "execution_count": null,
      "metadata": {
        "colab": {
          "base_uri": "https://localhost:8080/"
        },
        "id": "7o4-dc8ncbfk",
        "outputId": "871e8ec2-bd78-41da-83b6-33eba42f716f"
      },
      "outputs": [
        {
          "name": "stdout",
          "output_type": "stream",
          "text": [
            "[0.2897304722261279, 26.584196403745647, 0.1234760790813918, 0.39575233831338785, 0.1172227258015373]\n",
            "0.1172227258015373\n"
          ]
        }
      ],
      "source": [
        "predvals = [errorlstm,errormlp,errorgrad,errorsvr,errorlr]\n",
        "print(predvals)\n",
        "\n",
        "minerror = min(predvals)\n",
        "print(minerror)"
      ]
    },
    {
      "cell_type": "code",
      "execution_count": null,
      "metadata": {
        "id": "O8omSFP_iIbS"
      },
      "outputs": [],
      "source": [
        "if minerror==errorlstm:\n",
        "  model_direction = lstm[0]\n",
        "  model_length = lstm[1]\n",
        "elif minerror==errormlp:\n",
        "  model_direction = mlp[0]\n",
        "  model_length = mlp[1]\n",
        "elif minerror==errorsvr:\n",
        "  model_direction = svr[0]\n",
        "  model_length = svr[1]\n",
        "elif minerror==errorlr:\n",
        "  model_direction = lr[0]\n",
        "  model_length = lr[1]"
      ]
    },
    {
      "cell_type": "code",
      "execution_count": null,
      "metadata": {
        "id": "jytTk_u1DUKr"
      },
      "outputs": [],
      "source": [
        "lat_min = df.Latitude.min()\n",
        "long_min = df.Longitude.min()\n",
        "temp_x = df.Latitude-lat_min\n",
        "temp_y = df.Longitude-long_min\n",
        "x_max = temp_x.max()\n",
        "y_max = temp_y.max()\n",
        "\n",
        "def coords_to_latlong(x, y, lat_min, long_min, x_max, y_max):\n",
        "    return (x*x_max)+lat_min, (y*y_max)+long_min"
      ]
    },
    {
      "cell_type": "code",
      "execution_count": null,
      "metadata": {
        "id": "cA4fO-8PB04p"
      },
      "outputs": [],
      "source": [
        "gdf_pred = gdf[[\"Latitude\", \"Longitude\", \"Maximum Wind\", \"x\", \"y\", \"month\", \"hour\", \"prev_len\", \"prev_direction\", \"vec_len\", \"vec_direction\"]][gdf.CycloneName==name[0]]\n",
        "X_pred_direction = gdf_pred[[\"Maximum Wind\", \"x\", \"y\", \"month\", \"hour\", \"prev_len\", \"prev_direction\"]].iloc[1:].values\n",
        "X_pred_len = gdf_pred[[\"Maximum Wind\", \"x\", \"y\", \"month\", \"hour\", \"prev_len\", \"prev_direction\"]].iloc[1:].values"
      ]
    },
    {
      "cell_type": "code",
      "execution_count": null,
      "metadata": {
        "id": "SBxDDNvxCOhc"
      },
      "outputs": [],
      "source": [
        "df_pred = pd.DataFrame({\"pred_len\": model_length.predict(X_pred_len), \"pred_direction\": model_direction.predict(X_pred_direction)})"
      ]
    },
    {
      "cell_type": "code",
      "execution_count": null,
      "metadata": {
        "id": "FgZiVXWGCTb0"
      },
      "outputs": [],
      "source": [
        "df_pred[\"pred_x\"] = np.nan\n",
        "df_pred[\"pred_y\"] = np.nan\n",
        "df_pred[\"real_x\"] = gdf_pred[\"x\"].iloc[1:].values\n",
        "df_pred[\"real_y\"] = gdf_pred[\"y\"].iloc[1:].values"
      ]
    },
    {
      "cell_type": "code",
      "execution_count": null,
      "metadata": {
        "id": "98IX4iADCYmu"
      },
      "outputs": [],
      "source": [
        "last_x = gdf_pred[\"x\"].iloc[0]\n",
        "last_y = gdf_pred[\"y\"].iloc[0]\n",
        "coords = {\"x\": [], \"y\": [], \"id\": []}\n",
        "for i, row in df_pred.iterrows():\n",
        "    vector = np.array([0,1])\n",
        "    R = np.array([[np.cos(row.pred_direction), -np.sin(row.pred_direction)], [np.sin(row.pred_direction), np.cos(row.pred_direction)]])\n",
        "    vector = np.matmul(vector, R)\n",
        "    vector = vector/np.linalg.norm(vector)\n",
        "    vector *= row.pred_len\n",
        "    coords[\"x\"].append(last_x+vector[0])\n",
        "    coords[\"y\"].append(last_y+vector[1])\n",
        "    coords[\"id\"].append(i)\n",
        "    last_x = row.real_x\n",
        "    last_y = row.real_y\n",
        "df_pred.loc[coords[\"id\"], \"pred_x\"] = coords[\"x\"]\n",
        "df_pred.loc[coords[\"id\"], \"pred_y\"] = coords[\"y\"]"
      ]
    },
    {
      "cell_type": "code",
      "execution_count": null,
      "metadata": {
        "id": "g4FdNz8cCpj9"
      },
      "outputs": [],
      "source": [
        "df_pred[\"pred_Longitude\"] = np.nan\n",
        "df_pred[\"real_Longitude\"] = np.nan\n",
        "df_pred[\"pred_Latitude\"] = np.nan\n",
        "df_pred[\"real_Latitude\"] = np.nan\n",
        "latslongs = {\"pred_Longitude\": [], \"real_Longitude\": [], \"pred_Latitude\": [], \"real_Latitude\": [], \"id\": []}\n",
        "for i, row in df_pred.iterrows():\n",
        "    real_Latitude, real_Longitude = coords_to_latlong(row.real_x, row.real_y, lat_min, long_min, x_max, y_max)\n",
        "    latslongs[\"real_Latitude\"].append(real_Latitude)\n",
        "    latslongs[\"real_Longitude\"].append(real_Longitude)\n",
        "    pred_Latitude, pred_Longitude = coords_to_latlong(row.pred_x, row.pred_y, lat_min, long_min, x_max, y_max)\n",
        "    latslongs[\"pred_Latitude\"].append(pred_Latitude)\n",
        "    latslongs[\"pred_Longitude\"].append(pred_Longitude)\n",
        "    latslongs[\"id\"].append(i)\n",
        "df_pred.loc[latslongs[\"id\"], \"real_Latitude\"] = latslongs[\"real_Latitude\"]\n",
        "df_pred.loc[latslongs[\"id\"], \"real_Longitude\"] = latslongs[\"real_Longitude\"]\n",
        "df_pred.loc[latslongs[\"id\"], \"pred_Latitude\"] = latslongs[\"pred_Latitude\"]\n",
        "df_pred.loc[latslongs[\"id\"], \"pred_Longitude\"] = latslongs[\"pred_Longitude\"]"
      ]
    },
    {
      "cell_type": "code",
      "execution_count": null,
      "metadata": {
        "id": "M7abbDQ0CqhL"
      },
      "outputs": [],
      "source": [
        "gdf_real = gpd.GeoDataFrame(df_pred,geometry=gpd.points_from_xy(df_pred.real_Longitude,df_pred.real_Latitude), crs={'init' :'epsg:4326'})\n",
        "gdf_pred = gpd.GeoDataFrame(df_pred,geometry=gpd.points_from_xy(df_pred.pred_Longitude,df_pred.pred_Latitude), crs={'init' :'epsg:4326'})"
      ]
    },
    {
      "cell_type": "code",
      "execution_count": null,
      "metadata": {
        "colab": {
          "base_uri": "https://localhost:8080/",
          "height": 1000
        },
        "id": "uvMkEi1eCvnE",
        "outputId": "6a8ec116-88d0-4ff2-c606-31063967575b"
      },
      "outputs": [
        {
          "data": {
            "image/png": "[encoded data removed]",
            "text/plain": [
              "<Figure size 1800x1440 with 1 Axes>"
            ]
          },
          "metadata": {
            "needs_background": "light"
          },
          "output_type": "display_data"
        }
      ],
      "source": [
        "ax = world.plot(color=\"white\", edgecolor=\"black\", figsize=(25,20))\n",
        "_ = gdf_real.plot(ax=ax, c=\"r\", marker=\"x\", alpha=0.5)\n",
        "_ = gdf_pred.plot(ax=ax, c=\"b\", marker=\"x\", alpha=0.5)\n",
        "_ = plt.xlim(-90, 0)\n",
        "_ = plt.ylim(0, 90)"
      ]
    }
  ],
  "metadata": {
    "colab": {
      "provenance": []
    },
    "kernelspec": {
      "display_name": "Python 3",
      "language": "python",
      "name": "python3"
    },
    "language_info": {
      "codemirror_mode": {
        "name": "ipython",
        "version": 3
      },
      "file_extension": ".py",
      "mimetype": "text/x-python",
      "name": "python",
      "nbconvert_exporter": "python",
      "pygments_lexer": "ipython3",
      "version": "3.11.2"
    },
    "vscode": {
      "interpreter": {
        "hash": "7c4d4cb5ae58afa594443b56049e51eca319f894c353478d1532c1519494cb6d"
      }
    }
  },
  "nbformat": 4,
  "nbformat_minor": 0
}
